{
 "cells": [
  {
   "cell_type": "code",
   "execution_count": 1,
   "id": "abdc0e15",
   "metadata": {
    "_cell_guid": "b1076dfc-b9ad-4769-8c92-a6c4dae69d19",
    "_uuid": "8f2839f25d086af736a60e9eeb907d3b93b6e0e5",
    "execution": {
     "iopub.execute_input": "2023-04-18T04:16:16.085712Z",
     "iopub.status.busy": "2023-04-18T04:16:16.084964Z",
     "iopub.status.idle": "2023-04-18T04:16:25.355714Z",
     "shell.execute_reply": "2023-04-18T04:16:25.354430Z"
    },
    "papermill": {
     "duration": 9.280422,
     "end_time": "2023-04-18T04:16:25.358808",
     "exception": false,
     "start_time": "2023-04-18T04:16:16.078386",
     "status": "completed"
    },
    "tags": []
   },
   "outputs": [],
   "source": [
    "import pandas as pd\n",
    "import numpy as np\n",
    "import tensorflow as tf\n",
    "import keras\n",
    "import matplotlib.pyplot as plt\n",
    "import os\n",
    "import cv2\n",
    "from sklearn.model_selection import train_test_split\n",
    "from tqdm import tqdm  # import tqdm for progress bar \n",
    "from tensorflow.keras.preprocessing.image import load_img, img_to_array"
   ]
  },
  {
   "cell_type": "code",
   "execution_count": 2,
   "id": "029fb13e",
   "metadata": {},
   "outputs": [],
   "source": [
    "target_labels = ['Tomato___Bacterial_spot', 'Tomato___Early_blight', 'Tomato___healthy', 'Tomato___Late_blight', 'Tomato___Leaf_Mold', 'Tomato___Septoria_leaf_spot', 'Tomato___Spider_mites Two-spotted_spider_mite', 'Tomato___Target_Spot', 'Tomato___Tomato_mosaic_virus', 'Tomato___Tomato_Yellow_Leaf_Curl_Virus']"
   ]
  },
  {
   "cell_type": "code",
   "execution_count": 3,
   "id": "3b5aafe7",
   "metadata": {},
   "outputs": [],
   "source": [
    "main_path = 'data_penyakit/dataset/train'"
   ]
  },
  {
   "cell_type": "code",
   "execution_count": 4,
   "id": "2f597e77",
   "metadata": {},
   "outputs": [],
   "source": [
    "# Load the images and labels\n",
    "X = []\n",
    "y = []\n",
    "for label in target_labels:\n",
    "    label_dir = os.path.join(main_path, label)\n",
    "    for img_file in os.listdir(label_dir):\n",
    "        img_path = os.path.join(label_dir, img_file)\n",
    "        img = load_img(img_path, target_size=(128, 128))\n",
    "        img_array = img_to_array(img)\n",
    "        X.append(img_array)\n",
    "        y.append(target_labels.index(label))"
   ]
  },
  {
   "cell_type": "code",
   "execution_count": 5,
   "id": "b9dbf5f2",
   "metadata": {},
   "outputs": [],
   "source": [
    "from tensorflow.keras.utils import to_categorical"
   ]
  },
  {
   "cell_type": "code",
   "execution_count": 6,
   "id": "ace077d5",
   "metadata": {},
   "outputs": [],
   "source": [
    "X = np.array(X)\n",
    "y = to_categorical(y, num_classes=len(target_labels))"
   ]
  },
  {
   "cell_type": "code",
   "execution_count": 7,
   "id": "662f02bf",
   "metadata": {},
   "outputs": [
    {
     "data": {
      "text/plain": [
       "(18345, 128, 128, 3)"
      ]
     },
     "execution_count": 7,
     "metadata": {},
     "output_type": "execute_result"
    }
   ],
   "source": [
    "X.shape"
   ]
  },
  {
   "cell_type": "code",
   "execution_count": 8,
   "id": "2f9c331c",
   "metadata": {},
   "outputs": [
    {
     "data": {
      "text/plain": [
       "(18345, 10)"
      ]
     },
     "execution_count": 8,
     "metadata": {},
     "output_type": "execute_result"
    }
   ],
   "source": [
    "y.shape"
   ]
  },
  {
   "cell_type": "code",
   "execution_count": 9,
   "id": "baf5e6d5",
   "metadata": {},
   "outputs": [],
   "source": [
    "# Split the dataset into training and testing sets\n",
    "X_train, X_test, y_train, y_test = train_test_split(X, y, test_size=0.2, random_state=42)"
   ]
  },
  {
   "cell_type": "code",
   "execution_count": 10,
   "id": "40b67d77",
   "metadata": {},
   "outputs": [
    {
     "data": {
      "text/plain": [
       "(14676, 128, 128, 3)"
      ]
     },
     "execution_count": 10,
     "metadata": {},
     "output_type": "execute_result"
    }
   ],
   "source": [
    "X_train.shape"
   ]
  },
  {
   "cell_type": "code",
   "execution_count": 11,
   "id": "6e94256d",
   "metadata": {},
   "outputs": [
    {
     "data": {
      "text/plain": [
       "(3669, 128, 128, 3)"
      ]
     },
     "execution_count": 11,
     "metadata": {},
     "output_type": "execute_result"
    }
   ],
   "source": [
    "X_test.shape"
   ]
  },
  {
   "cell_type": "code",
   "execution_count": 12,
   "id": "b0d4c1c4",
   "metadata": {},
   "outputs": [
    {
     "data": {
      "text/plain": [
       "(14676, 10)"
      ]
     },
     "execution_count": 12,
     "metadata": {},
     "output_type": "execute_result"
    }
   ],
   "source": [
    "y_train.shape"
   ]
  },
  {
   "cell_type": "code",
   "execution_count": 13,
   "id": "c2c2d702",
   "metadata": {},
   "outputs": [
    {
     "data": {
      "text/plain": [
       "(3669, 10)"
      ]
     },
     "execution_count": 13,
     "metadata": {},
     "output_type": "execute_result"
    }
   ],
   "source": [
    "y_test.shape"
   ]
  },
  {
   "cell_type": "code",
   "execution_count": 14,
   "id": "5e41a857",
   "metadata": {
    "execution": {
     "iopub.execute_input": "2023-04-18T04:16:25.367398Z",
     "iopub.status.busy": "2023-04-18T04:16:25.366661Z",
     "iopub.status.idle": "2023-04-18T04:16:25.924165Z",
     "shell.execute_reply": "2023-04-18T04:16:25.922865Z"
    },
    "papermill": {
     "duration": 0.564776,
     "end_time": "2023-04-18T04:16:25.927003",
     "exception": false,
     "start_time": "2023-04-18T04:16:25.362227",
     "status": "completed"
    },
    "tags": []
   },
   "outputs": [],
   "source": [
    "from keras.layers import Conv2D\n",
    "from keras.layers import MaxPooling2D\n",
    "from keras.layers import Flatten\n",
    "from keras.layers import Dense\n",
    "from keras.layers import Dropout\n",
    "from keras.layers import BatchNormalization\n",
    "from keras.models import Sequential"
   ]
  },
  {
   "cell_type": "code",
   "execution_count": 15,
   "id": "09879ed9",
   "metadata": {},
   "outputs": [
    {
     "data": {
      "text/plain": [
       "10"
      ]
     },
     "execution_count": 15,
     "metadata": {},
     "output_type": "execute_result"
    }
   ],
   "source": [
    "len(target_labels)"
   ]
  },
  {
   "cell_type": "code",
   "execution_count": 17,
   "id": "da588d2f",
   "metadata": {},
   "outputs": [],
   "source": [
    "cnn_model = Sequential()\n",
    "cnn_model.add(Conv2D(128, kernel_size= (3,3), activation = 'relu',input_shape=(128,128,3)))\n",
    "cnn_model.add(MaxPooling2D(pool_size =(2,2,)))\n",
    "cnn_model.add(BatchNormalization())\n",
    "cnn_model.add(Conv2D(64,kernel_size= (3,3), activation = 'relu'))\n",
    "cnn_model.add(MaxPooling2D(pool_size =(2,2,)))\n",
    "cnn_model.add(BatchNormalization())\n",
    "cnn_model.add(Conv2D(32,kernel_size= (3,3), activation = 'relu'))\n",
    "cnn_model.add(MaxPooling2D(pool_size =(2,2,)))\n",
    "cnn_model.add(BatchNormalization())\n",
    "cnn_model.add(Conv2D(16,kernel_size= (3,3), activation = 'relu'))\n",
    "cnn_model.add(MaxPooling2D(pool_size =(2,2,)))\n",
    "cnn_model.add(BatchNormalization())\n",
    "\n",
    "cnn_model.add(Flatten())\n",
    "cnn_model.add(Dense(128, activation = 'relu'))\n",
    "cnn_model.add(Dropout(0.3))\n",
    "cnn_model.add(Dense(len(target_labels), activation='softmax'))\n",
    "cnn_model.compile(loss='categorical_crossentropy', optimizer='sgd', metrics=['accuracy'])"
   ]
  },
  {
   "cell_type": "code",
   "execution_count": 18,
   "id": "8823bd0d",
   "metadata": {},
   "outputs": [
    {
     "name": "stdout",
     "output_type": "stream",
     "text": [
      "Epoch 1/10\n"
     ]
    },
    {
     "name": "stderr",
     "output_type": "stream",
     "text": [
      "2023-05-30 22:51:19.320543: W tensorflow/tsl/platform/profile_utils/cpu_utils.cc:128] Failed to get CPU frequency: 0 Hz\n"
     ]
    },
    {
     "name": "stdout",
     "output_type": "stream",
     "text": [
      "459/459 [==============================] - 270s 586ms/step - loss: 1.2667 - accuracy: 0.5671 - val_loss: 1.6161 - val_accuracy: 0.5388\n",
      "Epoch 2/10\n",
      "459/459 [==============================] - 267s 582ms/step - loss: 0.6947 - accuracy: 0.7570 - val_loss: 1.2141 - val_accuracy: 0.6064\n",
      "Epoch 3/10\n",
      "459/459 [==============================] - 274s 598ms/step - loss: 0.5276 - accuracy: 0.8179 - val_loss: 0.7768 - val_accuracy: 0.7394\n",
      "Epoch 4/10\n",
      "459/459 [==============================] - 273s 595ms/step - loss: 0.4451 - accuracy: 0.8478 - val_loss: 0.9008 - val_accuracy: 0.7190\n",
      "Epoch 5/10\n",
      "459/459 [==============================] - 253s 550ms/step - loss: 0.3874 - accuracy: 0.8653 - val_loss: 0.7492 - val_accuracy: 0.7441\n",
      "Epoch 6/10\n",
      "459/459 [==============================] - 264s 575ms/step - loss: 0.3506 - accuracy: 0.8803 - val_loss: 0.3148 - val_accuracy: 0.8926\n",
      "Epoch 7/10\n",
      "459/459 [==============================] - 270s 587ms/step - loss: 0.3085 - accuracy: 0.8932 - val_loss: 0.2863 - val_accuracy: 0.8981\n",
      "Epoch 8/10\n",
      "459/459 [==============================] - 280s 611ms/step - loss: 0.2840 - accuracy: 0.9009 - val_loss: 1.2103 - val_accuracy: 0.6233\n",
      "Epoch 9/10\n",
      "459/459 [==============================] - 277s 605ms/step - loss: 0.2649 - accuracy: 0.9103 - val_loss: 0.4163 - val_accuracy: 0.8610\n",
      "Epoch 10/10\n",
      "459/459 [==============================] - 288s 627ms/step - loss: 0.2385 - accuracy: 0.9186 - val_loss: 0.5201 - val_accuracy: 0.8291\n"
     ]
    }
   ],
   "source": [
    "# Train the CNN model\n",
    "cnn_history = cnn_model.fit(X_train, y_train, validation_data=(X_test, y_test), epochs=10)"
   ]
  },
  {
   "cell_type": "code",
   "execution_count": 19,
   "id": "dd6f0284",
   "metadata": {},
   "outputs": [
    {
     "name": "stdout",
     "output_type": "stream",
     "text": [
      "CNN Model Accuracy: 82.91%\n"
     ]
    }
   ],
   "source": [
    "# Evaluate the performance of the trained CNN model on the test set\n",
    "cnn_scores = cnn_model.evaluate(X_test, y_test, verbose=0)\n",
    "print(\"CNN Model Accuracy: %.2f%%\" % (cnn_scores[1] * 100))"
   ]
  },
  {
   "cell_type": "code",
   "execution_count": 20,
   "id": "39cbe557",
   "metadata": {},
   "outputs": [
    {
     "data": {
      "text/plain": [
       "[0.5201250314712524, 0.8291087746620178]"
      ]
     },
     "execution_count": 20,
     "metadata": {},
     "output_type": "execute_result"
    }
   ],
   "source": [
    "cnn_scores"
   ]
  },
  {
   "cell_type": "code",
   "execution_count": 21,
   "id": "5ecd6704",
   "metadata": {},
   "outputs": [
    {
     "name": "stdout",
     "output_type": "stream",
     "text": [
      "115/115 [==============================] - 18s 151ms/step\n",
      "Accuracy: 82.91%\n",
      "Precision: 86.01%\n",
      "Recall: 82.91%\n",
      "F1 score: 82.70%\n"
     ]
    }
   ],
   "source": [
    "from sklearn.metrics import accuracy_score, precision_score, recall_score, f1_score\n",
    "\n",
    "# Use the model to predict the test dataset\n",
    "y_pred_prob = cnn_model.predict(X_test)\n",
    "\n",
    "# Convert probabilities to classes\n",
    "y_pred = np.argmax(y_pred_prob, axis=1)\n",
    "\n",
    "# If y_test is one-hot encoded, convert it to classes as well\n",
    "y_test_classes = np.argmax(y_test, axis=1)\n",
    "\n",
    "# Calculate accuracy\n",
    "accuracy = accuracy_score(y_test_classes, y_pred)\n",
    "\n",
    "# Calculate precision\n",
    "precision = precision_score(y_test_classes, y_pred, average='weighted') \n",
    "\n",
    "# Calculate recall\n",
    "recall = recall_score(y_test_classes, y_pred, average='weighted') \n",
    "\n",
    "# Calculate F1 score\n",
    "f1 = f1_score(y_test_classes, y_pred, average='weighted')\n",
    "\n",
    "# Print the metrics\n",
    "print(\"Accuracy: %.2f%%\" % (accuracy * 100))\n",
    "print(\"Precision: %.2f%%\" % (precision * 100))\n",
    "print(\"Recall: %.2f%%\" % (recall * 100))\n",
    "print(\"F1 score: %.2f%%\" % (f1 * 100))"
   ]
  },
  {
   "cell_type": "code",
   "execution_count": 22,
   "id": "2717cf9c",
   "metadata": {},
   "outputs": [
    {
     "name": "stdout",
     "output_type": "stream",
     "text": [
      "459/459 [==============================] - 74s 161ms/step\n"
     ]
    }
   ],
   "source": [
    "# Extract the features using the trained CNN model\n",
    "cnn_features = cnn_model.predict(X_train)"
   ]
  },
  {
   "attachments": {},
   "cell_type": "markdown",
   "id": "51f5305b",
   "metadata": {},
   "source": [
    "# rf"
   ]
  },
  {
   "cell_type": "code",
   "execution_count": 23,
   "id": "ef382519",
   "metadata": {},
   "outputs": [],
   "source": [
    "import time"
   ]
  },
  {
   "cell_type": "code",
   "execution_count": 24,
   "id": "136af6d3",
   "metadata": {},
   "outputs": [],
   "source": [
    "# import the Random Forest classifier\n",
    "from RF_Manual import RandomForest"
   ]
  },
  {
   "cell_type": "code",
   "execution_count": 25,
   "id": "04ea4431",
   "metadata": {},
   "outputs": [],
   "source": [
    "# Train a Random Forest classifier on the extracted features\n",
    "start_time = time.time()\n",
    "rf_classifier = RandomForest(n_trees=100, max_depth=42)\n",
    "rf_classifier.fit(cnn_features, np.argmax(y_train, axis=1))\n",
    "\n",
    "# count time for training\n",
    "end_time = time.time()\n",
    "training_time = end_time - start_time\n",
    "print(f\"Training time: {training_time} seconds\")"
   ]
  },
  {
   "cell_type": "code",
   "execution_count": null,
   "id": "a3c2e141",
   "metadata": {},
   "outputs": [
    {
     "name": "stdout",
     "output_type": "stream",
     "text": [
      "115/115 [==============================] - 22s 192ms/step\n",
      "Random Forest Classifier Accuracy: 95.04%\n",
      "Random Forest Classifier Precision: 0.95\n",
      "Random Forest Classifier Recall: 0.95\n",
      "Random Forest Classifier F1 Score: 0.95\n"
     ]
    }
   ],
   "source": [
    "from sklearn.metrics import precision_score, recall_score, f1_score\n",
    "\n",
    "# Evaluate the performance of the Random Forest classifier on the test set\n",
    "rf_features = cnn_model.predict(X_test)\n",
    "rf_features = rf_features.reshape(rf_features.shape[0], -1)\n",
    "rf_predictions = rf_classifier.predict(rf_features)\n",
    "rf_accuracy = np.mean(rf_predictions == np.argmax(y_test, axis=1))\n",
    "print(\"Random Forest Classifier Accuracy: %.2f%%\" % (rf_accuracy * 100))\n",
    "\n",
    "# Calculate and print the Precision\n",
    "rf_precision = precision_score(np.argmax(y_test, axis=1), rf_predictions, average='weighted')\n",
    "print(\"Random Forest Classifier Precision: %.2f\" % rf_precision)\n",
    "\n",
    "# Calculate and print the Recall\n",
    "rf_recall = recall_score(np.argmax(y_test, axis=1), rf_predictions, average='weighted')\n",
    "print(\"Random Forest Classifier Recall: %.2f\" % rf_recall)\n",
    "\n",
    "# Calculate and print the F1 score\n",
    "rf_f1_score = f1_score(np.argmax(y_test, axis=1), rf_predictions, average='weighted')\n",
    "print(\"Random Forest Classifier F1 Score: %.2f\" % rf_f1_score)"
   ]
  },
  {
   "attachments": {},
   "cell_type": "markdown",
   "id": "f5b683d5",
   "metadata": {},
   "source": [
    "# tes"
   ]
  },
  {
   "cell_type": "code",
   "execution_count": null,
   "id": "e32b9676",
   "metadata": {},
   "outputs": [],
   "source": [
    "#Label assignment\n",
    "label=['Tomato___Bacterial_spot', \n",
    "       'Tomato___Early_blight', \n",
    "       'Tomato___healthy', \n",
    "       'Tomato___Late_blight', \n",
    "       'Tomato___Leaf_Mold', \n",
    "       'Tomato___Septoria_leaf_spot', \n",
    "       'Tomato___Spider_mites Two-spotted_spider_mite', \n",
    "       'Tomato___Target_Spot', \n",
    "       'Tomato___Tomato_mosaic_virus', \n",
    "       'Tomato___Tomato_Yellow_Leaf_Curl_Virus']"
   ]
  },
  {
   "attachments": {},
   "cell_type": "markdown",
   "id": "70f63e38",
   "metadata": {},
   "source": [
    "# tes cnn"
   ]
  },
  {
   "cell_type": "code",
   "execution_count": null,
   "id": "574715b7",
   "metadata": {},
   "outputs": [
    {
     "name": "stdout",
     "output_type": "stream",
     "text": [
      "1/1 [==============================] - 0s 118ms/step\n",
      "Result is --> [[9.7229916e-01 2.0345440e-02 3.1472297e-05 2.9144338e-03 2.2170836e-06\n",
      "  1.5773816e-03 5.9209775e-05 2.5844520e-03 3.3331517e-07 1.8588614e-04]]\n",
      "your leaf disease is --> Tomato___Bacterial_spot\n"
     ]
    }
   ],
   "source": [
    "#path=input(\"Enter your image path-: \")\n",
    "def testing(path):\n",
    "    test_image=load_img(path,target_size=(128,128))\n",
    "    #print(test_image)\n",
    "    test_image=img_to_array(test_image)\n",
    "    test_image=np.expand_dims(test_image,axis=0)\n",
    "    result = cnn_model.predict(test_image)\n",
    "\n",
    "    label2=label[result.argmax()]\n",
    "    print(f\"Result is --> {result}\")\n",
    "    print(f\"your leaf disease is --> {label2}\")\n",
    "#testing(input(\"Enter your image path-: \"))\n",
    "path='data_penyakit/tomat/tomato-bacterial-spot-1.JPG'\n",
    "testing(path)"
   ]
  },
  {
   "cell_type": "code",
   "execution_count": null,
   "id": "9db55db7",
   "metadata": {},
   "outputs": [
    {
     "name": "stdout",
     "output_type": "stream",
     "text": [
      "1/1 [==============================] - 0s 63ms/step\n",
      "Your leaf disease is --> Tomato___Septoria_leaf_spot\n",
      "\n",
      "\n",
      "1/1 [==============================] - 0s 62ms/step\n",
      "Your leaf disease is --> Tomato___healthy\n",
      "\n",
      "\n",
      "1/1 [==============================] - 0s 61ms/step\n",
      "Your leaf disease is --> Tomato___Spider_mites Two-spotted_spider_mite\n",
      "\n",
      "\n",
      "1/1 [==============================] - 0s 45ms/step\n",
      "Your leaf disease is --> Tomato___Tomato_Yellow_Leaf_Curl_Virus\n",
      "\n",
      "\n",
      "1/1 [==============================] - 0s 70ms/step\n",
      "Your leaf disease is --> Tomato___Bacterial_spot\n",
      "\n",
      "\n",
      "1/1 [==============================] - 0s 76ms/step\n",
      "Your leaf disease is --> Tomato___Early_blight\n",
      "\n",
      "\n",
      "1/1 [==============================] - 0s 63ms/step\n",
      "Your leaf disease is --> Tomato___Early_blight\n",
      "\n",
      "\n",
      "1/1 [==============================] - 0s 52ms/step\n",
      "Your leaf disease is --> Tomato___Bacterial_spot\n",
      "\n",
      "\n",
      "1/1 [==============================] - 0s 47ms/step\n",
      "Your leaf disease is --> Tomato___Tomato_Yellow_Leaf_Curl_Virus\n",
      "\n",
      "\n",
      "1/1 [==============================] - 0s 75ms/step\n",
      "Your leaf disease is --> Tomato___Septoria_leaf_spot\n",
      "\n",
      "\n",
      "1/1 [==============================] - 0s 68ms/step\n",
      "Your leaf disease is --> Tomato___healthy\n",
      "\n",
      "\n",
      "1/1 [==============================] - 0s 48ms/step\n",
      "Your leaf disease is --> Tomato___Spider_mites Two-spotted_spider_mite\n",
      "\n",
      "\n",
      "1/1 [==============================] - 0s 68ms/step\n",
      "Your leaf disease is --> Tomato___Bacterial_spot\n",
      "\n",
      "\n",
      "1/1 [==============================] - 0s 99ms/step\n",
      "Your leaf disease is --> Tomato___Bacterial_spot\n",
      "\n",
      "\n",
      "1/1 [==============================] - 0s 49ms/step\n",
      "Your leaf disease is --> Tomato___Tomato_Yellow_Leaf_Curl_Virus\n",
      "\n",
      "\n",
      "1/1 [==============================] - 0s 57ms/step\n",
      "Your leaf disease is --> Tomato___Target_Spot\n",
      "\n",
      "\n",
      "1/1 [==============================] - 0s 54ms/step\n",
      "Your leaf disease is --> Tomato___healthy\n",
      "\n",
      "\n",
      "1/1 [==============================] - 0s 53ms/step\n",
      "Your leaf disease is --> Tomato___Septoria_leaf_spot\n",
      "\n",
      "\n",
      "1/1 [==============================] - 0s 75ms/step\n",
      "Your leaf disease is --> Tomato___Tomato_Yellow_Leaf_Curl_Virus\n",
      "\n",
      "\n",
      "1/1 [==============================] - 0s 55ms/step\n",
      "Your leaf disease is --> Tomato___Bacterial_spot\n",
      "\n",
      "\n",
      "1/1 [==============================] - 0s 56ms/step\n",
      "Your leaf disease is --> Tomato___Tomato_Yellow_Leaf_Curl_Virus\n",
      "\n",
      "\n",
      "Cannot open .DS_Store\n",
      "\n",
      "\n",
      "1/1 [==============================] - 0s 43ms/step\n",
      "Your leaf disease is --> Tomato___Late_blight\n",
      "\n",
      "\n",
      "1/1 [==============================] - 0s 57ms/step\n",
      "Your leaf disease is --> Tomato___Bacterial_spot\n",
      "\n",
      "\n",
      "1/1 [==============================] - 0s 59ms/step\n",
      "Your leaf disease is --> Tomato___Tomato_Yellow_Leaf_Curl_Virus\n",
      "\n",
      "\n",
      "1/1 [==============================] - 0s 44ms/step\n",
      "Your leaf disease is --> Tomato___Tomato_mosaic_virus\n",
      "\n",
      "\n",
      "1/1 [==============================] - 0s 61ms/step\n",
      "Your leaf disease is --> Tomato___Septoria_leaf_spot\n",
      "\n",
      "\n",
      "1/1 [==============================] - 0s 49ms/step\n",
      "Your leaf disease is --> Tomato___healthy\n",
      "\n",
      "\n",
      "1/1 [==============================] - 0s 63ms/step\n",
      "Your leaf disease is --> Tomato___healthy\n",
      "\n",
      "\n",
      "1/1 [==============================] - 0s 47ms/step\n",
      "Your leaf disease is --> Tomato___Septoria_leaf_spot\n",
      "\n",
      "\n",
      "1/1 [==============================] - 0s 49ms/step\n",
      "Your leaf disease is --> Tomato___Target_Spot\n",
      "\n",
      "\n",
      "1/1 [==============================] - 0s 94ms/step\n",
      "Your leaf disease is --> Tomato___Tomato_Yellow_Leaf_Curl_Virus\n",
      "\n",
      "\n",
      "1/1 [==============================] - 0s 46ms/step\n",
      "Your leaf disease is --> Tomato___Bacterial_spot\n",
      "\n",
      "\n",
      "1/1 [==============================] - 0s 56ms/step\n",
      "Your leaf disease is --> Tomato___Late_blight\n",
      "\n",
      "\n",
      "1/1 [==============================] - 0s 48ms/step\n",
      "Your leaf disease is --> Tomato___Tomato_mosaic_virus\n",
      "\n",
      "\n",
      "1/1 [==============================] - 0s 46ms/step\n",
      "Your leaf disease is --> Tomato___Septoria_leaf_spot\n",
      "\n",
      "\n",
      "1/1 [==============================] - 0s 67ms/step\n",
      "Your leaf disease is --> Tomato___healthy\n",
      "\n",
      "\n",
      "1/1 [==============================] - 0s 71ms/step\n",
      "Your leaf disease is --> Tomato___Late_blight\n",
      "\n",
      "\n",
      "1/1 [==============================] - 0s 61ms/step\n",
      "Your leaf disease is --> Tomato___Target_Spot\n",
      "\n",
      "\n",
      "1/1 [==============================] - 0s 55ms/step\n",
      "Your leaf disease is --> Tomato___Target_Spot\n",
      "\n",
      "\n",
      "1/1 [==============================] - 0s 48ms/step\n",
      "Your leaf disease is --> Tomato___Late_blight\n",
      "\n",
      "\n",
      "1/1 [==============================] - 0s 53ms/step\n",
      "Your leaf disease is --> Tomato___Tomato_mosaic_virus\n",
      "\n",
      "\n",
      "1/1 [==============================] - 0s 93ms/step\n",
      "Your leaf disease is --> Tomato___Late_blight\n",
      "\n",
      "\n",
      "1/1 [==============================] - 0s 57ms/step\n",
      "Your leaf disease is --> Tomato___Late_blight\n",
      "\n",
      "\n",
      "1/1 [==============================] - 0s 62ms/step\n",
      "Your leaf disease is --> Tomato___Target_Spot\n",
      "\n",
      "\n",
      "1/1 [==============================] - 0s 196ms/step\n",
      "Your leaf disease is --> Tomato___Tomato_mosaic_virus\n",
      "\n",
      "\n",
      "1/1 [==============================] - 0s 65ms/step\n",
      "Your leaf disease is --> Tomato___Late_blight\n",
      "\n",
      "\n",
      "1/1 [==============================] - 0s 53ms/step\n",
      "Your leaf disease is --> Tomato___Late_blight\n",
      "\n",
      "\n",
      "1/1 [==============================] - 0s 59ms/step\n",
      "Your leaf disease is --> Tomato___Target_Spot\n",
      "\n",
      "\n",
      "1/1 [==============================] - 0s 46ms/step\n",
      "Your leaf disease is --> Tomato___Leaf_Mold\n",
      "\n",
      "\n",
      "1/1 [==============================] - 0s 65ms/step\n",
      "Your leaf disease is --> Tomato___Septoria_leaf_spot\n",
      "\n",
      "\n",
      "1/1 [==============================] - 0s 78ms/step\n",
      "Your leaf disease is --> Tomato___Leaf_Mold\n",
      "\n",
      "\n",
      "1/1 [==============================] - 0s 47ms/step\n",
      "Your leaf disease is --> Tomato___Leaf_Mold\n",
      "\n",
      "\n",
      "1/1 [==============================] - 0s 69ms/step\n",
      "Your leaf disease is --> Tomato___Leaf_Mold\n",
      "\n",
      "\n",
      "1/1 [==============================] - 0s 59ms/step\n",
      "Your leaf disease is --> Tomato___Leaf_Mold\n",
      "\n",
      "\n",
      "1/1 [==============================] - 0s 50ms/step\n",
      "Your leaf disease is --> Tomato___Tomato_mosaic_virus\n",
      "\n",
      "\n",
      "1/1 [==============================] - 0s 66ms/step\n",
      "Your leaf disease is --> Tomato___Tomato_mosaic_virus\n",
      "\n",
      "\n",
      "1/1 [==============================] - 0s 54ms/step\n",
      "Your leaf disease is --> Tomato___Tomato_mosaic_virus\n",
      "\n",
      "\n",
      "1/1 [==============================] - 0s 43ms/step\n",
      "Your leaf disease is --> Tomato___Tomato_mosaic_virus\n",
      "\n",
      "\n",
      "1/1 [==============================] - 0s 83ms/step\n",
      "Your leaf disease is --> Tomato___Tomato_mosaic_virus\n",
      "\n",
      "\n",
      "1/1 [==============================] - 0s 48ms/step\n",
      "Your leaf disease is --> Tomato___Tomato_mosaic_virus\n",
      "\n",
      "\n"
     ]
    }
   ],
   "source": [
    "import os\n",
    "\n",
    "def testing_folder_cnn(path):\n",
    "    test_image = load_img(path, target_size=(128, 128))\n",
    "    test_image = img_to_array(test_image)\n",
    "    test_image = np.expand_dims(test_image, axis=0)\n",
    "    result = cnn_model.predict(test_image)\n",
    "\n",
    "    label2 = label[result.argmax()]\n",
    "    return label2\n",
    "\n",
    "folder_path = 'data_penyakit/tomat'\n",
    "\n",
    "results = []\n",
    "for filename in os.listdir(folder_path):\n",
    "    image_path = os.path.join(folder_path, filename)\n",
    "    try:\n",
    "        label2 = testing_folder_cnn(image_path)\n",
    "        print(f\"Your leaf disease is --> {label2}\")\n",
    "        results.append({\"filename\": filename, \"disease\": label2})  # append result to list\n",
    "    except IOError:\n",
    "        print(f\"Cannot open {filename}\")\n",
    "    print(\"\\n\")\n",
    "\n",
    "df_cnn = pd.DataFrame(results)\n",
    "df_cnn.to_csv('results-cnn-tomat.csv', index=False)"
   ]
  },
  {
   "attachments": {},
   "cell_type": "markdown",
   "id": "a0599889",
   "metadata": {},
   "source": [
    "# rf"
   ]
  },
  {
   "cell_type": "code",
   "execution_count": null,
   "id": "1e106b08",
   "metadata": {},
   "outputs": [
    {
     "name": "stdout",
     "output_type": "stream",
     "text": [
      "1/1 [==============================] - 0s 59ms/step\n",
      "Result is --> [0]\n",
      "Your leaf disease is --> Tomato___Bacterial_spot\n"
     ]
    }
   ],
   "source": [
    "def testing_rf(path, rf_classifier):\n",
    "    test_image = load_img(path, target_size=(128, 128))\n",
    "    test_image = img_to_array(test_image)\n",
    "    test_image = np.expand_dims(test_image, axis=0)\n",
    "\n",
    "    rf_features = cnn_model.predict(test_image)\n",
    "    rf_features = rf_features.reshape(rf_features.shape[0], -1)\n",
    "    result = rf_classifier.predict(rf_features)\n",
    "\n",
    "    label2 = label[result[0]]\n",
    "    print(f\"Result is --> {result}\")\n",
    "    print(f\"Your leaf disease is --> {label2}\")\n",
    "\n",
    "# testing(input(\"Enter your image path-: \"))\n",
    "path = 'data_penyakit/tomat/tomato-bacterial-spot-1.JPG'\n",
    "testing_rf(path, rf_classifier)"
   ]
  },
  {
   "cell_type": "code",
   "execution_count": null,
   "id": "af83baf6",
   "metadata": {},
   "outputs": [
    {
     "name": "stdout",
     "output_type": "stream",
     "text": [
      "Testing image: tomato-septoria-leaf-spot-6.JPG\n",
      "1/1 [==============================] - 0s 45ms/step\n",
      "Your leaf disease is --> Tomato___Septoria_leaf_spot\n",
      "\n",
      "\n",
      "Testing image: tomato-healthy-1.JPG\n",
      "1/1 [==============================] - 0s 41ms/step\n",
      "Your leaf disease is --> Tomato___healthy\n",
      "\n",
      "\n",
      "Testing image: tomato-spider-mites-1.JPG\n",
      "1/1 [==============================] - 0s 47ms/step\n",
      "Your leaf disease is --> Tomato___Spider_mites Two-spotted_spider_mite\n",
      "\n",
      "\n",
      "Testing image: tomato-yellow-curl-3.JPG\n",
      "1/1 [==============================] - 0s 49ms/step\n",
      "Your leaf disease is --> Tomato___Tomato_Yellow_Leaf_Curl_Virus\n",
      "\n",
      "\n",
      "Testing image: tomato-bacterial-spot-4.JPG\n",
      "1/1 [==============================] - 0s 58ms/step\n",
      "Your leaf disease is --> Tomato___Bacterial_spot\n",
      "\n",
      "\n",
      "Testing image: tomato-early-blight-5.JPG\n",
      "1/1 [==============================] - 0s 52ms/step\n",
      "Your leaf disease is --> Tomato___Early_blight\n",
      "\n",
      "\n",
      "Testing image: tomato-early-blight-4.JPG\n",
      "1/1 [==============================] - 0s 51ms/step\n",
      "Your leaf disease is --> Tomato___Early_blight\n",
      "\n",
      "\n",
      "Testing image: tomato-bacterial-spot-5.JPG\n",
      "1/1 [==============================] - 0s 76ms/step\n",
      "Your leaf disease is --> Tomato___Bacterial_spot\n",
      "\n",
      "\n",
      "Testing image: tomato-yellow-curl-2.JPG\n",
      "1/1 [==============================] - 0s 47ms/step\n",
      "Your leaf disease is --> Tomato___Tomato_Yellow_Leaf_Curl_Virus\n",
      "\n",
      "\n",
      "Testing image: tomato-septoria-leaf-spot-5.JPG\n",
      "1/1 [==============================] - 0s 57ms/step\n",
      "Your leaf disease is --> Tomato___Septoria_leaf_spot\n",
      "\n",
      "\n",
      "Testing image: tomato-healthy-2.JPG\n",
      "1/1 [==============================] - 0s 65ms/step\n",
      "Your leaf disease is --> Tomato___healthy\n",
      "\n",
      "\n",
      "Testing image: tomato-spider-mites-2.JPG\n",
      "1/1 [==============================] - 0s 60ms/step\n",
      "Your leaf disease is --> Tomato___Spider_mites Two-spotted_spider_mite\n",
      "\n",
      "\n",
      "Testing image: tomato-early-blight-6.JPG\n",
      "1/1 [==============================] - 0s 57ms/step\n",
      "Your leaf disease is --> Tomato___Bacterial_spot\n",
      "\n",
      "\n",
      "Testing image: tomato-bacterial-spot-6.JPG\n",
      "1/1 [==============================] - 0s 85ms/step\n",
      "Your leaf disease is --> Tomato___Bacterial_spot\n",
      "\n",
      "\n",
      "Testing image: tomato-yellow-curl-1.JPG\n",
      "1/1 [==============================] - 0s 54ms/step\n",
      "Your leaf disease is --> Tomato___Tomato_Yellow_Leaf_Curl_Virus\n",
      "\n",
      "\n",
      "Testing image: tomato-spider-mites-3.JPG\n",
      "1/1 [==============================] - 0s 60ms/step\n",
      "Your leaf disease is --> Tomato___Spider_mites Two-spotted_spider_mite\n",
      "\n",
      "\n",
      "Testing image: tomato-healthy-3.JPG\n",
      "1/1 [==============================] - 0s 92ms/step\n",
      "Your leaf disease is --> Tomato___healthy\n",
      "\n",
      "\n",
      "Testing image: tomato-septoria-leaf-spot-4.JPG\n",
      "1/1 [==============================] - 0s 49ms/step\n",
      "Your leaf disease is --> Tomato___Septoria_leaf_spot\n",
      "\n",
      "\n",
      "Testing image: tomato-yellow-curl-5.JPG\n",
      "1/1 [==============================] - 0s 61ms/step\n",
      "Your leaf disease is --> Tomato___Tomato_Yellow_Leaf_Curl_Virus\n",
      "\n",
      "\n",
      "Testing image: tomato-bacterial-spot-2.JPG\n",
      "1/1 [==============================] - 0s 96ms/step\n",
      "Your leaf disease is --> Tomato___Bacterial_spot\n",
      "\n",
      "\n",
      "Testing image: tomato-early-blight-3.JPG\n",
      "1/1 [==============================] - 0s 55ms/step\n",
      "Your leaf disease is --> Tomato___Early_blight\n",
      "\n",
      "\n",
      "Testing image: .DS_Store\n",
      "Cannot open .DS_Store\n",
      "\n",
      "\n",
      "Testing image: tomato-early-blight-2.JPG\n",
      "1/1 [==============================] - 0s 40ms/step\n",
      "Your leaf disease is --> Tomato___Early_blight\n",
      "\n",
      "\n",
      "Testing image: tomato-bacterial-spot-3.JPG\n",
      "1/1 [==============================] - 0s 61ms/step\n",
      "Your leaf disease is --> Tomato___Bacterial_spot\n",
      "\n",
      "\n",
      "Testing image: tomato-yellow-curl-4.JPG\n",
      "1/1 [==============================] - 0s 56ms/step\n",
      "Your leaf disease is --> Tomato___Tomato_Yellow_Leaf_Curl_Virus\n",
      "\n",
      "\n",
      "Testing image: tomato-spider-mites-6.JPG\n",
      "1/1 [==============================] - 0s 56ms/step\n",
      "Your leaf disease is --> Tomato___Spider_mites Two-spotted_spider_mite\n",
      "\n",
      "\n",
      "Testing image: tomato-septoria-leaf-spot-1.JPG\n",
      "1/1 [==============================] - 0s 57ms/step\n",
      "Your leaf disease is --> Tomato___Septoria_leaf_spot\n",
      "\n",
      "\n",
      "Testing image: tomato-healthy-6.JPG\n",
      "1/1 [==============================] - 0s 62ms/step\n",
      "Your leaf disease is --> Tomato___healthy\n",
      "\n",
      "\n",
      "Testing image: tomato-healthy-4.JPG\n",
      "1/1 [==============================] - 0s 57ms/step\n",
      "Your leaf disease is --> Tomato___healthy\n",
      "\n",
      "\n",
      "Testing image: tomato-septoria-leaf-spot-3.JPG\n",
      "1/1 [==============================] - 0s 57ms/step\n",
      "Your leaf disease is --> Tomato___Septoria_leaf_spot\n",
      "\n",
      "\n",
      "Testing image: tomato-spider-mites-4.JPG\n",
      "1/1 [==============================] - 0s 47ms/step\n",
      "Your leaf disease is --> Tomato___Spider_mites Two-spotted_spider_mite\n",
      "\n",
      "\n",
      "Testing image: tomato-yellow-curl-6.JPG\n",
      "1/1 [==============================] - 0s 52ms/step\n",
      "Your leaf disease is --> Tomato___Tomato_Yellow_Leaf_Curl_Virus\n",
      "\n",
      "\n",
      "Testing image: tomato-bacterial-spot-1.JPG\n",
      "1/1 [==============================] - 0s 48ms/step\n",
      "Your leaf disease is --> Tomato___Bacterial_spot\n",
      "\n",
      "\n",
      "Testing image: tomato-early-blight-1.JPG\n",
      "1/1 [==============================] - 0s 54ms/step\n",
      "Your leaf disease is --> Tomato___Late_blight\n",
      "\n",
      "\n",
      "Testing image: tomato-spider-mites-5.JPG\n",
      "1/1 [==============================] - 0s 75ms/step\n",
      "Your leaf disease is --> Tomato___Spider_mites Two-spotted_spider_mite\n",
      "\n",
      "\n",
      "Testing image: tomato-septoria-leaf-spot-2.JPG\n",
      "1/1 [==============================] - 0s 56ms/step\n",
      "Your leaf disease is --> Tomato___Septoria_leaf_spot\n",
      "\n",
      "\n",
      "Testing image: tomato-healthy-5.JPG\n",
      "1/1 [==============================] - 0s 50ms/step\n",
      "Your leaf disease is --> Tomato___healthy\n",
      "\n",
      "\n",
      "Testing image: tomato-late-blight-3.JPG\n",
      "1/1 [==============================] - 0s 56ms/step\n",
      "Your leaf disease is --> Tomato___Late_blight\n",
      "\n",
      "\n",
      "Testing image: tomato-target-spot-5.JPG\n",
      "1/1 [==============================] - 0s 44ms/step\n",
      "Your leaf disease is --> Tomato___healthy\n",
      "\n",
      "\n",
      "Testing image: tomato-target-spot-4.JPG\n",
      "1/1 [==============================] - 0s 64ms/step\n",
      "Your leaf disease is --> Tomato___Target_Spot\n",
      "\n",
      "\n",
      "Testing image: tomato-late-blight-2.JPG\n",
      "1/1 [==============================] - 0s 49ms/step\n",
      "Your leaf disease is --> Tomato___Late_blight\n",
      "\n",
      "\n",
      "Testing image: tomato-target-spot-6.JPG\n",
      "1/1 [==============================] - 0s 71ms/step\n",
      "Your leaf disease is --> Tomato___Target_Spot\n",
      "\n",
      "\n",
      "Testing image: tomato-late-blight-1.JPG\n",
      "1/1 [==============================] - 0s 78ms/step\n",
      "Your leaf disease is --> Tomato___Late_blight\n",
      "\n",
      "\n",
      "Testing image: tomato-late-blight-5.JPG\n",
      "1/1 [==============================] - 0s 44ms/step\n",
      "Your leaf disease is --> Tomato___Late_blight\n",
      "\n",
      "\n",
      "Testing image: tomato-target-spot-3.JPG\n",
      "1/1 [==============================] - 0s 56ms/step\n",
      "Your leaf disease is --> Tomato___Target_Spot\n",
      "\n",
      "\n",
      "Testing image: tomato-target-spot-2.JPG\n",
      "1/1 [==============================] - 0s 60ms/step\n",
      "Your leaf disease is --> Tomato___Target_Spot\n",
      "\n",
      "\n",
      "Testing image: tomato-late-blight-4.JPG\n",
      "1/1 [==============================] - 0s 43ms/step\n",
      "Your leaf disease is --> Tomato___Late_blight\n",
      "\n",
      "\n",
      "Testing image: tomato-late-blight-6.JPG\n",
      "1/1 [==============================] - 0s 42ms/step\n",
      "Your leaf disease is --> Tomato___Late_blight\n",
      "\n",
      "\n",
      "Testing image: tomato-target-spot-1.JPG\n",
      "1/1 [==============================] - 0s 49ms/step\n",
      "Your leaf disease is --> Tomato___Target_Spot\n",
      "\n",
      "\n",
      "Testing image: tomato-leaf-mold-3.JPG\n",
      "1/1 [==============================] - 0s 44ms/step\n",
      "Your leaf disease is --> Tomato___Leaf_Mold\n",
      "\n",
      "\n",
      "Testing image: tomato-leaf-mold-2.JPG\n",
      "1/1 [==============================] - 0s 72ms/step\n",
      "Your leaf disease is --> Tomato___Leaf_Mold\n",
      "\n",
      "\n",
      "Testing image: tomato-leaf-mold-1.JPG\n",
      "1/1 [==============================] - 0s 74ms/step\n",
      "Your leaf disease is --> Tomato___Leaf_Mold\n",
      "\n",
      "\n",
      "Testing image: tomato-leaf-mold-5.JPG\n",
      "1/1 [==============================] - 0s 49ms/step\n",
      "Your leaf disease is --> Tomato___Leaf_Mold\n",
      "\n",
      "\n",
      "Testing image: tomato-leaf-mold-4.JPG\n",
      "1/1 [==============================] - 0s 73ms/step\n",
      "Your leaf disease is --> Tomato___Leaf_Mold\n",
      "\n",
      "\n",
      "Testing image: tomato-leaf-mold-6.JPG\n",
      "1/1 [==============================] - 0s 58ms/step\n",
      "Your leaf disease is --> Tomato___Leaf_Mold\n",
      "\n",
      "\n",
      "Testing image: tomato-mosaic-4.JPG\n",
      "1/1 [==============================] - 0s 67ms/step\n",
      "Your leaf disease is --> Tomato___Tomato_mosaic_virus\n",
      "\n",
      "\n",
      "Testing image: tomato-mosaic-5.JPG\n",
      "1/1 [==============================] - 0s 44ms/step\n",
      "Your leaf disease is --> Tomato___Tomato_mosaic_virus\n",
      "\n",
      "\n",
      "Testing image: tomato-mosaic-6.JPG\n",
      "1/1 [==============================] - 0s 57ms/step\n",
      "Your leaf disease is --> Tomato___Tomato_mosaic_virus\n",
      "\n",
      "\n",
      "Testing image: tomato-mosaic-2.JPG\n",
      "1/1 [==============================] - 0s 47ms/step\n",
      "Your leaf disease is --> Tomato___Tomato_mosaic_virus\n",
      "\n",
      "\n",
      "Testing image: tomato-mosaic-3.JPG\n",
      "1/1 [==============================] - 0s 61ms/step\n",
      "Your leaf disease is --> Tomato___Tomato_mosaic_virus\n",
      "\n",
      "\n",
      "Testing image: tomato-mosaic-1.JPG\n",
      "1/1 [==============================] - 0s 47ms/step\n",
      "Your leaf disease is --> Tomato___Tomato_mosaic_virus\n",
      "\n",
      "\n"
     ]
    }
   ],
   "source": [
    "import os\n",
    "\n",
    "def testing_folder_rf(path, rf_classifier):\n",
    "    test_image = load_img(path, target_size=(128, 128))\n",
    "    test_image = img_to_array(test_image)\n",
    "    test_image = np.expand_dims(test_image, axis=0)\n",
    "\n",
    "    rf_features = cnn_model.predict(test_image)\n",
    "    rf_features = rf_features.reshape(rf_features.shape[0], -1)\n",
    "    result = rf_classifier.predict(rf_features)\n",
    "\n",
    "    label2 = label[result[0]]\n",
    "    return label2\n",
    "\n",
    "folder_path = 'data_penyakit/tomat'\n",
    "results = []\n",
    "\n",
    "for filename in os.listdir(folder_path):\n",
    "    image_path = os.path.join(folder_path, filename)\n",
    "    print(f\"Testing image: {filename}\")\n",
    "    try:\n",
    "        label2 = testing_folder_rf(image_path, rf_classifier)\n",
    "        print(f\"Your leaf disease is --> {label2}\")\n",
    "        results.append({\"filename\": filename, \"disease\": label2})  # append result to list\n",
    "    except IOError:\n",
    "        print(f\"Cannot open {filename}\")\n",
    "    print(\"\\n\")\n",
    "\n",
    "df_rf = pd.DataFrame(results)\n",
    "\n",
    "# Save the dataframe into a CSV file\n",
    "df_rf.to_csv('results-rf-tomat.csv', index=False)"
   ]
  }
 ],
 "metadata": {
  "kernelspec": {
   "display_name": "Python 3",
   "language": "python",
   "name": "python3"
  },
  "language_info": {
   "codemirror_mode": {
    "name": "ipython",
    "version": 3
   },
   "file_extension": ".py",
   "mimetype": "text/x-python",
   "name": "python",
   "nbconvert_exporter": "python",
   "pygments_lexer": "ipython3",
   "version": "3.9.16"
  },
  "papermill": {
   "default_parameters": {},
   "duration": 427.866819,
   "end_time": "2023-04-18T04:23:14.221900",
   "environment_variables": {},
   "exception": null,
   "input_path": "__notebook__.ipynb",
   "output_path": "__notebook__.ipynb",
   "parameters": {},
   "start_time": "2023-04-18T04:16:06.355081",
   "version": "2.4.0"
  }
 },
 "nbformat": 4,
 "nbformat_minor": 5
}
