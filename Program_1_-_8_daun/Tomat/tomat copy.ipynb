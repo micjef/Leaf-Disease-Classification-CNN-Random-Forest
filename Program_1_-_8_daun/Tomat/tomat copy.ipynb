{
 "cells": [
  {
   "cell_type": "code",
   "execution_count": 1,
   "id": "abdc0e15",
   "metadata": {
    "_cell_guid": "b1076dfc-b9ad-4769-8c92-a6c4dae69d19",
    "_uuid": "8f2839f25d086af736a60e9eeb907d3b93b6e0e5",
    "execution": {
     "iopub.execute_input": "2023-04-18T04:16:16.085712Z",
     "iopub.status.busy": "2023-04-18T04:16:16.084964Z",
     "iopub.status.idle": "2023-04-18T04:16:25.355714Z",
     "shell.execute_reply": "2023-04-18T04:16:25.354430Z"
    },
    "papermill": {
     "duration": 9.280422,
     "end_time": "2023-04-18T04:16:25.358808",
     "exception": false,
     "start_time": "2023-04-18T04:16:16.078386",
     "status": "completed"
    },
    "tags": []
   },
   "outputs": [],
   "source": [
    "import pandas as pd\n",
    "import numpy as np\n",
    "import tensorflow as tf\n",
    "import keras\n",
    "import matplotlib.pyplot as plt\n",
    "import os\n",
    "import cv2\n",
    "from sklearn.model_selection import train_test_split\n",
    "from tqdm import tqdm  # import tqdm for progress bar \n",
    "from tensorflow.keras.preprocessing.image import load_img, img_to_array"
   ]
  },
  {
   "cell_type": "code",
   "execution_count": 2,
   "id": "029fb13e",
   "metadata": {},
   "outputs": [],
   "source": [
    "target_labels = ['Tomato___Bacterial_spot', 'Tomato___Early_blight', 'Tomato___healthy', 'Tomato___Late_blight', 'Tomato___Leaf_Mold', 'Tomato___Septoria_leaf_spot', 'Tomato___Spider_mites Two-spotted_spider_mite', 'Tomato___Target_Spot', 'Tomato___Tomato_mosaic_virus', 'Tomato___Tomato_Yellow_Leaf_Curl_Virus']"
   ]
  },
  {
   "cell_type": "code",
   "execution_count": 3,
   "id": "3b5aafe7",
   "metadata": {},
   "outputs": [],
   "source": [
    "main_path = 'data_penyakit/dataset/train'"
   ]
  },
  {
   "cell_type": "code",
   "execution_count": 4,
   "id": "2f597e77",
   "metadata": {},
   "outputs": [],
   "source": [
    "# Load the images and labels\n",
    "X = []\n",
    "y = []\n",
    "for label in target_labels:\n",
    "    label_dir = os.path.join(main_path, label)\n",
    "    for img_file in os.listdir(label_dir):\n",
    "        img_path = os.path.join(label_dir, img_file)\n",
    "        img = load_img(img_path, target_size=(128, 128))\n",
    "        img_array = img_to_array(img)\n",
    "        X.append(img_array)\n",
    "        y.append(target_labels.index(label))"
   ]
  },
  {
   "cell_type": "code",
   "execution_count": 5,
   "id": "b9dbf5f2",
   "metadata": {},
   "outputs": [],
   "source": [
    "from tensorflow.keras.utils import to_categorical"
   ]
  },
  {
   "cell_type": "code",
   "execution_count": 6,
   "id": "ace077d5",
   "metadata": {},
   "outputs": [],
   "source": [
    "X = np.array(X)\n",
    "y = to_categorical(y, num_classes=len(target_labels))"
   ]
  },
  {
   "cell_type": "code",
   "execution_count": 7,
   "id": "662f02bf",
   "metadata": {},
   "outputs": [
    {
     "data": {
      "text/plain": [
       "(18345, 128, 128, 3)"
      ]
     },
     "execution_count": 7,
     "metadata": {},
     "output_type": "execute_result"
    }
   ],
   "source": [
    "X.shape"
   ]
  },
  {
   "cell_type": "code",
   "execution_count": 8,
   "id": "2f9c331c",
   "metadata": {},
   "outputs": [
    {
     "data": {
      "text/plain": [
       "(18345, 10)"
      ]
     },
     "execution_count": 8,
     "metadata": {},
     "output_type": "execute_result"
    }
   ],
   "source": [
    "y.shape"
   ]
  },
  {
   "cell_type": "code",
   "execution_count": 9,
   "id": "baf5e6d5",
   "metadata": {},
   "outputs": [],
   "source": [
    "# Split the dataset into training and testing sets\n",
    "X_train, X_test, y_train, y_test = train_test_split(X, y, test_size=0.2, random_state=42)"
   ]
  },
  {
   "cell_type": "code",
   "execution_count": 10,
   "id": "40b67d77",
   "metadata": {},
   "outputs": [
    {
     "data": {
      "text/plain": [
       "(14676, 128, 128, 3)"
      ]
     },
     "execution_count": 10,
     "metadata": {},
     "output_type": "execute_result"
    }
   ],
   "source": [
    "X_train.shape"
   ]
  },
  {
   "cell_type": "code",
   "execution_count": 11,
   "id": "6e94256d",
   "metadata": {},
   "outputs": [
    {
     "data": {
      "text/plain": [
       "(3669, 128, 128, 3)"
      ]
     },
     "execution_count": 11,
     "metadata": {},
     "output_type": "execute_result"
    }
   ],
   "source": [
    "X_test.shape"
   ]
  },
  {
   "cell_type": "code",
   "execution_count": 12,
   "id": "b0d4c1c4",
   "metadata": {},
   "outputs": [
    {
     "data": {
      "text/plain": [
       "(14676, 10)"
      ]
     },
     "execution_count": 12,
     "metadata": {},
     "output_type": "execute_result"
    }
   ],
   "source": [
    "y_train.shape"
   ]
  },
  {
   "cell_type": "code",
   "execution_count": 13,
   "id": "c2c2d702",
   "metadata": {},
   "outputs": [
    {
     "data": {
      "text/plain": [
       "(3669, 10)"
      ]
     },
     "execution_count": 13,
     "metadata": {},
     "output_type": "execute_result"
    }
   ],
   "source": [
    "y_test.shape"
   ]
  },
  {
   "cell_type": "code",
   "execution_count": 14,
   "id": "5e41a857",
   "metadata": {
    "execution": {
     "iopub.execute_input": "2023-04-18T04:16:25.367398Z",
     "iopub.status.busy": "2023-04-18T04:16:25.366661Z",
     "iopub.status.idle": "2023-04-18T04:16:25.924165Z",
     "shell.execute_reply": "2023-04-18T04:16:25.922865Z"
    },
    "papermill": {
     "duration": 0.564776,
     "end_time": "2023-04-18T04:16:25.927003",
     "exception": false,
     "start_time": "2023-04-18T04:16:25.362227",
     "status": "completed"
    },
    "tags": []
   },
   "outputs": [],
   "source": [
    "from keras.layers import Conv2D\n",
    "from keras.layers import MaxPooling2D\n",
    "from keras.layers import Flatten\n",
    "from keras.layers import Dense\n",
    "from keras.layers import Dropout\n",
    "from keras.layers import BatchNormalization\n",
    "from keras.models import Sequential"
   ]
  },
  {
   "cell_type": "code",
   "execution_count": 15,
   "id": "09879ed9",
   "metadata": {},
   "outputs": [
    {
     "data": {
      "text/plain": [
       "10"
      ]
     },
     "execution_count": 15,
     "metadata": {},
     "output_type": "execute_result"
    }
   ],
   "source": [
    "len(target_labels)"
   ]
  },
  {
   "cell_type": "code",
   "execution_count": 16,
   "id": "da588d2f",
   "metadata": {},
   "outputs": [],
   "source": [
    "cnn_model = Sequential()\n",
    "cnn_model.add(Conv2D(32, kernel_size= (3,3), activation = 'relu',input_shape=(128,128,3)))\n",
    "cnn_model.add(MaxPooling2D(pool_size =(2,2,)))\n",
    "cnn_model.add(BatchNormalization())\n",
    "cnn_model.add(Conv2D(64,kernel_size= (3,3), activation = 'relu'))\n",
    "cnn_model.add(MaxPooling2D(pool_size =(2,2,)))\n",
    "cnn_model.add(BatchNormalization())\n",
    "cnn_model.add(Conv2D(64,kernel_size= (3,3), activation = 'relu'))\n",
    "cnn_model.add(MaxPooling2D(pool_size =(2,2,)))\n",
    "cnn_model.add(BatchNormalization())\n",
    "cnn_model.add(Conv2D(96,kernel_size= (3,3), activation = 'relu'))\n",
    "cnn_model.add(MaxPooling2D(pool_size =(2,2,)))\n",
    "cnn_model.add(BatchNormalization())\n",
    "cnn_model.add(Conv2D(32,kernel_size= (3,3), activation = 'relu'))\n",
    "cnn_model.add(MaxPooling2D(pool_size =(2,2,)))\n",
    "cnn_model.add(BatchNormalization())\n",
    "\n",
    "cnn_model.add(Dropout(0.2))\n",
    "cnn_model.add(Flatten())\n",
    "cnn_model.add(Dense(128, activation = 'relu'))\n",
    "cnn_model.add(Dropout(0.3))\n",
    "cnn_model.add(Dense(len(target_labels), activation='softmax'))\n",
    "cnn_model.compile(loss='categorical_crossentropy', optimizer='sgd', metrics=['accuracy'])"
   ]
  },
  {
   "cell_type": "code",
   "execution_count": 17,
   "id": "8823bd0d",
   "metadata": {},
   "outputs": [
    {
     "name": "stdout",
     "output_type": "stream",
     "text": [
      "Epoch 1/10\n"
     ]
    },
    {
     "name": "stderr",
     "output_type": "stream",
     "text": [
      "2023-05-30 22:20:35.405776: W tensorflow/tsl/platform/profile_utils/cpu_utils.cc:128] Failed to get CPU frequency: 0 Hz\n"
     ]
    },
    {
     "name": "stdout",
     "output_type": "stream",
     "text": [
      "459/459 [==============================] - 175s 371ms/step - loss: 1.4141 - accuracy: 0.5085 - val_loss: 1.0910 - val_accuracy: 0.6288\n",
      "Epoch 2/10\n",
      "459/459 [==============================] - 145s 315ms/step - loss: 0.7770 - accuracy: 0.7305 - val_loss: 0.5585 - val_accuracy: 0.8065\n",
      "Epoch 3/10\n",
      "459/459 [==============================] - 157s 342ms/step - loss: 0.5901 - accuracy: 0.7927 - val_loss: 0.8737 - val_accuracy: 0.6868\n",
      "Epoch 4/10\n",
      "459/459 [==============================] - 118s 256ms/step - loss: 0.4698 - accuracy: 0.8351 - val_loss: 0.8329 - val_accuracy: 0.6956\n",
      "Epoch 5/10\n",
      "459/459 [==============================] - 122s 266ms/step - loss: 0.4074 - accuracy: 0.8607 - val_loss: 0.5856 - val_accuracy: 0.7795\n",
      "Epoch 6/10\n",
      "459/459 [==============================] - 109s 236ms/step - loss: 0.3712 - accuracy: 0.8689 - val_loss: 0.3430 - val_accuracy: 0.8784\n",
      "Epoch 7/10\n",
      "459/459 [==============================] - 105s 230ms/step - loss: 0.3216 - accuracy: 0.8917 - val_loss: 0.5470 - val_accuracy: 0.8130\n",
      "Epoch 8/10\n",
      "459/459 [==============================] - 439s 958ms/step - loss: 0.2865 - accuracy: 0.8997 - val_loss: 0.8585 - val_accuracy: 0.7607\n",
      "Epoch 9/10\n",
      "459/459 [==============================] - 82s 178ms/step - loss: 0.2640 - accuracy: 0.9079 - val_loss: 0.2629 - val_accuracy: 0.9101\n",
      "Epoch 10/10\n",
      "459/459 [==============================] - 88s 191ms/step - loss: 0.2479 - accuracy: 0.9150 - val_loss: 0.2965 - val_accuracy: 0.8959\n"
     ]
    }
   ],
   "source": [
    "# Train the CNN model\n",
    "cnn_history = cnn_model.fit(X_train, y_train, validation_data=(X_test, y_test), epochs=10)"
   ]
  },
  {
   "cell_type": "code",
   "execution_count": 18,
   "id": "dd6f0284",
   "metadata": {},
   "outputs": [
    {
     "name": "stdout",
     "output_type": "stream",
     "text": [
      "CNN Model Accuracy: 89.59%\n"
     ]
    }
   ],
   "source": [
    "# Evaluate the performance of the trained CNN model on the test set\n",
    "cnn_scores = cnn_model.evaluate(X_test, y_test, verbose=0)\n",
    "print(\"CNN Model Accuracy: %.2f%%\" % (cnn_scores[1] * 100))"
   ]
  },
  {
   "cell_type": "code",
   "execution_count": 19,
   "id": "39cbe557",
   "metadata": {},
   "outputs": [
    {
     "data": {
      "text/plain": [
       "[0.2965467572212219, 0.8958844542503357]"
      ]
     },
     "execution_count": 19,
     "metadata": {},
     "output_type": "execute_result"
    }
   ],
   "source": [
    "cnn_scores"
   ]
  },
  {
   "cell_type": "code",
   "execution_count": 20,
   "id": "5ecd6704",
   "metadata": {},
   "outputs": [
    {
     "name": "stdout",
     "output_type": "stream",
     "text": [
      "115/115 [==============================] - 6s 51ms/step\n",
      "Accuracy: 89.59%\n",
      "Precision: 89.77%\n",
      "Recall: 89.59%\n",
      "F1 score: 89.49%\n"
     ]
    }
   ],
   "source": [
    "from sklearn.metrics import accuracy_score, precision_score, recall_score, f1_score\n",
    "\n",
    "# Use the model to predict the test dataset\n",
    "y_pred_prob = cnn_model.predict(X_test)\n",
    "\n",
    "# Convert probabilities to classes\n",
    "y_pred = np.argmax(y_pred_prob, axis=1)\n",
    "\n",
    "# If y_test is one-hot encoded, convert it to classes as well\n",
    "y_test_classes = np.argmax(y_test, axis=1)\n",
    "\n",
    "# Calculate accuracy\n",
    "accuracy = accuracy_score(y_test_classes, y_pred)\n",
    "\n",
    "# Calculate precision\n",
    "precision = precision_score(y_test_classes, y_pred, average='weighted') \n",
    "\n",
    "# Calculate recall\n",
    "recall = recall_score(y_test_classes, y_pred, average='weighted') \n",
    "\n",
    "# Calculate F1 score\n",
    "f1 = f1_score(y_test_classes, y_pred, average='weighted')\n",
    "\n",
    "# Print the metrics\n",
    "print(\"Accuracy: %.2f%%\" % (accuracy * 100))\n",
    "print(\"Precision: %.2f%%\" % (precision * 100))\n",
    "print(\"Recall: %.2f%%\" % (recall * 100))\n",
    "print(\"F1 score: %.2f%%\" % (f1 * 100))"
   ]
  },
  {
   "cell_type": "code",
   "execution_count": 21,
   "id": "2717cf9c",
   "metadata": {},
   "outputs": [
    {
     "name": "stdout",
     "output_type": "stream",
     "text": [
      "459/459 [==============================] - 26s 56ms/step\n"
     ]
    }
   ],
   "source": [
    "# Extract the features using the trained CNN model\n",
    "cnn_features = cnn_model.predict(X_train)"
   ]
  },
  {
   "attachments": {},
   "cell_type": "markdown",
   "id": "51f5305b",
   "metadata": {},
   "source": [
    "# rf"
   ]
  },
  {
   "cell_type": "code",
   "execution_count": 22,
   "id": "ef382519",
   "metadata": {},
   "outputs": [],
   "source": [
    "import time"
   ]
  },
  {
   "cell_type": "code",
   "execution_count": 23,
   "id": "136af6d3",
   "metadata": {},
   "outputs": [],
   "source": [
    "# import the Random Forest classifier\n",
    "from RF_Manual import RandomForest"
   ]
  },
  {
   "cell_type": "code",
   "execution_count": 24,
   "id": "04ea4431",
   "metadata": {},
   "outputs": [
    {
     "name": "stdout",
     "output_type": "stream",
     "text": [
      "Training time: 1254.714162349701 seconds\n"
     ]
    }
   ],
   "source": [
    "# Train a Random Forest classifier on the extracted features\n",
    "start_time = time.time()\n",
    "rf_classifier = RandomForest(n_trees=100, max_depth=42)\n",
    "rf_classifier.fit(cnn_features, np.argmax(y_train, axis=1))\n",
    "\n",
    "# count time for training\n",
    "end_time = time.time()\n",
    "training_time = end_time - start_time\n",
    "print(f\"Training time: {training_time} seconds\")"
   ]
  },
  {
   "cell_type": "code",
   "execution_count": 25,
   "id": "a3c2e141",
   "metadata": {},
   "outputs": [
    {
     "name": "stdout",
     "output_type": "stream",
     "text": [
      "115/115 [==============================] - 13s 109ms/step\n",
      "Random Forest Classifier Accuracy: 92.61%\n",
      "Random Forest Classifier Precision: 0.93\n",
      "Random Forest Classifier Recall: 0.93\n",
      "Random Forest Classifier F1 Score: 0.93\n"
     ]
    }
   ],
   "source": [
    "from sklearn.metrics import precision_score, recall_score, f1_score\n",
    "\n",
    "# Evaluate the performance of the Random Forest classifier on the test set\n",
    "rf_features = cnn_model.predict(X_test)\n",
    "rf_features = rf_features.reshape(rf_features.shape[0], -1)\n",
    "rf_predictions = rf_classifier.predict(rf_features)\n",
    "rf_accuracy = np.mean(rf_predictions == np.argmax(y_test, axis=1))\n",
    "print(\"Random Forest Classifier Accuracy: %.2f%%\" % (rf_accuracy * 100))\n",
    "\n",
    "# Calculate and print the Precision\n",
    "rf_precision = precision_score(np.argmax(y_test, axis=1), rf_predictions, average='weighted')\n",
    "print(\"Random Forest Classifier Precision: %.2f\" % rf_precision)\n",
    "\n",
    "# Calculate and print the Recall\n",
    "rf_recall = recall_score(np.argmax(y_test, axis=1), rf_predictions, average='weighted')\n",
    "print(\"Random Forest Classifier Recall: %.2f\" % rf_recall)\n",
    "\n",
    "# Calculate and print the F1 score\n",
    "rf_f1_score = f1_score(np.argmax(y_test, axis=1), rf_predictions, average='weighted')\n",
    "print(\"Random Forest Classifier F1 Score: %.2f\" % rf_f1_score)"
   ]
  },
  {
   "attachments": {},
   "cell_type": "markdown",
   "id": "f5b683d5",
   "metadata": {},
   "source": [
    "# tes"
   ]
  },
  {
   "cell_type": "code",
   "execution_count": 26,
   "id": "e32b9676",
   "metadata": {},
   "outputs": [],
   "source": [
    "#Label assignment\n",
    "label=['Tomato___Bacterial_spot', \n",
    "       'Tomato___Early_blight', \n",
    "       'Tomato___healthy', \n",
    "       'Tomato___Late_blight', \n",
    "       'Tomato___Leaf_Mold', \n",
    "       'Tomato___Septoria_leaf_spot', \n",
    "       'Tomato___Spider_mites Two-spotted_spider_mite', \n",
    "       'Tomato___Target_Spot', \n",
    "       'Tomato___Tomato_mosaic_virus', \n",
    "       'Tomato___Tomato_Yellow_Leaf_Curl_Virus']"
   ]
  },
  {
   "attachments": {},
   "cell_type": "markdown",
   "id": "70f63e38",
   "metadata": {},
   "source": [
    "# tes cnn"
   ]
  },
  {
   "cell_type": "code",
   "execution_count": 27,
   "id": "574715b7",
   "metadata": {},
   "outputs": [
    {
     "name": "stdout",
     "output_type": "stream",
     "text": [
      "1/1 [==============================] - 0s 28ms/step\n",
      "Result is --> [[9.6710968e-01 1.0293041e-03 3.6442669e-03 4.6739902e-04 2.7282338e-04\n",
      "  1.5571671e-04 6.8867472e-03 2.0046040e-02 5.5563046e-06 3.8255961e-04]]\n",
      "your leaf disease is --> Tomato___Bacterial_spot\n"
     ]
    }
   ],
   "source": [
    "#path=input(\"Enter your image path-: \")\n",
    "def testing(path):\n",
    "    test_image=load_img(path,target_size=(128,128))\n",
    "    #print(test_image)\n",
    "    test_image=img_to_array(test_image)\n",
    "    test_image=np.expand_dims(test_image,axis=0)\n",
    "    result = cnn_model.predict(test_image)\n",
    "\n",
    "    label2=label[result.argmax()]\n",
    "    print(f\"Result is --> {result}\")\n",
    "    print(f\"your leaf disease is --> {label2}\")\n",
    "#testing(input(\"Enter your image path-: \"))\n",
    "path='data_penyakit/tomat/tomato-bacterial-spot-1.JPG'\n",
    "testing(path)"
   ]
  },
  {
   "cell_type": "code",
   "execution_count": 28,
   "id": "9db55db7",
   "metadata": {},
   "outputs": [
    {
     "name": "stdout",
     "output_type": "stream",
     "text": [
      "1/1 [==============================] - 0s 30ms/step\n",
      "Your leaf disease is --> Tomato___Septoria_leaf_spot\n",
      "\n",
      "\n",
      "1/1 [==============================] - 0s 30ms/step\n",
      "Your leaf disease is --> Tomato___healthy\n",
      "\n",
      "\n",
      "1/1 [==============================] - 0s 30ms/step\n",
      "Your leaf disease is --> Tomato___Spider_mites Two-spotted_spider_mite\n",
      "\n",
      "\n",
      "1/1 [==============================] - 0s 29ms/step\n",
      "Your leaf disease is --> Tomato___Tomato_Yellow_Leaf_Curl_Virus\n",
      "\n",
      "\n",
      "1/1 [==============================] - 0s 29ms/step\n",
      "Your leaf disease is --> Tomato___Bacterial_spot\n",
      "\n",
      "\n",
      "1/1 [==============================] - 0s 22ms/step\n",
      "Your leaf disease is --> Tomato___Early_blight\n",
      "\n",
      "\n",
      "1/1 [==============================] - 0s 55ms/step\n",
      "Your leaf disease is --> Tomato___Early_blight\n",
      "\n",
      "\n",
      "1/1 [==============================] - 0s 24ms/step\n",
      "Your leaf disease is --> Tomato___Bacterial_spot\n",
      "\n",
      "\n",
      "1/1 [==============================] - 0s 41ms/step\n",
      "Your leaf disease is --> Tomato___Tomato_Yellow_Leaf_Curl_Virus\n",
      "\n",
      "\n",
      "1/1 [==============================] - 0s 26ms/step\n",
      "Your leaf disease is --> Tomato___Bacterial_spot\n",
      "\n",
      "\n",
      "1/1 [==============================] - 0s 34ms/step\n",
      "Your leaf disease is --> Tomato___healthy\n",
      "\n",
      "\n",
      "1/1 [==============================] - 0s 75ms/step\n",
      "Your leaf disease is --> Tomato___Spider_mites Two-spotted_spider_mite\n",
      "\n",
      "\n",
      "1/1 [==============================] - 0s 20ms/step\n",
      "Your leaf disease is --> Tomato___Spider_mites Two-spotted_spider_mite\n",
      "\n",
      "\n",
      "1/1 [==============================] - 0s 43ms/step\n",
      "Your leaf disease is --> Tomato___Bacterial_spot\n",
      "\n",
      "\n",
      "1/1 [==============================] - 0s 23ms/step\n",
      "Your leaf disease is --> Tomato___Tomato_Yellow_Leaf_Curl_Virus\n",
      "\n",
      "\n",
      "1/1 [==============================] - 0s 34ms/step\n",
      "Your leaf disease is --> Tomato___healthy\n",
      "\n",
      "\n",
      "1/1 [==============================] - 0s 29ms/step\n",
      "Your leaf disease is --> Tomato___healthy\n",
      "\n",
      "\n",
      "1/1 [==============================] - 0s 29ms/step\n",
      "Your leaf disease is --> Tomato___Septoria_leaf_spot\n",
      "\n",
      "\n",
      "1/1 [==============================] - 0s 32ms/step\n",
      "Your leaf disease is --> Tomato___Tomato_Yellow_Leaf_Curl_Virus\n",
      "\n",
      "\n",
      "1/1 [==============================] - 0s 39ms/step\n",
      "Your leaf disease is --> Tomato___Bacterial_spot\n",
      "\n",
      "\n",
      "1/1 [==============================] - 0s 24ms/step\n",
      "Your leaf disease is --> Tomato___Spider_mites Two-spotted_spider_mite\n",
      "\n",
      "\n",
      "Cannot open .DS_Store\n",
      "\n",
      "\n",
      "1/1 [==============================] - 0s 36ms/step\n",
      "Your leaf disease is --> Tomato___Early_blight\n",
      "\n",
      "\n",
      "1/1 [==============================] - 0s 23ms/step\n",
      "Your leaf disease is --> Tomato___Bacterial_spot\n",
      "\n",
      "\n",
      "1/1 [==============================] - 0s 25ms/step\n",
      "Your leaf disease is --> Tomato___Tomato_Yellow_Leaf_Curl_Virus\n",
      "\n",
      "\n",
      "1/1 [==============================] - 0s 70ms/step\n",
      "Your leaf disease is --> Tomato___Spider_mites Two-spotted_spider_mite\n",
      "\n",
      "\n",
      "1/1 [==============================] - 0s 43ms/step\n",
      "Your leaf disease is --> Tomato___Late_blight\n",
      "\n",
      "\n",
      "1/1 [==============================] - 0s 24ms/step\n",
      "Your leaf disease is --> Tomato___healthy\n",
      "\n",
      "\n",
      "1/1 [==============================] - 0s 28ms/step\n",
      "Your leaf disease is --> Tomato___healthy\n",
      "\n",
      "\n",
      "1/1 [==============================] - 0s 43ms/step\n",
      "Your leaf disease is --> Tomato___Septoria_leaf_spot\n",
      "\n",
      "\n",
      "1/1 [==============================] - 0s 25ms/step\n",
      "Your leaf disease is --> Tomato___Spider_mites Two-spotted_spider_mite\n",
      "\n",
      "\n",
      "1/1 [==============================] - 0s 29ms/step\n",
      "Your leaf disease is --> Tomato___Tomato_Yellow_Leaf_Curl_Virus\n",
      "\n",
      "\n",
      "1/1 [==============================] - 0s 40ms/step\n",
      "Your leaf disease is --> Tomato___Bacterial_spot\n",
      "\n",
      "\n",
      "1/1 [==============================] - 0s 26ms/step\n",
      "Your leaf disease is --> Tomato___Late_blight\n",
      "\n",
      "\n",
      "1/1 [==============================] - 0s 27ms/step\n",
      "Your leaf disease is --> Tomato___Spider_mites Two-spotted_spider_mite\n",
      "\n",
      "\n",
      "1/1 [==============================] - 0s 36ms/step\n",
      "Your leaf disease is --> Tomato___Septoria_leaf_spot\n",
      "\n",
      "\n",
      "1/1 [==============================] - 0s 31ms/step\n",
      "Your leaf disease is --> Tomato___healthy\n",
      "\n",
      "\n",
      "1/1 [==============================] - 0s 47ms/step\n",
      "Your leaf disease is --> Tomato___Late_blight\n",
      "\n",
      "\n",
      "1/1 [==============================] - 0s 81ms/step\n",
      "Your leaf disease is --> Tomato___healthy\n",
      "\n",
      "\n",
      "1/1 [==============================] - 0s 29ms/step\n",
      "Your leaf disease is --> Tomato___Target_Spot\n",
      "\n",
      "\n",
      "1/1 [==============================] - 0s 24ms/step\n",
      "Your leaf disease is --> Tomato___Late_blight\n",
      "\n",
      "\n",
      "1/1 [==============================] - 0s 40ms/step\n",
      "Your leaf disease is --> Tomato___healthy\n",
      "\n",
      "\n",
      "1/1 [==============================] - 0s 27ms/step\n",
      "Your leaf disease is --> Tomato___Late_blight\n",
      "\n",
      "\n",
      "1/1 [==============================] - 0s 32ms/step\n",
      "Your leaf disease is --> Tomato___Late_blight\n",
      "\n",
      "\n",
      "1/1 [==============================] - 0s 50ms/step\n",
      "Your leaf disease is --> Tomato___Target_Spot\n",
      "\n",
      "\n",
      "1/1 [==============================] - 0s 25ms/step\n",
      "Your leaf disease is --> Tomato___Target_Spot\n",
      "\n",
      "\n",
      "1/1 [==============================] - 0s 65ms/step\n",
      "Your leaf disease is --> Tomato___Late_blight\n",
      "\n",
      "\n",
      "1/1 [==============================] - 0s 26ms/step\n",
      "Your leaf disease is --> Tomato___Late_blight\n",
      "\n",
      "\n",
      "1/1 [==============================] - 0s 28ms/step\n",
      "Your leaf disease is --> Tomato___Target_Spot\n",
      "\n",
      "\n",
      "1/1 [==============================] - 0s 31ms/step\n",
      "Your leaf disease is --> Tomato___Leaf_Mold\n",
      "\n",
      "\n",
      "1/1 [==============================] - 0s 28ms/step\n",
      "Your leaf disease is --> Tomato___Leaf_Mold\n",
      "\n",
      "\n",
      "1/1 [==============================] - 0s 40ms/step\n",
      "Your leaf disease is --> Tomato___Septoria_leaf_spot\n",
      "\n",
      "\n",
      "1/1 [==============================] - 0s 37ms/step\n",
      "Your leaf disease is --> Tomato___Leaf_Mold\n",
      "\n",
      "\n",
      "1/1 [==============================] - 0s 49ms/step\n",
      "Your leaf disease is --> Tomato___Leaf_Mold\n",
      "\n",
      "\n",
      "1/1 [==============================] - 0s 32ms/step\n",
      "Your leaf disease is --> Tomato___Early_blight\n",
      "\n",
      "\n",
      "1/1 [==============================] - 0s 36ms/step\n",
      "Your leaf disease is --> Tomato___Tomato_mosaic_virus\n",
      "\n",
      "\n",
      "1/1 [==============================] - 0s 28ms/step\n",
      "Your leaf disease is --> Tomato___Tomato_mosaic_virus\n",
      "\n",
      "\n",
      "1/1 [==============================] - 0s 43ms/step\n",
      "Your leaf disease is --> Tomato___Tomato_mosaic_virus\n",
      "\n",
      "\n",
      "1/1 [==============================] - 0s 28ms/step\n",
      "Your leaf disease is --> Tomato___Tomato_mosaic_virus\n",
      "\n",
      "\n",
      "1/1 [==============================] - 0s 42ms/step\n",
      "Your leaf disease is --> Tomato___Tomato_mosaic_virus\n",
      "\n",
      "\n",
      "1/1 [==============================] - 0s 30ms/step\n",
      "Your leaf disease is --> Tomato___Tomato_mosaic_virus\n",
      "\n",
      "\n"
     ]
    }
   ],
   "source": [
    "import os\n",
    "\n",
    "def testing_folder_cnn(path):\n",
    "    test_image = load_img(path, target_size=(128, 128))\n",
    "    test_image = img_to_array(test_image)\n",
    "    test_image = np.expand_dims(test_image, axis=0)\n",
    "    result = cnn_model.predict(test_image)\n",
    "\n",
    "    label2 = label[result.argmax()]\n",
    "    return label2\n",
    "\n",
    "folder_path = 'data_penyakit/tomat'\n",
    "\n",
    "results = []\n",
    "for filename in os.listdir(folder_path):\n",
    "    image_path = os.path.join(folder_path, filename)\n",
    "    try:\n",
    "        label2 = testing_folder_cnn(image_path)\n",
    "        print(f\"Your leaf disease is --> {label2}\")\n",
    "        results.append({\"filename\": filename, \"disease\": label2})  # append result to list\n",
    "    except IOError:\n",
    "        print(f\"Cannot open {filename}\")\n",
    "    print(\"\\n\")\n",
    "\n",
    "df_cnn = pd.DataFrame(results)\n",
    "df_cnn.to_csv('results-cnn-tomat.csv', index=False)"
   ]
  },
  {
   "attachments": {},
   "cell_type": "markdown",
   "id": "a0599889",
   "metadata": {},
   "source": [
    "# rf"
   ]
  },
  {
   "cell_type": "code",
   "execution_count": 29,
   "id": "1e106b08",
   "metadata": {},
   "outputs": [
    {
     "name": "stdout",
     "output_type": "stream",
     "text": [
      "1/1 [==============================] - 0s 26ms/step\n",
      "Result is --> [0]\n",
      "Your leaf disease is --> Tomato___Bacterial_spot\n"
     ]
    }
   ],
   "source": [
    "def testing_rf(path, rf_classifier):\n",
    "    test_image = load_img(path, target_size=(128, 128))\n",
    "    test_image = img_to_array(test_image)\n",
    "    test_image = np.expand_dims(test_image, axis=0)\n",
    "\n",
    "    rf_features = cnn_model.predict(test_image)\n",
    "    rf_features = rf_features.reshape(rf_features.shape[0], -1)\n",
    "    result = rf_classifier.predict(rf_features)\n",
    "\n",
    "    label2 = label[result[0]]\n",
    "    print(f\"Result is --> {result}\")\n",
    "    print(f\"Your leaf disease is --> {label2}\")\n",
    "\n",
    "# testing(input(\"Enter your image path-: \"))\n",
    "path = 'data_penyakit/tomat/tomato-bacterial-spot-1.JPG'\n",
    "testing_rf(path, rf_classifier)"
   ]
  },
  {
   "cell_type": "code",
   "execution_count": 30,
   "id": "af83baf6",
   "metadata": {},
   "outputs": [
    {
     "name": "stdout",
     "output_type": "stream",
     "text": [
      "Testing image: tomato-septoria-leaf-spot-6.JPG\n",
      "1/1 [==============================] - 0s 26ms/step\n",
      "Your leaf disease is --> Tomato___Septoria_leaf_spot\n",
      "\n",
      "\n",
      "Testing image: tomato-healthy-1.JPG\n",
      "1/1 [==============================] - 0s 24ms/step\n",
      "Your leaf disease is --> Tomato___healthy\n",
      "\n",
      "\n",
      "Testing image: tomato-spider-mites-1.JPG\n",
      "1/1 [==============================] - 0s 54ms/step\n",
      "Your leaf disease is --> Tomato___Spider_mites Two-spotted_spider_mite\n",
      "\n",
      "\n",
      "Testing image: tomato-yellow-curl-3.JPG\n",
      "1/1 [==============================] - 0s 29ms/step\n",
      "Your leaf disease is --> Tomato___Tomato_Yellow_Leaf_Curl_Virus\n",
      "\n",
      "\n",
      "Testing image: tomato-bacterial-spot-4.JPG\n",
      "1/1 [==============================] - 0s 33ms/step\n",
      "Your leaf disease is --> Tomato___Bacterial_spot\n",
      "\n",
      "\n",
      "Testing image: tomato-early-blight-5.JPG\n",
      "1/1 [==============================] - 0s 23ms/step\n",
      "Your leaf disease is --> Tomato___Early_blight\n",
      "\n",
      "\n",
      "Testing image: tomato-early-blight-4.JPG\n",
      "1/1 [==============================] - 0s 52ms/step\n",
      "Your leaf disease is --> Tomato___Early_blight\n",
      "\n",
      "\n",
      "Testing image: tomato-bacterial-spot-5.JPG\n",
      "1/1 [==============================] - 0s 33ms/step\n",
      "Your leaf disease is --> Tomato___Bacterial_spot\n",
      "\n",
      "\n",
      "Testing image: tomato-yellow-curl-2.JPG\n",
      "1/1 [==============================] - 0s 72ms/step\n",
      "Your leaf disease is --> Tomato___Tomato_Yellow_Leaf_Curl_Virus\n",
      "\n",
      "\n",
      "Testing image: tomato-septoria-leaf-spot-5.JPG\n",
      "1/1 [==============================] - 0s 62ms/step\n",
      "Your leaf disease is --> Tomato___Septoria_leaf_spot\n",
      "\n",
      "\n",
      "Testing image: tomato-healthy-2.JPG\n",
      "1/1 [==============================] - 0s 95ms/step\n",
      "Your leaf disease is --> Tomato___healthy\n",
      "\n",
      "\n",
      "Testing image: tomato-spider-mites-2.JPG\n",
      "1/1 [==============================] - 0s 24ms/step\n",
      "Your leaf disease is --> Tomato___Spider_mites Two-spotted_spider_mite\n",
      "\n",
      "\n",
      "Testing image: tomato-early-blight-6.JPG\n",
      "1/1 [==============================] - 0s 43ms/step\n",
      "Your leaf disease is --> Tomato___Bacterial_spot\n",
      "\n",
      "\n",
      "Testing image: tomato-bacterial-spot-6.JPG\n",
      "1/1 [==============================] - 0s 37ms/step\n",
      "Your leaf disease is --> Tomato___Bacterial_spot\n",
      "\n",
      "\n",
      "Testing image: tomato-yellow-curl-1.JPG\n",
      "1/1 [==============================] - 0s 32ms/step\n",
      "Your leaf disease is --> Tomato___Tomato_Yellow_Leaf_Curl_Virus\n",
      "\n",
      "\n",
      "Testing image: tomato-spider-mites-3.JPG\n",
      "1/1 [==============================] - 0s 39ms/step\n",
      "Your leaf disease is --> Tomato___Target_Spot\n",
      "\n",
      "\n",
      "Testing image: tomato-healthy-3.JPG\n",
      "1/1 [==============================] - 0s 23ms/step\n",
      "Your leaf disease is --> Tomato___healthy\n",
      "\n",
      "\n",
      "Testing image: tomato-septoria-leaf-spot-4.JPG\n",
      "1/1 [==============================] - 0s 63ms/step\n",
      "Your leaf disease is --> Tomato___Septoria_leaf_spot\n",
      "\n",
      "\n",
      "Testing image: tomato-yellow-curl-5.JPG\n",
      "1/1 [==============================] - 0s 28ms/step\n",
      "Your leaf disease is --> Tomato___Tomato_Yellow_Leaf_Curl_Virus\n",
      "\n",
      "\n",
      "Testing image: tomato-bacterial-spot-2.JPG\n",
      "1/1 [==============================] - 0s 39ms/step\n",
      "Your leaf disease is --> Tomato___Bacterial_spot\n",
      "\n",
      "\n",
      "Testing image: tomato-early-blight-3.JPG\n",
      "1/1 [==============================] - 0s 39ms/step\n",
      "Your leaf disease is --> Tomato___Tomato_Yellow_Leaf_Curl_Virus\n",
      "\n",
      "\n",
      "Testing image: .DS_Store\n",
      "Cannot open .DS_Store\n",
      "\n",
      "\n",
      "Testing image: tomato-early-blight-2.JPG\n",
      "1/1 [==============================] - 0s 37ms/step\n",
      "Your leaf disease is --> Tomato___Early_blight\n",
      "\n",
      "\n",
      "Testing image: tomato-bacterial-spot-3.JPG\n",
      "1/1 [==============================] - 0s 41ms/step\n",
      "Your leaf disease is --> Tomato___Bacterial_spot\n",
      "\n",
      "\n",
      "Testing image: tomato-yellow-curl-4.JPG\n",
      "1/1 [==============================] - 0s 29ms/step\n",
      "Your leaf disease is --> Tomato___Tomato_Yellow_Leaf_Curl_Virus\n",
      "\n",
      "\n",
      "Testing image: tomato-spider-mites-6.JPG\n",
      "1/1 [==============================] - 0s 64ms/step\n",
      "Your leaf disease is --> Tomato___Spider_mites Two-spotted_spider_mite\n",
      "\n",
      "\n",
      "Testing image: tomato-septoria-leaf-spot-1.JPG\n",
      "1/1 [==============================] - 0s 30ms/step\n",
      "Your leaf disease is --> Tomato___Septoria_leaf_spot\n",
      "\n",
      "\n",
      "Testing image: tomato-healthy-6.JPG\n",
      "1/1 [==============================] - 0s 26ms/step\n",
      "Your leaf disease is --> Tomato___healthy\n",
      "\n",
      "\n",
      "Testing image: tomato-healthy-4.JPG\n",
      "1/1 [==============================] - 0s 28ms/step\n",
      "Your leaf disease is --> Tomato___healthy\n",
      "\n",
      "\n",
      "Testing image: tomato-septoria-leaf-spot-3.JPG\n",
      "1/1 [==============================] - 0s 47ms/step\n",
      "Your leaf disease is --> Tomato___Septoria_leaf_spot\n",
      "\n",
      "\n",
      "Testing image: tomato-spider-mites-4.JPG\n",
      "1/1 [==============================] - 0s 60ms/step\n",
      "Your leaf disease is --> Tomato___Spider_mites Two-spotted_spider_mite\n",
      "\n",
      "\n",
      "Testing image: tomato-yellow-curl-6.JPG\n",
      "1/1 [==============================] - 0s 77ms/step\n",
      "Your leaf disease is --> Tomato___Tomato_Yellow_Leaf_Curl_Virus\n",
      "\n",
      "\n",
      "Testing image: tomato-bacterial-spot-1.JPG\n",
      "1/1 [==============================] - 0s 29ms/step\n",
      "Your leaf disease is --> Tomato___Bacterial_spot\n",
      "\n",
      "\n",
      "Testing image: tomato-early-blight-1.JPG\n",
      "1/1 [==============================] - 0s 40ms/step\n",
      "Your leaf disease is --> Tomato___Late_blight\n",
      "\n",
      "\n",
      "Testing image: tomato-spider-mites-5.JPG\n",
      "1/1 [==============================] - 0s 24ms/step\n",
      "Your leaf disease is --> Tomato___Spider_mites Two-spotted_spider_mite\n",
      "\n",
      "\n",
      "Testing image: tomato-septoria-leaf-spot-2.JPG\n",
      "1/1 [==============================] - 0s 30ms/step\n",
      "Your leaf disease is --> Tomato___Septoria_leaf_spot\n",
      "\n",
      "\n",
      "Testing image: tomato-healthy-5.JPG\n",
      "1/1 [==============================] - 0s 44ms/step\n",
      "Your leaf disease is --> Tomato___healthy\n",
      "\n",
      "\n",
      "Testing image: tomato-late-blight-3.JPG\n",
      "1/1 [==============================] - 0s 99ms/step\n",
      "Your leaf disease is --> Tomato___Late_blight\n",
      "\n",
      "\n",
      "Testing image: tomato-target-spot-5.JPG\n",
      "1/1 [==============================] - 0s 65ms/step\n",
      "Your leaf disease is --> Tomato___Target_Spot\n",
      "\n",
      "\n",
      "Testing image: tomato-target-spot-4.JPG\n",
      "1/1 [==============================] - 0s 35ms/step\n",
      "Your leaf disease is --> Tomato___Target_Spot\n",
      "\n",
      "\n",
      "Testing image: tomato-late-blight-2.JPG\n",
      "1/1 [==============================] - 0s 37ms/step\n",
      "Your leaf disease is --> Tomato___Early_blight\n",
      "\n",
      "\n",
      "Testing image: tomato-target-spot-6.JPG\n",
      "1/1 [==============================] - 0s 35ms/step\n",
      "Your leaf disease is --> Tomato___Target_Spot\n",
      "\n",
      "\n",
      "Testing image: tomato-late-blight-1.JPG\n",
      "1/1 [==============================] - 0s 48ms/step\n",
      "Your leaf disease is --> Tomato___Late_blight\n",
      "\n",
      "\n",
      "Testing image: tomato-late-blight-5.JPG\n",
      "1/1 [==============================] - 0s 25ms/step\n",
      "Your leaf disease is --> Tomato___Late_blight\n",
      "\n",
      "\n",
      "Testing image: tomato-target-spot-3.JPG\n",
      "1/1 [==============================] - 0s 51ms/step\n",
      "Your leaf disease is --> Tomato___Target_Spot\n",
      "\n",
      "\n",
      "Testing image: tomato-target-spot-2.JPG\n",
      "1/1 [==============================] - 0s 23ms/step\n",
      "Your leaf disease is --> Tomato___Target_Spot\n",
      "\n",
      "\n",
      "Testing image: tomato-late-blight-4.JPG\n",
      "1/1 [==============================] - 0s 39ms/step\n",
      "Your leaf disease is --> Tomato___Late_blight\n",
      "\n",
      "\n",
      "Testing image: tomato-late-blight-6.JPG\n",
      "1/1 [==============================] - 0s 26ms/step\n",
      "Your leaf disease is --> Tomato___Late_blight\n",
      "\n",
      "\n",
      "Testing image: tomato-target-spot-1.JPG\n",
      "1/1 [==============================] - 0s 28ms/step\n",
      "Your leaf disease is --> Tomato___Target_Spot\n",
      "\n",
      "\n",
      "Testing image: tomato-leaf-mold-3.JPG\n",
      "1/1 [==============================] - 0s 50ms/step\n",
      "Your leaf disease is --> Tomato___Leaf_Mold\n",
      "\n",
      "\n",
      "Testing image: tomato-leaf-mold-2.JPG\n",
      "1/1 [==============================] - 0s 28ms/step\n",
      "Your leaf disease is --> Tomato___Leaf_Mold\n",
      "\n",
      "\n",
      "Testing image: tomato-leaf-mold-1.JPG\n",
      "1/1 [==============================] - 0s 40ms/step\n",
      "Your leaf disease is --> Tomato___Septoria_leaf_spot\n",
      "\n",
      "\n",
      "Testing image: tomato-leaf-mold-5.JPG\n",
      "1/1 [==============================] - 0s 29ms/step\n",
      "Your leaf disease is --> Tomato___Leaf_Mold\n",
      "\n",
      "\n",
      "Testing image: tomato-leaf-mold-4.JPG\n",
      "1/1 [==============================] - 0s 47ms/step\n",
      "Your leaf disease is --> Tomato___Leaf_Mold\n",
      "\n",
      "\n",
      "Testing image: tomato-leaf-mold-6.JPG\n",
      "1/1 [==============================] - 0s 26ms/step\n",
      "Your leaf disease is --> Tomato___Early_blight\n",
      "\n",
      "\n",
      "Testing image: tomato-mosaic-4.JPG\n",
      "1/1 [==============================] - 0s 29ms/step\n",
      "Your leaf disease is --> Tomato___Tomato_mosaic_virus\n",
      "\n",
      "\n",
      "Testing image: tomato-mosaic-5.JPG\n",
      "1/1 [==============================] - 0s 40ms/step\n",
      "Your leaf disease is --> Tomato___Tomato_mosaic_virus\n",
      "\n",
      "\n",
      "Testing image: tomato-mosaic-6.JPG\n",
      "1/1 [==============================] - 0s 30ms/step\n",
      "Your leaf disease is --> Tomato___Tomato_mosaic_virus\n",
      "\n",
      "\n",
      "Testing image: tomato-mosaic-2.JPG\n",
      "1/1 [==============================] - 0s 23ms/step\n",
      "Your leaf disease is --> Tomato___Tomato_mosaic_virus\n",
      "\n",
      "\n",
      "Testing image: tomato-mosaic-3.JPG\n",
      "1/1 [==============================] - 0s 29ms/step\n",
      "Your leaf disease is --> Tomato___Tomato_mosaic_virus\n",
      "\n",
      "\n",
      "Testing image: tomato-mosaic-1.JPG\n",
      "1/1 [==============================] - 0s 30ms/step\n",
      "Your leaf disease is --> Tomato___Tomato_mosaic_virus\n",
      "\n",
      "\n"
     ]
    }
   ],
   "source": [
    "import os\n",
    "\n",
    "def testing_folder_rf(path, rf_classifier):\n",
    "    test_image = load_img(path, target_size=(128, 128))\n",
    "    test_image = img_to_array(test_image)\n",
    "    test_image = np.expand_dims(test_image, axis=0)\n",
    "\n",
    "    rf_features = cnn_model.predict(test_image)\n",
    "    rf_features = rf_features.reshape(rf_features.shape[0], -1)\n",
    "    result = rf_classifier.predict(rf_features)\n",
    "\n",
    "    label2 = label[result[0]]\n",
    "    return label2\n",
    "\n",
    "folder_path = 'data_penyakit/tomat'\n",
    "results = []\n",
    "\n",
    "for filename in os.listdir(folder_path):\n",
    "    image_path = os.path.join(folder_path, filename)\n",
    "    print(f\"Testing image: {filename}\")\n",
    "    try:\n",
    "        label2 = testing_folder_rf(image_path, rf_classifier)\n",
    "        print(f\"Your leaf disease is --> {label2}\")\n",
    "        results.append({\"filename\": filename, \"disease\": label2})  # append result to list\n",
    "    except IOError:\n",
    "        print(f\"Cannot open {filename}\")\n",
    "    print(\"\\n\")\n",
    "\n",
    "df_rf = pd.DataFrame(results)\n",
    "\n",
    "# Save the dataframe into a CSV file\n",
    "df_rf.to_csv('results-rf-tomat.csv', index=False)"
   ]
  }
 ],
 "metadata": {
  "kernelspec": {
   "display_name": "Python 3",
   "language": "python",
   "name": "python3"
  },
  "language_info": {
   "codemirror_mode": {
    "name": "ipython",
    "version": 3
   },
   "file_extension": ".py",
   "mimetype": "text/x-python",
   "name": "python",
   "nbconvert_exporter": "python",
   "pygments_lexer": "ipython3",
   "version": "3.9.16"
  },
  "papermill": {
   "default_parameters": {},
   "duration": 427.866819,
   "end_time": "2023-04-18T04:23:14.221900",
   "environment_variables": {},
   "exception": null,
   "input_path": "__notebook__.ipynb",
   "output_path": "__notebook__.ipynb",
   "parameters": {},
   "start_time": "2023-04-18T04:16:06.355081",
   "version": "2.4.0"
  }
 },
 "nbformat": 4,
 "nbformat_minor": 5
}
