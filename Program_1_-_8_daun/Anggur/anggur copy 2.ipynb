{
 "cells": [
  {
   "cell_type": "code",
   "execution_count": 1,
   "id": "abdc0e15",
   "metadata": {
    "_cell_guid": "b1076dfc-b9ad-4769-8c92-a6c4dae69d19",
    "_uuid": "8f2839f25d086af736a60e9eeb907d3b93b6e0e5",
    "execution": {
     "iopub.execute_input": "2023-04-18T04:16:16.085712Z",
     "iopub.status.busy": "2023-04-18T04:16:16.084964Z",
     "iopub.status.idle": "2023-04-18T04:16:25.355714Z",
     "shell.execute_reply": "2023-04-18T04:16:25.354430Z"
    },
    "papermill": {
     "duration": 9.280422,
     "end_time": "2023-04-18T04:16:25.358808",
     "exception": false,
     "start_time": "2023-04-18T04:16:16.078386",
     "status": "completed"
    },
    "tags": []
   },
   "outputs": [],
   "source": [
    "import pandas as pd\n",
    "import numpy as np\n",
    "import tensorflow as tf\n",
    "import keras\n",
    "import matplotlib.pyplot as plt\n",
    "import os\n",
    "import cv2\n",
    "from sklearn.model_selection import train_test_split\n",
    "from tqdm import tqdm  # import tqdm for progress bar "
   ]
  },
  {
   "cell_type": "code",
   "execution_count": 2,
   "id": "029fb13e",
   "metadata": {},
   "outputs": [],
   "source": [
    "target_labels = ['Grape___Black_rot', 'Grape___Esca_(Black_Measles)', 'Grape___healthy', 'Grape___Leaf_blight_(Isariopsis_Leaf_Spot)']"
   ]
  },
  {
   "cell_type": "code",
   "execution_count": 3,
   "id": "3b5aafe7",
   "metadata": {},
   "outputs": [],
   "source": [
    "main_path = 'data_penyakit/dataset/train'"
   ]
  },
  {
   "cell_type": "code",
   "execution_count": 4,
   "id": "837694ea",
   "metadata": {},
   "outputs": [],
   "source": [
    "from tensorflow.keras.preprocessing.image import load_img, img_to_array"
   ]
  },
  {
   "cell_type": "code",
   "execution_count": 5,
   "id": "2f597e77",
   "metadata": {},
   "outputs": [],
   "source": [
    "# Load the images and labels\n",
    "X = []\n",
    "y = []\n",
    "for label in target_labels:\n",
    "    label_dir = os.path.join(main_path, label)\n",
    "    for img_file in os.listdir(label_dir):\n",
    "        img_path = os.path.join(label_dir, img_file)\n",
    "        img = load_img(img_path, target_size=(128, 128))\n",
    "        img_array = img_to_array(img)\n",
    "        X.append(img_array)\n",
    "        y.append(target_labels.index(label))"
   ]
  },
  {
   "cell_type": "code",
   "execution_count": 6,
   "id": "b9dbf5f2",
   "metadata": {},
   "outputs": [],
   "source": [
    "from tensorflow.keras.utils import to_categorical"
   ]
  },
  {
   "cell_type": "code",
   "execution_count": 7,
   "id": "ace077d5",
   "metadata": {},
   "outputs": [],
   "source": [
    "X = np.array(X)\n",
    "y = to_categorical(y, num_classes=len(target_labels))"
   ]
  },
  {
   "cell_type": "code",
   "execution_count": 8,
   "id": "cf364222",
   "metadata": {},
   "outputs": [
    {
     "data": {
      "text/plain": [
       "(128, 128, 3)"
      ]
     },
     "execution_count": 8,
     "metadata": {},
     "output_type": "execute_result"
    }
   ],
   "source": [
    "X[0].shape"
   ]
  },
  {
   "cell_type": "code",
   "execution_count": 9,
   "id": "f20d2562",
   "metadata": {},
   "outputs": [
    {
     "data": {
      "text/plain": [
       "(128, 128, 3)"
      ]
     },
     "execution_count": 9,
     "metadata": {},
     "output_type": "execute_result"
    }
   ],
   "source": [
    "X[0].shape"
   ]
  },
  {
   "cell_type": "code",
   "execution_count": 10,
   "id": "662f02bf",
   "metadata": {},
   "outputs": [
    {
     "data": {
      "text/plain": [
       "(7222, 128, 128, 3)"
      ]
     },
     "execution_count": 10,
     "metadata": {},
     "output_type": "execute_result"
    }
   ],
   "source": [
    "X.shape"
   ]
  },
  {
   "cell_type": "code",
   "execution_count": 11,
   "id": "2f9c331c",
   "metadata": {},
   "outputs": [
    {
     "data": {
      "text/plain": [
       "(7222, 4)"
      ]
     },
     "execution_count": 11,
     "metadata": {},
     "output_type": "execute_result"
    }
   ],
   "source": [
    "y.shape"
   ]
  },
  {
   "cell_type": "code",
   "execution_count": 12,
   "id": "baf5e6d5",
   "metadata": {},
   "outputs": [],
   "source": [
    "# Split the dataset into training and testing sets\n",
    "X_train, X_test, y_train, y_test = train_test_split(X, y, test_size=0.2, random_state=42)"
   ]
  },
  {
   "cell_type": "code",
   "execution_count": 13,
   "id": "40b67d77",
   "metadata": {},
   "outputs": [
    {
     "data": {
      "text/plain": [
       "(5777, 128, 128, 3)"
      ]
     },
     "execution_count": 13,
     "metadata": {},
     "output_type": "execute_result"
    }
   ],
   "source": [
    "X_train.shape"
   ]
  },
  {
   "cell_type": "code",
   "execution_count": 14,
   "id": "6e94256d",
   "metadata": {},
   "outputs": [
    {
     "data": {
      "text/plain": [
       "(1445, 128, 128, 3)"
      ]
     },
     "execution_count": 14,
     "metadata": {},
     "output_type": "execute_result"
    }
   ],
   "source": [
    "X_test.shape"
   ]
  },
  {
   "cell_type": "code",
   "execution_count": 15,
   "id": "b0d4c1c4",
   "metadata": {},
   "outputs": [
    {
     "data": {
      "text/plain": [
       "(5777, 4)"
      ]
     },
     "execution_count": 15,
     "metadata": {},
     "output_type": "execute_result"
    }
   ],
   "source": [
    "y_train.shape"
   ]
  },
  {
   "cell_type": "code",
   "execution_count": 16,
   "id": "c2c2d702",
   "metadata": {},
   "outputs": [
    {
     "data": {
      "text/plain": [
       "(1445, 4)"
      ]
     },
     "execution_count": 16,
     "metadata": {},
     "output_type": "execute_result"
    }
   ],
   "source": [
    "y_test.shape"
   ]
  },
  {
   "cell_type": "code",
   "execution_count": 17,
   "id": "5e41a857",
   "metadata": {
    "execution": {
     "iopub.execute_input": "2023-04-18T04:16:25.367398Z",
     "iopub.status.busy": "2023-04-18T04:16:25.366661Z",
     "iopub.status.idle": "2023-04-18T04:16:25.924165Z",
     "shell.execute_reply": "2023-04-18T04:16:25.922865Z"
    },
    "papermill": {
     "duration": 0.564776,
     "end_time": "2023-04-18T04:16:25.927003",
     "exception": false,
     "start_time": "2023-04-18T04:16:25.362227",
     "status": "completed"
    },
    "tags": []
   },
   "outputs": [],
   "source": [
    "from keras.layers import Conv2D\n",
    "from keras.layers import MaxPooling2D\n",
    "from keras.layers import Flatten\n",
    "from keras.layers import Dense\n",
    "from keras.layers import Dropout\n",
    "from keras.layers import BatchNormalization\n",
    "from keras.models import Sequential"
   ]
  },
  {
   "cell_type": "code",
   "execution_count": 18,
   "id": "09879ed9",
   "metadata": {},
   "outputs": [
    {
     "data": {
      "text/plain": [
       "4"
      ]
     },
     "execution_count": 18,
     "metadata": {},
     "output_type": "execute_result"
    }
   ],
   "source": [
    "len(target_labels)"
   ]
  },
  {
   "cell_type": "code",
   "execution_count": 19,
   "id": "da588d2f",
   "metadata": {},
   "outputs": [],
   "source": [
    "cnn_model = Sequential()\n",
    "cnn_model.add(Conv2D(128, kernel_size= (3,3), activation = 'relu',input_shape=(128,128,3)))\n",
    "cnn_model.add(MaxPooling2D(pool_size =(2,2,)))\n",
    "cnn_model.add(BatchNormalization())\n",
    "cnn_model.add(Conv2D(64,kernel_size= (3,3), activation = 'relu'))\n",
    "cnn_model.add(MaxPooling2D(pool_size =(2,2,)))\n",
    "cnn_model.add(BatchNormalization())\n",
    "cnn_model.add(Conv2D(32,kernel_size= (3,3), activation = 'relu'))\n",
    "cnn_model.add(MaxPooling2D(pool_size =(2,2,)))\n",
    "cnn_model.add(BatchNormalization())\n",
    "cnn_model.add(Conv2D(16,kernel_size= (3,3), activation = 'relu'))\n",
    "cnn_model.add(MaxPooling2D(pool_size =(2,2,)))\n",
    "cnn_model.add(BatchNormalization())\n",
    "\n",
    "cnn_model.add(Flatten())\n",
    "cnn_model.add(Dense(128, activation = 'relu'))\n",
    "cnn_model.add(Dropout(0.3))\n",
    "cnn_model.add(Dense(len(target_labels), activation='softmax'))\n",
    "cnn_model.compile(loss='categorical_crossentropy', optimizer='sgd', metrics=['accuracy'])"
   ]
  },
  {
   "cell_type": "code",
   "execution_count": 20,
   "id": "714c6d19",
   "metadata": {},
   "outputs": [
    {
     "name": "stdout",
     "output_type": "stream",
     "text": [
      "Model: \"sequential\"\n",
      "_________________________________________________________________\n",
      " Layer (type)                Output Shape              Param #   \n",
      "=================================================================\n",
      " conv2d (Conv2D)             (None, 126, 126, 128)     3584      \n",
      "                                                                 \n",
      " max_pooling2d (MaxPooling2D  (None, 63, 63, 128)      0         \n",
      " )                                                               \n",
      "                                                                 \n",
      " batch_normalization (BatchN  (None, 63, 63, 128)      512       \n",
      " ormalization)                                                   \n",
      "                                                                 \n",
      " conv2d_1 (Conv2D)           (None, 61, 61, 64)        73792     \n",
      "                                                                 \n",
      " max_pooling2d_1 (MaxPooling  (None, 30, 30, 64)       0         \n",
      " 2D)                                                             \n",
      "                                                                 \n",
      " batch_normalization_1 (Batc  (None, 30, 30, 64)       256       \n",
      " hNormalization)                                                 \n",
      "                                                                 \n",
      " conv2d_2 (Conv2D)           (None, 28, 28, 32)        18464     \n",
      "                                                                 \n",
      " max_pooling2d_2 (MaxPooling  (None, 14, 14, 32)       0         \n",
      " 2D)                                                             \n",
      "                                                                 \n",
      " batch_normalization_2 (Batc  (None, 14, 14, 32)       128       \n",
      " hNormalization)                                                 \n",
      "                                                                 \n",
      " conv2d_3 (Conv2D)           (None, 12, 12, 16)        4624      \n",
      "                                                                 \n",
      " max_pooling2d_3 (MaxPooling  (None, 6, 6, 16)         0         \n",
      " 2D)                                                             \n",
      "                                                                 \n",
      " batch_normalization_3 (Batc  (None, 6, 6, 16)         64        \n",
      " hNormalization)                                                 \n",
      "                                                                 \n",
      " flatten (Flatten)           (None, 576)               0         \n",
      "                                                                 \n",
      " dense (Dense)               (None, 128)               73856     \n",
      "                                                                 \n",
      " dropout (Dropout)           (None, 128)               0         \n",
      "                                                                 \n",
      " dense_1 (Dense)             (None, 4)                 516       \n",
      "                                                                 \n",
      "=================================================================\n",
      "Total params: 175,796\n",
      "Trainable params: 175,316\n",
      "Non-trainable params: 480\n",
      "_________________________________________________________________\n"
     ]
    }
   ],
   "source": [
    "cnn_model.summary()"
   ]
  },
  {
   "cell_type": "code",
   "execution_count": 21,
   "id": "8823bd0d",
   "metadata": {},
   "outputs": [
    {
     "name": "stdout",
     "output_type": "stream",
     "text": [
      "Epoch 1/10\n"
     ]
    },
    {
     "name": "stderr",
     "output_type": "stream",
     "text": [
      "2023-05-30 21:50:31.048851: W tensorflow/tsl/platform/profile_utils/cpu_utils.cc:128] Failed to get CPU frequency: 0 Hz\n"
     ]
    },
    {
     "name": "stdout",
     "output_type": "stream",
     "text": [
      "181/181 [==============================] - 95s 523ms/step - loss: 0.5128 - accuracy: 0.8025 - val_loss: 2.9867 - val_accuracy: 0.4235\n",
      "Epoch 2/10\n",
      "181/181 [==============================] - 105s 579ms/step - loss: 0.2245 - accuracy: 0.9148 - val_loss: 1.4368 - val_accuracy: 0.5744\n",
      "Epoch 3/10\n",
      "181/181 [==============================] - 124s 684ms/step - loss: 0.1609 - accuracy: 0.9411 - val_loss: 0.2248 - val_accuracy: 0.9170\n",
      "Epoch 4/10\n",
      "181/181 [==============================] - 117s 645ms/step - loss: 0.1216 - accuracy: 0.9571 - val_loss: 0.3432 - val_accuracy: 0.8754\n",
      "Epoch 5/10\n",
      "181/181 [==============================] - 110s 610ms/step - loss: 0.0939 - accuracy: 0.9678 - val_loss: 0.4662 - val_accuracy: 0.8401\n",
      "Epoch 6/10\n",
      "181/181 [==============================] - 107s 592ms/step - loss: 0.0819 - accuracy: 0.9714 - val_loss: 0.0897 - val_accuracy: 0.9675\n",
      "Epoch 7/10\n",
      "181/181 [==============================] - 147s 813ms/step - loss: 0.0711 - accuracy: 0.9742 - val_loss: 0.6414 - val_accuracy: 0.8401\n",
      "Epoch 8/10\n",
      "181/181 [==============================] - 123s 678ms/step - loss: 0.0554 - accuracy: 0.9811 - val_loss: 0.0941 - val_accuracy: 0.9654\n",
      "Epoch 9/10\n",
      "181/181 [==============================] - 134s 741ms/step - loss: 0.0435 - accuracy: 0.9855 - val_loss: 0.0662 - val_accuracy: 0.9744\n",
      "Epoch 10/10\n",
      "181/181 [==============================] - 156s 862ms/step - loss: 0.0416 - accuracy: 0.9853 - val_loss: 0.0369 - val_accuracy: 0.9875\n"
     ]
    },
    {
     "data": {
      "text/plain": [
       "<keras.callbacks.History at 0x29189b310>"
      ]
     },
     "execution_count": 21,
     "metadata": {},
     "output_type": "execute_result"
    }
   ],
   "source": [
    "# Train the CNN model\n",
    "cnn_model.fit(X_train, y_train, validation_data=(X_test, y_test), epochs=10)"
   ]
  },
  {
   "cell_type": "code",
   "execution_count": 22,
   "id": "dd6f0284",
   "metadata": {},
   "outputs": [
    {
     "name": "stdout",
     "output_type": "stream",
     "text": [
      "CNN Model Accuracy: 98.75%\n"
     ]
    }
   ],
   "source": [
    "# Evaluate the performance of the trained CNN model on the test set\n",
    "cnn_scores = cnn_model.evaluate(X_test, y_test, verbose=0)\n",
    "print(\"CNN Model Accuracy: %.2f%%\" % (cnn_scores[1] * 100))"
   ]
  },
  {
   "cell_type": "code",
   "execution_count": 23,
   "id": "39cbe557",
   "metadata": {},
   "outputs": [
    {
     "data": {
      "text/plain": [
       "[0.03694421797990799, 0.9875432252883911]"
      ]
     },
     "execution_count": 23,
     "metadata": {},
     "output_type": "execute_result"
    }
   ],
   "source": [
    "cnn_scores"
   ]
  },
  {
   "cell_type": "code",
   "execution_count": 24,
   "id": "5ecd6704",
   "metadata": {},
   "outputs": [
    {
     "name": "stdout",
     "output_type": "stream",
     "text": [
      "46/46 [==============================] - 9s 198ms/step\n",
      "Accuracy: 98.75%\n",
      "Precision: 98.76%\n",
      "Recall: 98.75%\n",
      "F1 score: 98.76%\n"
     ]
    }
   ],
   "source": [
    "from sklearn.metrics import accuracy_score, precision_score, recall_score, f1_score\n",
    "\n",
    "# Use the model to predict the test dataset\n",
    "y_pred_prob = cnn_model.predict(X_test)\n",
    "\n",
    "# Convert probabilities to classes\n",
    "y_pred = np.argmax(y_pred_prob, axis=1)\n",
    "\n",
    "# If y_test is one-hot encoded, convert it to classes as well\n",
    "y_test_classes = np.argmax(y_test, axis=1)\n",
    "\n",
    "# Calculate accuracy\n",
    "accuracy = accuracy_score(y_test_classes, y_pred)\n",
    "\n",
    "# Calculate precision\n",
    "precision = precision_score(y_test_classes, y_pred, average='weighted') \n",
    "\n",
    "# Calculate recall\n",
    "recall = recall_score(y_test_classes, y_pred, average='weighted') \n",
    "\n",
    "# Calculate F1 score\n",
    "f1 = f1_score(y_test_classes, y_pred, average='weighted')\n",
    "\n",
    "# Print the metrics\n",
    "print(\"Accuracy: %.2f%%\" % (accuracy * 100))\n",
    "print(\"Precision: %.2f%%\" % (precision * 100))\n",
    "print(\"Recall: %.2f%%\" % (recall * 100))\n",
    "print(\"F1 score: %.2f%%\" % (f1 * 100))"
   ]
  },
  {
   "cell_type": "code",
   "execution_count": 25,
   "id": "2717cf9c",
   "metadata": {},
   "outputs": [
    {
     "name": "stdout",
     "output_type": "stream",
     "text": [
      "181/181 [==============================] - 35s 194ms/step\n"
     ]
    }
   ],
   "source": [
    "# Extract the features using the trained CNN model\n",
    "cnn_features = cnn_model.predict(X_train)"
   ]
  },
  {
   "attachments": {},
   "cell_type": "markdown",
   "id": "745e1329",
   "metadata": {},
   "source": [
    "# tes rf non lib"
   ]
  },
  {
   "cell_type": "code",
   "execution_count": 26,
   "id": "dc45f22a",
   "metadata": {},
   "outputs": [],
   "source": [
    "import time"
   ]
  },
  {
   "cell_type": "code",
   "execution_count": 27,
   "id": "7a28c190",
   "metadata": {},
   "outputs": [],
   "source": [
    "# import the Random Forest classifier\n",
    "from RF_Manual import RandomForest"
   ]
  },
  {
   "cell_type": "code",
   "execution_count": 28,
   "id": "804fb69e",
   "metadata": {},
   "outputs": [
    {
     "data": {
      "text/plain": [
       "RF_Manual.RandomForest"
      ]
     },
     "execution_count": 28,
     "metadata": {},
     "output_type": "execute_result"
    }
   ],
   "source": [
    "RandomForest"
   ]
  },
  {
   "cell_type": "code",
   "execution_count": 29,
   "id": "5dafecb6",
   "metadata": {},
   "outputs": [
    {
     "name": "stdout",
     "output_type": "stream",
     "text": [
      "Training time: 29.894893884658813 seconds\n"
     ]
    }
   ],
   "source": [
    "# Train a Random Forest classifier on the extracted features\n",
    "start_time = time.time()\n",
    "rf_classifier = RandomForest(n_trees=100, max_depth=42)\n",
    "rf_classifier.fit(cnn_features, np.argmax(y_train, axis=1))\n",
    "\n",
    "# count time for training\n",
    "end_time = time.time()\n",
    "training_time = end_time - start_time\n",
    "print(f\"Training time: {training_time} seconds\")"
   ]
  },
  {
   "cell_type": "code",
   "execution_count": 30,
   "id": "f33e58a4",
   "metadata": {},
   "outputs": [
    {
     "name": "stdout",
     "output_type": "stream",
     "text": [
      "46/46 [==============================] - 9s 198ms/step\n",
      "Random Forest Classifier Accuracy: 98.89%\n",
      "Random Forest Classifier Precision: 0.99\n",
      "Random Forest Classifier Recall: 0.99\n",
      "Random Forest Classifier F1 Score: 0.99\n"
     ]
    }
   ],
   "source": [
    "from sklearn.metrics import precision_score, recall_score, f1_score\n",
    "\n",
    "# Evaluate the performance of the Random Forest classifier on the test set\n",
    "rf_features = cnn_model.predict(X_test)\n",
    "rf_features = rf_features.reshape(rf_features.shape[0], -1)\n",
    "rf_predictions = rf_classifier.predict(rf_features)\n",
    "rf_accuracy = np.mean(rf_predictions == np.argmax(y_test, axis=1))\n",
    "print(\"Random Forest Classifier Accuracy: %.2f%%\" % (rf_accuracy * 100))\n",
    "\n",
    "# Calculate and print the Precision\n",
    "rf_precision = precision_score(np.argmax(y_test, axis=1), rf_predictions, average='weighted')\n",
    "print(\"Random Forest Classifier Precision: %.2f\" % rf_precision)\n",
    "\n",
    "# Calculate and print the Recall\n",
    "rf_recall = recall_score(np.argmax(y_test, axis=1), rf_predictions, average='weighted')\n",
    "print(\"Random Forest Classifier Recall: %.2f\" % rf_recall)\n",
    "\n",
    "# Calculate and print the F1 score\n",
    "rf_f1_score = f1_score(np.argmax(y_test, axis=1), rf_predictions, average='weighted')\n",
    "print(\"Random Forest Classifier F1 Score: %.2f\" % rf_f1_score)"
   ]
  },
  {
   "attachments": {},
   "cell_type": "markdown",
   "id": "762eb024",
   "metadata": {},
   "source": [
    "# tes"
   ]
  },
  {
   "cell_type": "code",
   "execution_count": 31,
   "id": "2b7d6558",
   "metadata": {},
   "outputs": [],
   "source": [
    "#Label assignment\n",
    "label=['Grape___Black_rot', \n",
    "       'Grape___Esca_(Black_Measles)', \n",
    "       'Grape___healthy', \n",
    "       'Grape___Leaf_blight_(Isariopsis_Leaf_Spot)']"
   ]
  },
  {
   "cell_type": "code",
   "execution_count": 32,
   "metadata": {},
   "outputs": [],
   "source": [
    "from tensorflow.keras.preprocessing import image"
   ]
  },
  {
   "cell_type": "code",
   "execution_count": 33,
   "id": "ac714223",
   "metadata": {},
   "outputs": [
    {
     "name": "stdout",
     "output_type": "stream",
     "text": [
      "1/1 [==============================] - 0s 39ms/step\n",
      "Result is --> [0]\n",
      "Your leaf disease is --> Grape___Black_rot\n"
     ]
    }
   ],
   "source": [
    "def testing_rf(path, rf_classifier):\n",
    "    test_image = image.load_img(path, target_size=(128, 128))\n",
    "    test_image = image.img_to_array(test_image)\n",
    "    test_image = np.expand_dims(test_image, axis=0)\n",
    "\n",
    "    rf_features = cnn_model.predict(test_image)\n",
    "    rf_features = rf_features.reshape(rf_features.shape[0], -1)\n",
    "    result = rf_classifier.predict(rf_features)\n",
    "\n",
    "    label2 = label[result[0]]\n",
    "    print(f\"Result is --> {result}\")\n",
    "    print(f\"Your leaf disease is --> {label2}\")\n",
    "\n",
    "# testing(input(\"Enter your image path-: \"))\n",
    "path = 'data_penyakit/anggur/grape-black-rot-2.JPG'\n",
    "testing_rf(path, rf_classifier)"
   ]
  },
  {
   "cell_type": "code",
   "execution_count": 34,
   "id": "8a552d58",
   "metadata": {},
   "outputs": [
    {
     "name": "stdout",
     "output_type": "stream",
     "text": [
      "Testing image: .DS_Store\n",
      "Cannot open .DS_Store\n",
      "\n",
      "\n",
      "Testing image: grape-healthy-3.JPG\n",
      "1/1 [==============================] - 0s 22ms/step\n",
      "Your leaf disease is --> Grape___healthy\n",
      "\n",
      "\n",
      "Testing image: grape-black-rot-3.JPG\n",
      "1/1 [==============================] - 0s 23ms/step\n",
      "Your leaf disease is --> Grape___Black_rot\n",
      "\n",
      "\n",
      "Testing image: grape-black-rot-2.JPG\n",
      "1/1 [==============================] - 0s 32ms/step\n",
      "Your leaf disease is --> Grape___Black_rot\n",
      "\n",
      "\n",
      "Testing image: grape-healthy-2.JPG\n",
      "1/1 [==============================] - 0s 28ms/step\n",
      "Your leaf disease is --> Grape___healthy\n",
      "\n",
      "\n",
      "Testing image: grape-black-rot-1.JPG\n",
      "1/1 [==============================] - 0s 21ms/step\n",
      "Your leaf disease is --> Grape___Black_rot\n",
      "\n",
      "\n",
      "Testing image: grape-healthy-1.JPG\n",
      "1/1 [==============================] - 0s 25ms/step\n",
      "Your leaf disease is --> Grape___healthy\n",
      "\n",
      "\n",
      "Testing image: grape-healthy-5.JPG\n",
      "1/1 [==============================] - 0s 20ms/step\n",
      "Your leaf disease is --> Grape___healthy\n",
      "\n",
      "\n",
      "Testing image: grape-black-rot-5.JPG\n",
      "1/1 [==============================] - 0s 20ms/step\n",
      "Your leaf disease is --> Grape___Black_rot\n",
      "\n",
      "\n",
      "Testing image: grape-black-rot-4.JPG\n",
      "1/1 [==============================] - 0s 24ms/step\n",
      "Your leaf disease is --> Grape___Black_rot\n",
      "\n",
      "\n",
      "Testing image: grape-healthy-4.JPG\n",
      "1/1 [==============================] - 0s 22ms/step\n",
      "Your leaf disease is --> Grape___healthy\n",
      "\n",
      "\n",
      "Testing image: grape-healthy-6.JPG\n",
      "1/1 [==============================] - 0s 19ms/step\n",
      "Your leaf disease is --> Grape___healthy\n",
      "\n",
      "\n",
      "Testing image: grape-black-rot-6.JPG\n",
      "1/1 [==============================] - 0s 21ms/step\n",
      "Your leaf disease is --> Grape___Black_rot\n",
      "\n",
      "\n",
      "Testing image: grape-leaf-blight-5.JPG\n",
      "1/1 [==============================] - 0s 30ms/step\n",
      "Your leaf disease is --> Grape___Leaf_blight_(Isariopsis_Leaf_Spot)\n",
      "\n",
      "\n",
      "Testing image: grape-leaf-blight-4.JPG\n",
      "1/1 [==============================] - 0s 30ms/step\n",
      "Your leaf disease is --> Grape___Leaf_blight_(Isariopsis_Leaf_Spot)\n",
      "\n",
      "\n",
      "Testing image: grape-leaf-blight-6.JPG\n",
      "1/1 [==============================] - 0s 22ms/step\n",
      "Your leaf disease is --> Grape___Leaf_blight_(Isariopsis_Leaf_Spot)\n",
      "\n",
      "\n",
      "Testing image: grape-leaf-blight-3.JPG\n",
      "1/1 [==============================] - 0s 20ms/step\n",
      "Your leaf disease is --> Grape___Leaf_blight_(Isariopsis_Leaf_Spot)\n",
      "\n",
      "\n",
      "Testing image: grape-leaf-blight-2.JPG\n",
      "1/1 [==============================] - 0s 19ms/step\n",
      "Your leaf disease is --> Grape___Leaf_blight_(Isariopsis_Leaf_Spot)\n",
      "\n",
      "\n",
      "Testing image: grape-leaf-blight-1.JPG\n",
      "1/1 [==============================] - 0s 24ms/step\n",
      "Your leaf disease is --> Grape___Leaf_blight_(Isariopsis_Leaf_Spot)\n",
      "\n",
      "\n",
      "Testing image: grape-esca-5.JPG\n",
      "1/1 [==============================] - 0s 21ms/step\n",
      "Your leaf disease is --> Grape___Esca_(Black_Measles)\n",
      "\n",
      "\n",
      "Testing image: grape-esca-4.JPG\n",
      "1/1 [==============================] - 0s 20ms/step\n",
      "Your leaf disease is --> Grape___Esca_(Black_Measles)\n",
      "\n",
      "\n",
      "Testing image: grape-esca-6.JPG\n",
      "1/1 [==============================] - 0s 25ms/step\n",
      "Your leaf disease is --> Grape___Esca_(Black_Measles)\n",
      "\n",
      "\n",
      "Testing image: grape-esca-3.JPG\n",
      "1/1 [==============================] - 0s 20ms/step\n",
      "Your leaf disease is --> Grape___Esca_(Black_Measles)\n",
      "\n",
      "\n",
      "Testing image: grape-esca-2.JPG\n",
      "1/1 [==============================] - 0s 25ms/step\n",
      "Your leaf disease is --> Grape___Esca_(Black_Measles)\n",
      "\n",
      "\n",
      "Testing image: grape-esca-1.JPG\n",
      "1/1 [==============================] - 0s 21ms/step\n",
      "Your leaf disease is --> Grape___Esca_(Black_Measles)\n",
      "\n",
      "\n"
     ]
    }
   ],
   "source": [
    "import os\n",
    "\n",
    "def testing_folder_rf(path, rf_classifier):\n",
    "    test_image = image.load_img(path, target_size=(128, 128))\n",
    "    test_image = image.img_to_array(test_image)\n",
    "    test_image = np.expand_dims(test_image, axis=0)\n",
    "\n",
    "    rf_features = cnn_model.predict(test_image)\n",
    "    rf_features = rf_features.reshape(rf_features.shape[0], -1)\n",
    "    result = rf_classifier.predict(rf_features)\n",
    "\n",
    "    label2 = label[result[0]]\n",
    "    return label2\n",
    "\n",
    "folder_path = 'data_penyakit/anggur'\n",
    "results = []\n",
    "\n",
    "for filename in os.listdir(folder_path):\n",
    "    image_path = os.path.join(folder_path, filename)\n",
    "    print(f\"Testing image: {filename}\")\n",
    "    try:\n",
    "        label2 = testing_folder_rf(image_path, rf_classifier)\n",
    "        print(f\"Your leaf disease is --> {label2}\")\n",
    "        results.append({\"filename\": filename, \"disease\": label2})  # append result to list\n",
    "    except IOError:\n",
    "        print(f\"Cannot open {filename}\")\n",
    "    print(\"\\n\")\n",
    "\n",
    "# df_rf = pd.DataFrame(results)\n",
    "\n",
    "# Save the dataframe into a CSV file\n",
    "# df_rf.to_csv('results-rf-anggur.csv', index=False)\n"
   ]
  }
 ],
 "metadata": {
  "kernelspec": {
   "display_name": "Python 3",
   "language": "python",
   "name": "python3"
  },
  "language_info": {
   "codemirror_mode": {
    "name": "ipython",
    "version": 3
   },
   "file_extension": ".py",
   "mimetype": "text/x-python",
   "name": "python",
   "nbconvert_exporter": "python",
   "pygments_lexer": "ipython3",
   "version": "3.9.16"
  },
  "papermill": {
   "default_parameters": {},
   "duration": 427.866819,
   "end_time": "2023-04-18T04:23:14.221900",
   "environment_variables": {},
   "exception": null,
   "input_path": "__notebook__.ipynb",
   "output_path": "__notebook__.ipynb",
   "parameters": {},
   "start_time": "2023-04-18T04:16:06.355081",
   "version": "2.4.0"
  }
 },
 "nbformat": 4,
 "nbformat_minor": 5
}
