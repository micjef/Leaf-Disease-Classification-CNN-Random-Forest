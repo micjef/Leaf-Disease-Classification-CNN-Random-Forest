{
 "cells": [
  {
   "cell_type": "code",
   "execution_count": 1,
   "id": "abdc0e15",
   "metadata": {
    "_cell_guid": "b1076dfc-b9ad-4769-8c92-a6c4dae69d19",
    "_uuid": "8f2839f25d086af736a60e9eeb907d3b93b6e0e5",
    "execution": {
     "iopub.execute_input": "2023-04-18T04:16:16.085712Z",
     "iopub.status.busy": "2023-04-18T04:16:16.084964Z",
     "iopub.status.idle": "2023-04-18T04:16:25.355714Z",
     "shell.execute_reply": "2023-04-18T04:16:25.354430Z"
    },
    "papermill": {
     "duration": 9.280422,
     "end_time": "2023-04-18T04:16:25.358808",
     "exception": false,
     "start_time": "2023-04-18T04:16:16.078386",
     "status": "completed"
    },
    "tags": []
   },
   "outputs": [],
   "source": [
    "import pandas as pd\n",
    "import numpy as np\n",
    "import tensorflow as tf\n",
    "import keras\n",
    "import matplotlib.pyplot as plt\n",
    "import os\n",
    "import cv2\n",
    "from sklearn.model_selection import train_test_split\n",
    "from tqdm import tqdm  # import tqdm for progress bar "
   ]
  },
  {
   "cell_type": "code",
   "execution_count": 2,
   "id": "029fb13e",
   "metadata": {},
   "outputs": [],
   "source": [
    "target_labels = ['Apple___Apple_scab', 'Apple___Black_rot', 'Apple___Cedar_apple_rust', 'Apple___healthy', 'Cherry_(including_sour)___healthy', 'Cherry_(including_sour)___Powdery_mildew', 'Corn_(maize)___Cercospora_leaf_spot Gray_leaf_spot', 'Corn_(maize)___Common_rust_', 'Corn_(maize)___healthy', 'Corn_(maize)___Northern_Leaf_Blight', 'Grape___Black_rot', 'Grape___Esca_(Black_Measles)', 'Grape___healthy', 'Grape___Leaf_blight_(Isariopsis_Leaf_Spot)', 'Peach___Bacterial_spot', 'Peach___healthy', 'Pepper,_bell___Bacterial_spot', 'Pepper,_bell___healthy', 'Potato___Early_blight', 'Potato___healthy', 'Potato___Late_blight', 'Strawberry___healthy', 'Strawberry___Leaf_scorch', 'Tomato___Bacterial_spot', 'Tomato___Early_blight', 'Tomato___healthy', 'Tomato___Late_blight', 'Tomato___Leaf_Mold', 'Tomato___Septoria_leaf_spot', 'Tomato___Spider_mites Two-spotted_spider_mite', 'Tomato___Target_Spot', 'Tomato___Tomato_mosaic_virus', 'Tomato___Tomato_Yellow_Leaf_Curl_Virus']"
   ]
  },
  {
   "cell_type": "code",
   "execution_count": 3,
   "id": "3b5aafe7",
   "metadata": {},
   "outputs": [],
   "source": [
    "main_path = 'data_penyakit/dataset/train'"
   ]
  },
  {
   "cell_type": "code",
   "execution_count": 4,
   "id": "837694ea",
   "metadata": {},
   "outputs": [],
   "source": [
    "from tensorflow.keras.preprocessing.image import load_img, img_to_array"
   ]
  },
  {
   "cell_type": "code",
   "execution_count": 5,
   "id": "2f597e77",
   "metadata": {},
   "outputs": [],
   "source": [
    "# Load the images and labels\n",
    "X = []\n",
    "y = []\n",
    "for label in target_labels:\n",
    "    label_dir = os.path.join(main_path, label)\n",
    "    for img_file in os.listdir(label_dir):\n",
    "        img_path = os.path.join(label_dir, img_file)\n",
    "        img = load_img(img_path, target_size=(128, 128))\n",
    "        img_array = img_to_array(img)\n",
    "        X.append(img_array)\n",
    "        y.append(target_labels.index(label))"
   ]
  },
  {
   "cell_type": "code",
   "execution_count": 6,
   "id": "b9dbf5f2",
   "metadata": {},
   "outputs": [],
   "source": [
    "from tensorflow.keras.utils import to_categorical"
   ]
  },
  {
   "cell_type": "code",
   "execution_count": 7,
   "id": "ace077d5",
   "metadata": {},
   "outputs": [],
   "source": [
    "X = np.array(X)\n",
    "y = to_categorical(y, num_classes=len(target_labels))"
   ]
  },
  {
   "cell_type": "code",
   "execution_count": 8,
   "id": "662f02bf",
   "metadata": {},
   "outputs": [
    {
     "data": {
      "text/plain": [
       "(60930, 128, 128, 3)"
      ]
     },
     "execution_count": 8,
     "metadata": {},
     "output_type": "execute_result"
    }
   ],
   "source": [
    "X.shape"
   ]
  },
  {
   "cell_type": "code",
   "execution_count": 9,
   "id": "2f9c331c",
   "metadata": {},
   "outputs": [
    {
     "data": {
      "text/plain": [
       "(60930, 33)"
      ]
     },
     "execution_count": 9,
     "metadata": {},
     "output_type": "execute_result"
    }
   ],
   "source": [
    "y.shape"
   ]
  },
  {
   "cell_type": "code",
   "execution_count": 10,
   "id": "baf5e6d5",
   "metadata": {},
   "outputs": [],
   "source": [
    "# Split the dataset into training and testing sets\n",
    "X_train, X_test, y_train, y_test = train_test_split(X, y, test_size=0.2, random_state=42)"
   ]
  },
  {
   "cell_type": "code",
   "execution_count": 11,
   "id": "40b67d77",
   "metadata": {},
   "outputs": [
    {
     "data": {
      "text/plain": [
       "(48744, 128, 128, 3)"
      ]
     },
     "execution_count": 11,
     "metadata": {},
     "output_type": "execute_result"
    }
   ],
   "source": [
    "X_train.shape"
   ]
  },
  {
   "cell_type": "code",
   "execution_count": 12,
   "id": "6e94256d",
   "metadata": {},
   "outputs": [
    {
     "data": {
      "text/plain": [
       "(12186, 128, 128, 3)"
      ]
     },
     "execution_count": 12,
     "metadata": {},
     "output_type": "execute_result"
    }
   ],
   "source": [
    "X_test.shape"
   ]
  },
  {
   "cell_type": "code",
   "execution_count": 13,
   "id": "b0d4c1c4",
   "metadata": {},
   "outputs": [
    {
     "data": {
      "text/plain": [
       "(48744, 33)"
      ]
     },
     "execution_count": 13,
     "metadata": {},
     "output_type": "execute_result"
    }
   ],
   "source": [
    "y_train.shape"
   ]
  },
  {
   "cell_type": "code",
   "execution_count": 14,
   "id": "c2c2d702",
   "metadata": {},
   "outputs": [
    {
     "data": {
      "text/plain": [
       "(12186, 33)"
      ]
     },
     "execution_count": 14,
     "metadata": {},
     "output_type": "execute_result"
    }
   ],
   "source": [
    "y_test.shape"
   ]
  },
  {
   "cell_type": "code",
   "execution_count": 15,
   "id": "5e41a857",
   "metadata": {
    "execution": {
     "iopub.execute_input": "2023-04-18T04:16:25.367398Z",
     "iopub.status.busy": "2023-04-18T04:16:25.366661Z",
     "iopub.status.idle": "2023-04-18T04:16:25.924165Z",
     "shell.execute_reply": "2023-04-18T04:16:25.922865Z"
    },
    "papermill": {
     "duration": 0.564776,
     "end_time": "2023-04-18T04:16:25.927003",
     "exception": false,
     "start_time": "2023-04-18T04:16:25.362227",
     "status": "completed"
    },
    "tags": []
   },
   "outputs": [],
   "source": [
    "from keras.layers import Conv2D\n",
    "from keras.layers import MaxPooling2D\n",
    "from keras.layers import Flatten\n",
    "from keras.layers import Dense\n",
    "from keras.layers import Dropout\n",
    "from keras.layers import BatchNormalization\n",
    "from keras.models import Sequential"
   ]
  },
  {
   "cell_type": "code",
   "execution_count": 16,
   "id": "09879ed9",
   "metadata": {},
   "outputs": [
    {
     "data": {
      "text/plain": [
       "33"
      ]
     },
     "execution_count": 16,
     "metadata": {},
     "output_type": "execute_result"
    }
   ],
   "source": [
    "len(target_labels)"
   ]
  },
  {
   "cell_type": "code",
   "execution_count": 17,
   "id": "da588d2f",
   "metadata": {},
   "outputs": [],
   "source": [
    "cnn_model = Sequential()\n",
    "cnn_model.add(Conv2D(32, kernel_size= (3,3), activation = 'relu',input_shape=(128,128,3)))\n",
    "cnn_model.add(MaxPooling2D(pool_size =(2,2,)))\n",
    "cnn_model.add(BatchNormalization())\n",
    "cnn_model.add(Conv2D(64,kernel_size= (3,3), activation = 'relu'))\n",
    "cnn_model.add(MaxPooling2D(pool_size =(2,2,)))\n",
    "cnn_model.add(BatchNormalization())\n",
    "cnn_model.add(Conv2D(64,kernel_size= (3,3), activation = 'relu'))\n",
    "cnn_model.add(MaxPooling2D(pool_size =(2,2,)))\n",
    "cnn_model.add(BatchNormalization())\n",
    "cnn_model.add(Conv2D(96,kernel_size= (3,3), activation = 'relu'))\n",
    "cnn_model.add(MaxPooling2D(pool_size =(2,2,)))\n",
    "cnn_model.add(BatchNormalization())\n",
    "cnn_model.add(Conv2D(32,kernel_size= (3,3), activation = 'relu'))\n",
    "cnn_model.add(MaxPooling2D(pool_size =(2,2,)))\n",
    "cnn_model.add(BatchNormalization())\n",
    "\n",
    "cnn_model.add(Dropout(0.2))\n",
    "cnn_model.add(Flatten())\n",
    "cnn_model.add(Dense(128, activation = 'relu'))\n",
    "cnn_model.add(Dropout(0.3))\n",
    "cnn_model.add(Dense(len(target_labels), activation='softmax'))\n",
    "cnn_model.compile(loss='categorical_crossentropy', optimizer='adam', metrics=['accuracy'])"
   ]
  },
  {
   "cell_type": "code",
   "execution_count": 18,
   "id": "8823bd0d",
   "metadata": {},
   "outputs": [
    {
     "name": "stdout",
     "output_type": "stream",
     "text": [
      "Epoch 1/10\n"
     ]
    },
    {
     "name": "stderr",
     "output_type": "stream",
     "text": [
      "2023-05-15 19:26:47.087520: W tensorflow/tsl/platform/profile_utils/cpu_utils.cc:128] Failed to get CPU frequency: 0 Hz\n"
     ]
    },
    {
     "name": "stdout",
     "output_type": "stream",
     "text": [
      "1524/1524 [==============================] - 280s 183ms/step - loss: 1.3948 - accuracy: 0.5772 - val_loss: 0.8999 - val_accuracy: 0.7108\n",
      "Epoch 2/10\n",
      "1524/1524 [==============================] - 297s 195ms/step - loss: 0.6165 - accuracy: 0.8009 - val_loss: 0.7341 - val_accuracy: 0.7652\n",
      "Epoch 3/10\n",
      "1524/1524 [==============================] - 349s 229ms/step - loss: 0.4266 - accuracy: 0.8597 - val_loss: 0.2650 - val_accuracy: 0.9108\n",
      "Epoch 4/10\n",
      "1524/1524 [==============================] - 416s 273ms/step - loss: 0.3334 - accuracy: 0.8905 - val_loss: 0.2144 - val_accuracy: 0.9271\n",
      "Epoch 5/10\n",
      "1524/1524 [==============================] - 431s 283ms/step - loss: 0.2789 - accuracy: 0.9080 - val_loss: 0.2591 - val_accuracy: 0.9160\n",
      "Epoch 6/10\n",
      "1524/1524 [==============================] - 433s 284ms/step - loss: 0.2338 - accuracy: 0.9221 - val_loss: 0.2256 - val_accuracy: 0.9232\n",
      "Epoch 7/10\n",
      "1524/1524 [==============================] - 438s 287ms/step - loss: 0.2123 - accuracy: 0.9291 - val_loss: 0.3129 - val_accuracy: 0.9010\n",
      "Epoch 8/10\n",
      "1524/1524 [==============================] - 438s 287ms/step - loss: 0.1902 - accuracy: 0.9378 - val_loss: 0.1346 - val_accuracy: 0.9543\n",
      "Epoch 9/10\n",
      "1524/1524 [==============================] - 447s 293ms/step - loss: 0.1676 - accuracy: 0.9437 - val_loss: 0.2037 - val_accuracy: 0.9359\n",
      "Epoch 10/10\n",
      "1524/1524 [==============================] - 450s 295ms/step - loss: 0.1550 - accuracy: 0.9487 - val_loss: 0.1423 - val_accuracy: 0.9531\n"
     ]
    }
   ],
   "source": [
    "# Train the CNN model\n",
    "cnn_history = cnn_model.fit(X_train, y_train, validation_data=(X_test, y_test), epochs=10)"
   ]
  },
  {
   "cell_type": "code",
   "execution_count": 19,
   "id": "dd6f0284",
   "metadata": {},
   "outputs": [
    {
     "name": "stdout",
     "output_type": "stream",
     "text": [
      "CNN Model Accuracy: 95.31%\n"
     ]
    }
   ],
   "source": [
    "# Evaluate the performance of the trained CNN model on the test set\n",
    "cnn_scores = cnn_model.evaluate(X_test, y_test, verbose=0)\n",
    "print(\"CNN Model Accuracy: %.2f%%\" % (cnn_scores[1] * 100))"
   ]
  },
  {
   "cell_type": "code",
   "execution_count": 20,
   "id": "39cbe557",
   "metadata": {},
   "outputs": [
    {
     "data": {
      "text/plain": [
       "[0.14225374162197113, 0.9531429409980774]"
      ]
     },
     "execution_count": 20,
     "metadata": {},
     "output_type": "execute_result"
    }
   ],
   "source": [
    "cnn_scores"
   ]
  },
  {
   "cell_type": "code",
   "execution_count": 21,
   "id": "6d1de251",
   "metadata": {},
   "outputs": [
    {
     "name": "stdout",
     "output_type": "stream",
     "text": [
      "381/381 [==============================] - 30s 77ms/step\n",
      "CNN Accuracy: 95.31%\n",
      "CNN Precision: 95.50%\n",
      "CNN Recall: 95.31%\n",
      "CNN F1 score: 95.31%\n"
     ]
    }
   ],
   "source": [
    "from sklearn.metrics import accuracy_score, precision_score, recall_score, f1_score\n",
    "\n",
    "# Use the model to predict the test dataset\n",
    "y_pred_prob = cnn_model.predict(X_test)\n",
    "\n",
    "# Convert probabilities to classes\n",
    "y_pred = np.argmax(y_pred_prob, axis=1)\n",
    "\n",
    "# If y_test is one-hot encoded, convert it to classes as well\n",
    "y_test_classes = np.argmax(y_test, axis=1)\n",
    "\n",
    "# Calculate accuracy\n",
    "accuracy = accuracy_score(y_test_classes, y_pred)\n",
    "\n",
    "# Calculate precision\n",
    "precision = precision_score(y_test_classes, y_pred, average='weighted') \n",
    "\n",
    "# Calculate recall\n",
    "recall = recall_score(y_test_classes, y_pred, average='weighted') \n",
    "\n",
    "# Calculate F1 score\n",
    "f1 = f1_score(y_test_classes, y_pred, average='weighted')\n",
    "\n",
    "# Print the metrics\n",
    "print(\"CNN Accuracy: %.2f%%\" % (accuracy * 100))\n",
    "print(\"CNN Precision: %.2f%%\" % (precision * 100))\n",
    "print(\"CNN Recall: %.2f%%\" % (recall * 100))\n",
    "print(\"CNN F1 score: %.2f%%\" % (f1 * 100))"
   ]
  },
  {
   "attachments": {},
   "cell_type": "markdown",
   "id": "bff709ff",
   "metadata": {},
   "source": [
    "# RF"
   ]
  },
  {
   "cell_type": "code",
   "execution_count": 18,
   "id": "2717cf9c",
   "metadata": {},
   "outputs": [
    {
     "name": "stderr",
     "output_type": "stream",
     "text": [
      "2023-05-17 21:44:58.508728: W tensorflow/tsl/platform/profile_utils/cpu_utils.cc:128] Failed to get CPU frequency: 0 Hz\n"
     ]
    },
    {
     "name": "stdout",
     "output_type": "stream",
     "text": [
      "1524/1524 [==============================] - 79s 51ms/step\n"
     ]
    }
   ],
   "source": [
    "# Extract the features using the trained CNN model\n",
    "cnn_features = cnn_model.predict(X_train)"
   ]
  },
  {
   "cell_type": "code",
   "execution_count": 19,
   "id": "136af6d3",
   "metadata": {},
   "outputs": [],
   "source": [
    "from sklearn.ensemble import RandomForestClassifier"
   ]
  },
  {
   "cell_type": "code",
   "execution_count": 20,
   "id": "04ea4431",
   "metadata": {},
   "outputs": [
    {
     "data": {
      "text/html": [
       "<style>#sk-container-id-1 {color: black;background-color: white;}#sk-container-id-1 pre{padding: 0;}#sk-container-id-1 div.sk-toggleable {background-color: white;}#sk-container-id-1 label.sk-toggleable__label {cursor: pointer;display: block;width: 100%;margin-bottom: 0;padding: 0.3em;box-sizing: border-box;text-align: center;}#sk-container-id-1 label.sk-toggleable__label-arrow:before {content: \"▸\";float: left;margin-right: 0.25em;color: #696969;}#sk-container-id-1 label.sk-toggleable__label-arrow:hover:before {color: black;}#sk-container-id-1 div.sk-estimator:hover label.sk-toggleable__label-arrow:before {color: black;}#sk-container-id-1 div.sk-toggleable__content {max-height: 0;max-width: 0;overflow: hidden;text-align: left;background-color: #f0f8ff;}#sk-container-id-1 div.sk-toggleable__content pre {margin: 0.2em;color: black;border-radius: 0.25em;background-color: #f0f8ff;}#sk-container-id-1 input.sk-toggleable__control:checked~div.sk-toggleable__content {max-height: 200px;max-width: 100%;overflow: auto;}#sk-container-id-1 input.sk-toggleable__control:checked~label.sk-toggleable__label-arrow:before {content: \"▾\";}#sk-container-id-1 div.sk-estimator input.sk-toggleable__control:checked~label.sk-toggleable__label {background-color: #d4ebff;}#sk-container-id-1 div.sk-label input.sk-toggleable__control:checked~label.sk-toggleable__label {background-color: #d4ebff;}#sk-container-id-1 input.sk-hidden--visually {border: 0;clip: rect(1px 1px 1px 1px);clip: rect(1px, 1px, 1px, 1px);height: 1px;margin: -1px;overflow: hidden;padding: 0;position: absolute;width: 1px;}#sk-container-id-1 div.sk-estimator {font-family: monospace;background-color: #f0f8ff;border: 1px dotted black;border-radius: 0.25em;box-sizing: border-box;margin-bottom: 0.5em;}#sk-container-id-1 div.sk-estimator:hover {background-color: #d4ebff;}#sk-container-id-1 div.sk-parallel-item::after {content: \"\";width: 100%;border-bottom: 1px solid gray;flex-grow: 1;}#sk-container-id-1 div.sk-label:hover label.sk-toggleable__label {background-color: #d4ebff;}#sk-container-id-1 div.sk-serial::before {content: \"\";position: absolute;border-left: 1px solid gray;box-sizing: border-box;top: 0;bottom: 0;left: 50%;z-index: 0;}#sk-container-id-1 div.sk-serial {display: flex;flex-direction: column;align-items: center;background-color: white;padding-right: 0.2em;padding-left: 0.2em;position: relative;}#sk-container-id-1 div.sk-item {position: relative;z-index: 1;}#sk-container-id-1 div.sk-parallel {display: flex;align-items: stretch;justify-content: center;background-color: white;position: relative;}#sk-container-id-1 div.sk-item::before, #sk-container-id-1 div.sk-parallel-item::before {content: \"\";position: absolute;border-left: 1px solid gray;box-sizing: border-box;top: 0;bottom: 0;left: 50%;z-index: -1;}#sk-container-id-1 div.sk-parallel-item {display: flex;flex-direction: column;z-index: 1;position: relative;background-color: white;}#sk-container-id-1 div.sk-parallel-item:first-child::after {align-self: flex-end;width: 50%;}#sk-container-id-1 div.sk-parallel-item:last-child::after {align-self: flex-start;width: 50%;}#sk-container-id-1 div.sk-parallel-item:only-child::after {width: 0;}#sk-container-id-1 div.sk-dashed-wrapped {border: 1px dashed gray;margin: 0 0.4em 0.5em 0.4em;box-sizing: border-box;padding-bottom: 0.4em;background-color: white;}#sk-container-id-1 div.sk-label label {font-family: monospace;font-weight: bold;display: inline-block;line-height: 1.2em;}#sk-container-id-1 div.sk-label-container {text-align: center;}#sk-container-id-1 div.sk-container {/* jupyter's `normalize.less` sets `[hidden] { display: none; }` but bootstrap.min.css set `[hidden] { display: none !important; }` so we also need the `!important` here to be able to override the default hidden behavior on the sphinx rendered scikit-learn.org. See: https://github.com/scikit-learn/scikit-learn/issues/21755 */display: inline-block !important;position: relative;}#sk-container-id-1 div.sk-text-repr-fallback {display: none;}</style><div id=\"sk-container-id-1\" class=\"sk-top-container\"><div class=\"sk-text-repr-fallback\"><pre>RandomForestClassifier(random_state=42)</pre><b>In a Jupyter environment, please rerun this cell to show the HTML representation or trust the notebook. <br />On GitHub, the HTML representation is unable to render, please try loading this page with nbviewer.org.</b></div><div class=\"sk-container\" hidden><div class=\"sk-item\"><div class=\"sk-estimator sk-toggleable\"><input class=\"sk-toggleable__control sk-hidden--visually\" id=\"sk-estimator-id-1\" type=\"checkbox\" checked><label for=\"sk-estimator-id-1\" class=\"sk-toggleable__label sk-toggleable__label-arrow\">RandomForestClassifier</label><div class=\"sk-toggleable__content\"><pre>RandomForestClassifier(random_state=42)</pre></div></div></div></div></div>"
      ],
      "text/plain": [
       "RandomForestClassifier(random_state=42)"
      ]
     },
     "execution_count": 20,
     "metadata": {},
     "output_type": "execute_result"
    }
   ],
   "source": [
    "# Train a Random Forest classifier on the extracted features\n",
    "rf_classifier = RandomForestClassifier(n_estimators=100, random_state=42)\n",
    "rf_classifier.fit(cnn_features, np.argmax(y_train, axis=1))"
   ]
  },
  {
   "cell_type": "code",
   "execution_count": 21,
   "id": "a3c2e141",
   "metadata": {},
   "outputs": [
    {
     "name": "stdout",
     "output_type": "stream",
     "text": [
      "381/381 [==============================] - 18s 48ms/step\n",
      "Random Forest Classifier Accuracy: 29.29%\n",
      "Random Forest Classifier Precision: 27.90%\n",
      "Random Forest Classifier Recall: 29.29%\n",
      "Random Forest Classifier F1 Score: 27.60%\n"
     ]
    }
   ],
   "source": [
    "from sklearn.metrics import precision_score, recall_score, f1_score\n",
    "\n",
    "# Evaluate the performance of the Random Forest classifier on the test set\n",
    "rf_features = cnn_model.predict(X_test)\n",
    "rf_features = rf_features.reshape(rf_features.shape[0], -1)\n",
    "rf_predictions = rf_classifier.predict(rf_features)\n",
    "\n",
    "# Calculate and print the Accuracy\n",
    "rf_accuracy = np.mean(rf_predictions == np.argmax(y_test, axis=1))\n",
    "print(\"Random Forest Classifier Accuracy: %.2f%%\" % (rf_accuracy * 100))\n",
    "\n",
    "# Calculate and print the Precision\n",
    "rf_precision = precision_score(np.argmax(y_test, axis=1), rf_predictions, average='weighted')\n",
    "print(\"Random Forest Classifier Precision: %.2f%%\" % (rf_precision * 100))\n",
    "\n",
    "# Calculate and print the Recall\n",
    "rf_recall = recall_score(np.argmax(y_test, axis=1), rf_predictions, average='weighted')\n",
    "print(\"Random Forest Classifier Recall: %.2f%%\" % (rf_recall * 100))\n",
    "\n",
    "# Calculate and print the F1 score\n",
    "rf_f1_score = f1_score(np.argmax(y_test, axis=1), rf_predictions, average='weighted')\n",
    "print(\"Random Forest Classifier F1 Score: %.2f%%\" % (rf_f1_score * 100))"
   ]
  },
  {
   "attachments": {},
   "cell_type": "markdown",
   "id": "d487112f",
   "metadata": {},
   "source": [
    "# Tes"
   ]
  },
  {
   "cell_type": "code",
   "execution_count": 26,
   "id": "7b1f8c5a",
   "metadata": {},
   "outputs": [],
   "source": [
    "#Label assignment\n",
    "label=['Apple___Apple_scab', \n",
    "       'Apple___Black_rot', \n",
    "       'Apple___Cedar_apple_rust', \n",
    "       'Apple___healthy', \n",
    "       'Cherry_(including_sour)___healthy', \n",
    "       'Cherry_(including_sour)___Powdery_mildew', \n",
    "       'Corn_(maize)___Cercospora_leaf_spot Gray_leaf_spot', \n",
    "       'Corn_(maize)___Common_rust_', \n",
    "       'Corn_(maize)___healthy', \n",
    "       'Corn_(maize)___Northern_Leaf_Blight', \n",
    "       'Grape___Black_rot', \n",
    "       'Grape___Esca_(Black_Measles)', \n",
    "       'Grape___healthy', \n",
    "       'Grape___Leaf_blight_(Isariopsis_Leaf_Spot)', \n",
    "       'Peach___Bacterial_spot', \n",
    "       'Peach___healthy', \n",
    "       'Pepper,_bell___Bacterial_spot', \n",
    "       'Pepper,_bell___healthy', \n",
    "       'Potato___Early_blight', \n",
    "       'Potato___healthy', \n",
    "       'Potato___Late_blight', \n",
    "       'Strawberry___healthy', \n",
    "       'Strawberry___Leaf_scorch', 'Tomato___Bacterial_spot', 'Tomato___Early_blight', 'Tomato___healthy', 'Tomato___Late_blight', 'Tomato___Leaf_Mold', 'Tomato___Septoria_leaf_spot', 'Tomato___Spider_mites Two-spotted_spider_mite', 'Tomato___Target_Spot', 'Tomato___Tomato_mosaic_virus', 'Tomato___Tomato_Yellow_Leaf_Curl_Virus']"
   ]
  },
  {
   "cell_type": "code",
   "execution_count": 27,
   "id": "af3b3888",
   "metadata": {},
   "outputs": [],
   "source": [
    "from tensorflow.keras.preprocessing import image"
   ]
  },
  {
   "cell_type": "code",
   "execution_count": 41,
   "id": "1aafca1d",
   "metadata": {},
   "outputs": [
    {
     "name": "stdout",
     "output_type": "stream",
     "text": [
      "1/1 [==============================] - 0s 15ms/step\n",
      "Result is --> [[2.63115908e-07 1.07622019e-03 9.98918891e-01 2.66988498e-13\n",
      "  1.12537402e-09 2.00369304e-11 9.16327192e-09 2.05335660e-09\n",
      "  3.44800891e-18 2.81340793e-12 3.10764504e-11 2.74405111e-15\n",
      "  2.06363548e-09 1.84235926e-16 6.35832365e-09 2.18337457e-12\n",
      "  7.26870269e-07 1.24834060e-07 1.25660836e-11 7.42666106e-09\n",
      "  1.22567234e-14 2.05018904e-14 6.82602100e-11 4.36812010e-11\n",
      "  1.59527270e-11 2.66565806e-12 5.44153472e-11 1.56892038e-15\n",
      "  3.74633646e-06 1.80190593e-17 2.66315170e-09 1.33182285e-11\n",
      "  2.62267340e-13]]\n",
      "FResult is --> 0.998918890953064\n",
      "your leaf disease is --> Apple___Cedar_apple_rust\n"
     ]
    }
   ],
   "source": [
    "#path=input(\"Enter your image path-: \")\n",
    "def testing(path):\n",
    "    test_image=image.load_img(path,target_size=(128,128))\n",
    "    #print(test_image)\n",
    "    test_image=image.img_to_array(test_image)\n",
    "    test_image=np.expand_dims(test_image,axis=0)\n",
    "    result = cnn_model.predict(test_image)\n",
    "\n",
    "    #print(f\"Result is --> {result}\")\n",
    "    fresult=np.max(result)\n",
    "    label2=label[result.argmax()]\n",
    "    print(f\"Result is --> {result}\")\n",
    "    print(f\"FResult is --> {fresult}\")\n",
    "    print(f\"your leaf disease is --> {label2}\")\n",
    "#testing(input(\"Enter your image path-: \"))\n",
    "path='tes-1.JPG'\n",
    "testing(path)"
   ]
  },
  {
   "cell_type": "code",
   "execution_count": 49,
   "id": "fa8794ee",
   "metadata": {},
   "outputs": [
    {
     "name": "stdout",
     "output_type": "stream",
     "text": [
      "Testing image: AppleScab3.JPG\n",
      "1/1 [==============================] - 0s 18ms/step\n",
      "FResult is --> 0.8601953387260437\n",
      "Your leaf disease is --> Corn_(maize)___Cercospora_leaf_spot Gray_leaf_spot\n",
      "\n",
      "\n",
      "Testing image: TomatoEarlyBlight3.JPG\n",
      "1/1 [==============================] - 0s 14ms/step\n",
      "FResult is --> 0.8626644611358643\n",
      "Your leaf disease is --> Tomato___Early_blight\n",
      "\n",
      "\n",
      "Testing image: PotatoHealthy1.JPG\n",
      "1/1 [==============================] - 0s 13ms/step\n",
      "FResult is --> 0.9657799005508423\n",
      "Your leaf disease is --> Potato___healthy\n",
      "\n",
      "\n",
      "Testing image: AppleScab2.JPG\n",
      "1/1 [==============================] - 0s 14ms/step\n",
      "FResult is --> 0.9971644282341003\n",
      "Your leaf disease is --> Apple___Apple_scab\n",
      "\n",
      "\n",
      "Testing image: TomatoEarlyBlight1.JPG\n",
      "1/1 [==============================] - 0s 12ms/step\n",
      "FResult is --> 0.6627451181411743\n",
      "Your leaf disease is --> Tomato___Late_blight\n",
      "\n",
      "\n",
      "Testing image: PotatoHealthy2.JPG\n",
      "1/1 [==============================] - 0s 14ms/step\n",
      "FResult is --> 0.998801589012146\n",
      "Your leaf disease is --> Potato___healthy\n",
      "\n",
      "\n",
      "Testing image: AppleScab1.JPG\n",
      "1/1 [==============================] - 0s 13ms/step\n",
      "FResult is --> 0.9984869956970215\n",
      "Your leaf disease is --> Apple___Apple_scab\n",
      "\n",
      "\n",
      "Testing image: TomatoEarlyBlight4.JPG\n",
      "1/1 [==============================] - 0s 11ms/step\n",
      "FResult is --> 0.999910831451416\n",
      "Your leaf disease is --> Tomato___Early_blight\n",
      "\n",
      "\n",
      "Testing image: TomatoEarlyBlight5.JPG\n",
      "1/1 [==============================] - 0s 13ms/step\n",
      "FResult is --> 0.9994568228721619\n",
      "Your leaf disease is --> Tomato___Early_blight\n",
      "\n",
      "\n",
      "Testing image: TomatoEarlyBlight6.JPG\n",
      "1/1 [==============================] - 0s 12ms/step\n",
      "FResult is --> 0.7337982058525085\n",
      "Your leaf disease is --> Tomato___Spider_mites Two-spotted_spider_mite\n",
      "\n",
      "\n",
      "Testing image: PotatoEarlyBlight4.JPG\n",
      "1/1 [==============================] - 0s 12ms/step\n",
      "FResult is --> 0.9981314539909363\n",
      "Your leaf disease is --> Potato___Early_blight\n",
      "\n",
      "\n",
      "Testing image: PotatoEarlyBlight5.JPG\n",
      "1/1 [==============================] - 0s 13ms/step\n",
      "FResult is --> 0.9993460774421692\n",
      "Your leaf disease is --> Potato___Early_blight\n",
      "\n",
      "\n",
      "Testing image: PotatoEarlyBlight2.JPG\n",
      "1/1 [==============================] - 0s 12ms/step\n",
      "FResult is --> 1.0\n",
      "Your leaf disease is --> Potato___Early_blight\n",
      "\n",
      "\n",
      "Testing image: PotatoEarlyBlight3.JPG\n",
      "1/1 [==============================] - 0s 12ms/step\n",
      "FResult is --> 0.9835630059242249\n",
      "Your leaf disease is --> Potato___Early_blight\n",
      "\n",
      "\n",
      "Testing image: PotatoEarlyBlight1.JPG\n",
      "1/1 [==============================] - 0s 12ms/step\n",
      "FResult is --> 0.9999984502792358\n",
      "Your leaf disease is --> Potato___Early_blight\n",
      "\n",
      "\n",
      "Testing image: TomatoYellowCurlVirus2.JPG\n",
      "1/1 [==============================] - 0s 14ms/step\n",
      "FResult is --> 0.9999597072601318\n",
      "Your leaf disease is --> Tomato___Tomato_Yellow_Leaf_Curl_Virus\n",
      "\n",
      "\n",
      "Testing image: TomatoYellowCurlVirus3.JPG\n",
      "1/1 [==============================] - 0s 11ms/step\n",
      "FResult is --> 0.9924446940422058\n",
      "Your leaf disease is --> Tomato___Tomato_Yellow_Leaf_Curl_Virus\n",
      "\n",
      "\n",
      "Testing image: TomatoYellowCurlVirus1.JPG\n",
      "1/1 [==============================] - 0s 12ms/step\n",
      "FResult is --> 0.9962040781974792\n",
      "Your leaf disease is --> Tomato___Tomato_Yellow_Leaf_Curl_Virus\n",
      "\n",
      "\n",
      "Testing image: TomatoHealthy4.JPG\n",
      "1/1 [==============================] - 0s 12ms/step\n",
      "FResult is --> 0.929999053478241\n",
      "Your leaf disease is --> Tomato___healthy\n",
      "\n",
      "\n",
      "Testing image: TomatoYellowCurlVirus4.JPG\n",
      "1/1 [==============================] - 0s 14ms/step\n",
      "FResult is --> 0.9998763799667358\n",
      "Your leaf disease is --> Tomato___Tomato_Yellow_Leaf_Curl_Virus\n",
      "\n",
      "\n",
      "Testing image: TomatoHealthy1.JPG\n",
      "1/1 [==============================] - 0s 15ms/step\n",
      "FResult is --> 0.9998249411582947\n",
      "Your leaf disease is --> Tomato___healthy\n",
      "\n",
      "\n",
      "Testing image: TomatoYellowCurlVirus5.JPG\n",
      "1/1 [==============================] - 0s 12ms/step\n",
      "FResult is --> 0.9622450470924377\n",
      "Your leaf disease is --> Tomato___Tomato_Yellow_Leaf_Curl_Virus\n",
      "\n",
      "\n",
      "Testing image: TomatoHealthy3.JPG\n",
      "1/1 [==============================] - 0s 12ms/step\n",
      "FResult is --> 0.9989494681358337\n",
      "Your leaf disease is --> Tomato___healthy\n",
      "\n",
      "\n",
      "Testing image: TomatoHealthy2.JPG\n",
      "1/1 [==============================] - 0s 13ms/step\n",
      "FResult is --> 0.9998413324356079\n",
      "Your leaf disease is --> Tomato___healthy\n",
      "\n",
      "\n",
      "Testing image: TomatoYellowCurlVirus6.JPG\n",
      "1/1 [==============================] - 0s 12ms/step\n",
      "FResult is --> 0.9999998807907104\n",
      "Your leaf disease is --> Tomato___Tomato_Yellow_Leaf_Curl_Virus\n",
      "\n",
      "\n",
      "Testing image: ds.JPG\n",
      "1/1 [==============================] - 0s 13ms/step\n",
      "FResult is --> 0.685339629650116\n",
      "Your leaf disease is --> Tomato___Late_blight\n",
      "\n",
      "\n",
      "Testing image: AppleCedarRust2.JPG\n",
      "1/1 [==============================] - 0s 13ms/step\n",
      "FResult is --> 0.9579882621765137\n",
      "Your leaf disease is --> Apple___Cedar_apple_rust\n",
      "\n",
      "\n",
      "Testing image: CornCommonRust1.JPG\n",
      "1/1 [==============================] - 0s 13ms/step\n",
      "FResult is --> 0.9999994039535522\n",
      "Your leaf disease is --> Corn_(maize)___Common_rust_\n",
      "\n",
      "\n",
      "Testing image: AppleCedarRust3.JPG\n",
      "1/1 [==============================] - 0s 12ms/step\n",
      "FResult is --> 0.748212456703186\n",
      "Your leaf disease is --> Apple___Cedar_apple_rust\n",
      "\n",
      "\n",
      "Testing image: AppleCedarRust1.JPG\n",
      "1/1 [==============================] - 0s 12ms/step\n",
      "FResult is --> 0.998918890953064\n",
      "Your leaf disease is --> Apple___Cedar_apple_rust\n",
      "\n",
      "\n",
      "Testing image: CornCommonRust2.JPG\n",
      "1/1 [==============================] - 0s 12ms/step\n",
      "FResult is --> 1.0\n",
      "Your leaf disease is --> Corn_(maize)___Common_rust_\n",
      "\n",
      "\n",
      "Testing image: CornCommonRust3.JPG\n",
      "1/1 [==============================] - 0s 12ms/step\n",
      "FResult is --> 1.0\n",
      "Your leaf disease is --> Corn_(maize)___Common_rust_\n",
      "\n",
      "\n",
      "Testing image: AppleCedarRust4.JPG\n",
      "1/1 [==============================] - 0s 12ms/step\n",
      "FResult is --> 0.6088929176330566\n",
      "Your leaf disease is --> Corn_(maize)___Cercospora_leaf_spot Gray_leaf_spot\n",
      "\n",
      "\n"
     ]
    }
   ],
   "source": [
    "import os\n",
    "\n",
    "def testing_folder_cnn(path):\n",
    "    test_image = image.load_img(path, target_size=(128, 128))\n",
    "    test_image = image.img_to_array(test_image)\n",
    "    test_image = np.expand_dims(test_image, axis=0)\n",
    "    result = cnn_model.predict(test_image)\n",
    "\n",
    "    fresult = np.max(result)\n",
    "    label2 = label[result.argmax()]\n",
    "    return fresult, label2\n",
    "\n",
    "folder_path = 'data_penyakit/images_for_test'\n",
    "\n",
    "results = []\n",
    "for filename in os.listdir(folder_path):\n",
    "    image_path = os.path.join(folder_path, filename)\n",
    "    print(f\"Testing image: {filename}\")\n",
    "    fresult, label2 = testing_folder_cnn(image_path)\n",
    "    print(f\"FResult is --> {fresult}\")\n",
    "    print(f\"Your leaf disease is --> {label2}\")\n",
    "    print(\"\\n\")\n",
    "    \n",
    "    results.append({\n",
    "        'filename': filename,\n",
    "        'fresult': fresult,\n",
    "        'label': label2\n",
    "    })\n",
    "\n",
    "df_cnn = pd.DataFrame(results)\n",
    "df_cnn.to_csv('results-cnn.csv', index=False)"
   ]
  },
  {
   "cell_type": "code",
   "execution_count": 42,
   "metadata": {},
   "outputs": [
    {
     "name": "stdout",
     "output_type": "stream",
     "text": [
      "1/1 [==============================] - 0s 15ms/step\n",
      "Result is --> [2]\n",
      "Your leaf disease is --> Apple___Cedar_apple_rust\n"
     ]
    }
   ],
   "source": [
    "def testing_rf(path, rf_classifier):\n",
    "    test_image = image.load_img(path, target_size=(128, 128))\n",
    "    test_image = image.img_to_array(test_image)\n",
    "    test_image = np.expand_dims(test_image, axis=0)\n",
    "\n",
    "    rf_features = cnn_model.predict(test_image)\n",
    "    rf_features = rf_features.reshape(rf_features.shape[0], -1)\n",
    "    result = rf_classifier.predict(rf_features)\n",
    "\n",
    "    label2 = label[result[0]]\n",
    "    print(f\"Result is --> {result}\")\n",
    "    print(f\"Your leaf disease is --> {label2}\")\n",
    "\n",
    "# testing(input(\"Enter your image path-: \"))\n",
    "path = 'tes-1.JPG'\n",
    "testing_rf(path, rf_classifier)"
   ]
  },
  {
   "cell_type": "code",
   "execution_count": 50,
   "id": "7d638016",
   "metadata": {},
   "outputs": [
    {
     "name": "stdout",
     "output_type": "stream",
     "text": [
      "Testing image: AppleScab3.JPG\n",
      "1/1 [==============================] - 0s 17ms/step\n",
      "Your leaf disease is --> Corn_(maize)___Cercospora_leaf_spot Gray_leaf_spot\n",
      "\n",
      "\n",
      "Testing image: TomatoEarlyBlight3.JPG\n",
      "1/1 [==============================] - 0s 13ms/step\n",
      "Your leaf disease is --> Tomato___Early_blight\n",
      "\n",
      "\n",
      "Testing image: PotatoHealthy1.JPG\n",
      "1/1 [==============================] - 0s 12ms/step\n",
      "Your leaf disease is --> Potato___healthy\n",
      "\n",
      "\n",
      "Testing image: AppleScab2.JPG\n",
      "1/1 [==============================] - 0s 13ms/step\n",
      "Your leaf disease is --> Apple___Apple_scab\n",
      "\n",
      "\n",
      "Testing image: TomatoEarlyBlight1.JPG\n",
      "1/1 [==============================] - 0s 12ms/step\n",
      "Your leaf disease is --> Tomato___Late_blight\n",
      "\n",
      "\n",
      "Testing image: PotatoHealthy2.JPG\n",
      "1/1 [==============================] - 0s 11ms/step\n",
      "Your leaf disease is --> Potato___healthy\n",
      "\n",
      "\n",
      "Testing image: AppleScab1.JPG\n",
      "1/1 [==============================] - 0s 23ms/step\n",
      "Your leaf disease is --> Apple___Apple_scab\n",
      "\n",
      "\n",
      "Testing image: TomatoEarlyBlight4.JPG\n",
      "1/1 [==============================] - 0s 12ms/step\n",
      "Your leaf disease is --> Tomato___Early_blight\n",
      "\n",
      "\n",
      "Testing image: TomatoEarlyBlight5.JPG\n",
      "1/1 [==============================] - 0s 12ms/step\n",
      "Your leaf disease is --> Tomato___Early_blight\n",
      "\n",
      "\n",
      "Testing image: TomatoEarlyBlight6.JPG\n",
      "1/1 [==============================] - 0s 12ms/step\n",
      "Your leaf disease is --> Tomato___Spider_mites Two-spotted_spider_mite\n",
      "\n",
      "\n",
      "Testing image: PotatoEarlyBlight4.JPG\n",
      "1/1 [==============================] - 0s 12ms/step\n",
      "Your leaf disease is --> Potato___Early_blight\n",
      "\n",
      "\n",
      "Testing image: PotatoEarlyBlight5.JPG\n",
      "1/1 [==============================] - 0s 11ms/step\n",
      "Your leaf disease is --> Potato___Early_blight\n",
      "\n",
      "\n",
      "Testing image: PotatoEarlyBlight2.JPG\n",
      "1/1 [==============================] - 0s 12ms/step\n",
      "Your leaf disease is --> Potato___Early_blight\n",
      "\n",
      "\n",
      "Testing image: PotatoEarlyBlight3.JPG\n",
      "1/1 [==============================] - 0s 12ms/step\n",
      "Your leaf disease is --> Potato___Early_blight\n",
      "\n",
      "\n",
      "Testing image: PotatoEarlyBlight1.JPG\n",
      "1/1 [==============================] - 0s 12ms/step\n",
      "Your leaf disease is --> Potato___Early_blight\n",
      "\n",
      "\n",
      "Testing image: TomatoYellowCurlVirus2.JPG\n",
      "1/1 [==============================] - 0s 11ms/step\n",
      "Your leaf disease is --> Tomato___Tomato_Yellow_Leaf_Curl_Virus\n",
      "\n",
      "\n",
      "Testing image: TomatoYellowCurlVirus3.JPG\n",
      "1/1 [==============================] - 0s 12ms/step\n",
      "Your leaf disease is --> Tomato___Tomato_Yellow_Leaf_Curl_Virus\n",
      "\n",
      "\n",
      "Testing image: TomatoYellowCurlVirus1.JPG\n",
      "1/1 [==============================] - 0s 12ms/step\n",
      "Your leaf disease is --> Tomato___Tomato_Yellow_Leaf_Curl_Virus\n",
      "\n",
      "\n",
      "Testing image: TomatoHealthy4.JPG\n",
      "1/1 [==============================] - 0s 11ms/step\n",
      "Your leaf disease is --> Tomato___healthy\n",
      "\n",
      "\n",
      "Testing image: TomatoYellowCurlVirus4.JPG\n",
      "1/1 [==============================] - 0s 13ms/step\n",
      "Your leaf disease is --> Tomato___Tomato_Yellow_Leaf_Curl_Virus\n",
      "\n",
      "\n",
      "Testing image: TomatoHealthy1.JPG\n",
      "1/1 [==============================] - 0s 13ms/step\n",
      "Your leaf disease is --> Tomato___healthy\n",
      "\n",
      "\n",
      "Testing image: TomatoYellowCurlVirus5.JPG\n",
      "1/1 [==============================] - 0s 12ms/step\n",
      "Your leaf disease is --> Tomato___Tomato_Yellow_Leaf_Curl_Virus\n",
      "\n",
      "\n",
      "Testing image: TomatoHealthy3.JPG\n",
      "1/1 [==============================] - 0s 12ms/step\n",
      "Your leaf disease is --> Tomato___healthy\n",
      "\n",
      "\n",
      "Testing image: TomatoHealthy2.JPG\n",
      "1/1 [==============================] - 0s 12ms/step\n",
      "Your leaf disease is --> Tomato___healthy\n",
      "\n",
      "\n",
      "Testing image: TomatoYellowCurlVirus6.JPG\n",
      "1/1 [==============================] - 0s 12ms/step\n",
      "Your leaf disease is --> Tomato___Tomato_Yellow_Leaf_Curl_Virus\n",
      "\n",
      "\n",
      "Testing image: ds.JPG\n",
      "1/1 [==============================] - 0s 12ms/step\n",
      "Your leaf disease is --> Tomato___Late_blight\n",
      "\n",
      "\n",
      "Testing image: AppleCedarRust2.JPG\n",
      "1/1 [==============================] - 0s 12ms/step\n",
      "Your leaf disease is --> Apple___Cedar_apple_rust\n",
      "\n",
      "\n",
      "Testing image: CornCommonRust1.JPG\n",
      "1/1 [==============================] - 0s 11ms/step\n",
      "Your leaf disease is --> Corn_(maize)___Common_rust_\n",
      "\n",
      "\n",
      "Testing image: AppleCedarRust3.JPG\n",
      "1/1 [==============================] - 0s 12ms/step\n",
      "Your leaf disease is --> Apple___Cedar_apple_rust\n",
      "\n",
      "\n",
      "Testing image: AppleCedarRust1.JPG\n",
      "1/1 [==============================] - 0s 13ms/step\n",
      "Your leaf disease is --> Apple___Cedar_apple_rust\n",
      "\n",
      "\n",
      "Testing image: CornCommonRust2.JPG\n",
      "1/1 [==============================] - 0s 11ms/step\n",
      "Your leaf disease is --> Corn_(maize)___Common_rust_\n",
      "\n",
      "\n",
      "Testing image: CornCommonRust3.JPG\n",
      "1/1 [==============================] - 0s 12ms/step\n",
      "Your leaf disease is --> Corn_(maize)___Common_rust_\n",
      "\n",
      "\n",
      "Testing image: AppleCedarRust4.JPG\n",
      "1/1 [==============================] - 0s 12ms/step\n",
      "Your leaf disease is --> Apple___Cedar_apple_rust\n",
      "\n",
      "\n"
     ]
    }
   ],
   "source": [
    "import os\n",
    "\n",
    "def testing_folder_rf(path, rf_classifier):\n",
    "    test_image = image.load_img(path, target_size=(128, 128))\n",
    "    test_image = image.img_to_array(test_image)\n",
    "    test_image = np.expand_dims(test_image, axis=0)\n",
    "\n",
    "    rf_features = cnn_model.predict(test_image)\n",
    "    rf_features = rf_features.reshape(rf_features.shape[0], -1)\n",
    "    result = rf_classifier.predict(rf_features)\n",
    "\n",
    "    label2 = label[result[0]]\n",
    "    return label2\n",
    "\n",
    "folder_path = 'data_penyakit/images_for_test'\n",
    "results = []\n",
    "\n",
    "for filename in os.listdir(folder_path):\n",
    "    image_path = os.path.join(folder_path, filename)\n",
    "    print(f\"Testing image: {filename}\")\n",
    "    label2 = testing_folder_rf(image_path, rf_classifier)\n",
    "    print(f\"Your leaf disease is --> {label2}\")\n",
    "    print(\"\\n\")\n",
    "\n",
    "    results.append({\n",
    "        'filename': filename,\n",
    "        'label': label2\n",
    "    })\n",
    "\n",
    "df_rf = pd.DataFrame(results)\n",
    "\n",
    "# Save the dataframe into a CSV file\n",
    "df_rf.to_csv('results-rf.csv', index=False)"
   ]
  }
 ],
 "metadata": {
  "kernelspec": {
   "display_name": "Python 3",
   "language": "python",
   "name": "python3"
  },
  "language_info": {
   "codemirror_mode": {
    "name": "ipython",
    "version": 3
   },
   "file_extension": ".py",
   "mimetype": "text/x-python",
   "name": "python",
   "nbconvert_exporter": "python",
   "pygments_lexer": "ipython3",
   "version": "3.9.16"
  },
  "papermill": {
   "default_parameters": {},
   "duration": 427.866819,
   "end_time": "2023-04-18T04:23:14.221900",
   "environment_variables": {},
   "exception": null,
   "input_path": "__notebook__.ipynb",
   "output_path": "__notebook__.ipynb",
   "parameters": {},
   "start_time": "2023-04-18T04:16:06.355081",
   "version": "2.4.0"
  }
 },
 "nbformat": 4,
 "nbformat_minor": 5
}
