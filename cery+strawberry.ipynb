{
 "cells": [
  {
   "cell_type": "code",
   "execution_count": 1,
   "id": "abdc0e15",
   "metadata": {
    "_cell_guid": "b1076dfc-b9ad-4769-8c92-a6c4dae69d19",
    "_uuid": "8f2839f25d086af736a60e9eeb907d3b93b6e0e5",
    "execution": {
     "iopub.execute_input": "2023-04-18T04:16:16.085712Z",
     "iopub.status.busy": "2023-04-18T04:16:16.084964Z",
     "iopub.status.idle": "2023-04-18T04:16:25.355714Z",
     "shell.execute_reply": "2023-04-18T04:16:25.354430Z"
    },
    "papermill": {
     "duration": 9.280422,
     "end_time": "2023-04-18T04:16:25.358808",
     "exception": false,
     "start_time": "2023-04-18T04:16:16.078386",
     "status": "completed"
    },
    "tags": []
   },
   "outputs": [],
   "source": [
    "import pandas as pd\n",
    "import numpy as np\n",
    "import tensorflow as tf\n",
    "import keras\n",
    "import matplotlib.pyplot as plt\n",
    "import os\n",
    "import cv2\n",
    "from sklearn.model_selection import train_test_split\n",
    "from tqdm import tqdm  # import tqdm for progress bar "
   ]
  },
  {
   "cell_type": "code",
   "execution_count": 2,
   "id": "029fb13e",
   "metadata": {},
   "outputs": [],
   "source": [
    "target_labels = ['Cherry_(including_sour)___healthy', 'Cherry_(including_sour)___Powdery_mildew', 'Strawberry___healthy', 'Strawberry___Leaf_scorch']"
   ]
  },
  {
   "cell_type": "code",
   "execution_count": 3,
   "id": "3b5aafe7",
   "metadata": {},
   "outputs": [],
   "source": [
    "main_path = 'data_penyakit/dataset/train'"
   ]
  },
  {
   "cell_type": "code",
   "execution_count": 4,
   "id": "837694ea",
   "metadata": {},
   "outputs": [],
   "source": [
    "from tensorflow.keras.preprocessing.image import load_img, img_to_array"
   ]
  },
  {
   "cell_type": "code",
   "execution_count": 5,
   "id": "2f597e77",
   "metadata": {},
   "outputs": [],
   "source": [
    "# Load the images and labels\n",
    "X = []\n",
    "y = []\n",
    "for label in target_labels:\n",
    "    label_dir = os.path.join(main_path, label)\n",
    "    for img_file in os.listdir(label_dir):\n",
    "        img_path = os.path.join(label_dir, img_file)\n",
    "        img = load_img(img_path, target_size=(128, 128))\n",
    "        img_array = img_to_array(img)\n",
    "        X.append(img_array)\n",
    "        y.append(target_labels.index(label))"
   ]
  },
  {
   "cell_type": "code",
   "execution_count": 6,
   "id": "b9dbf5f2",
   "metadata": {},
   "outputs": [],
   "source": [
    "from tensorflow.keras.utils import to_categorical"
   ]
  },
  {
   "cell_type": "code",
   "execution_count": 7,
   "id": "ace077d5",
   "metadata": {},
   "outputs": [],
   "source": [
    "X = np.array(X)\n",
    "y = to_categorical(y, num_classes=len(target_labels))"
   ]
  },
  {
   "cell_type": "code",
   "execution_count": 8,
   "id": "662f02bf",
   "metadata": {},
   "outputs": [
    {
     "data": {
      "text/plain": [
       "(7107, 128, 128, 3)"
      ]
     },
     "execution_count": 8,
     "metadata": {},
     "output_type": "execute_result"
    }
   ],
   "source": [
    "X.shape"
   ]
  },
  {
   "cell_type": "code",
   "execution_count": 9,
   "id": "2f9c331c",
   "metadata": {},
   "outputs": [
    {
     "data": {
      "text/plain": [
       "(7107, 4)"
      ]
     },
     "execution_count": 9,
     "metadata": {},
     "output_type": "execute_result"
    }
   ],
   "source": [
    "y.shape"
   ]
  },
  {
   "cell_type": "code",
   "execution_count": 10,
   "id": "baf5e6d5",
   "metadata": {},
   "outputs": [],
   "source": [
    "# Split the dataset into training and testing sets\n",
    "X_train, X_test, y_train, y_test = train_test_split(X, y, test_size=0.2, random_state=42)"
   ]
  },
  {
   "cell_type": "code",
   "execution_count": 11,
   "id": "40b67d77",
   "metadata": {},
   "outputs": [
    {
     "data": {
      "text/plain": [
       "(5685, 128, 128, 3)"
      ]
     },
     "execution_count": 11,
     "metadata": {},
     "output_type": "execute_result"
    }
   ],
   "source": [
    "X_train.shape"
   ]
  },
  {
   "cell_type": "code",
   "execution_count": 12,
   "id": "6e94256d",
   "metadata": {},
   "outputs": [
    {
     "data": {
      "text/plain": [
       "(1422, 128, 128, 3)"
      ]
     },
     "execution_count": 12,
     "metadata": {},
     "output_type": "execute_result"
    }
   ],
   "source": [
    "X_test.shape"
   ]
  },
  {
   "cell_type": "code",
   "execution_count": 13,
   "id": "b0d4c1c4",
   "metadata": {},
   "outputs": [
    {
     "data": {
      "text/plain": [
       "(5685, 4)"
      ]
     },
     "execution_count": 13,
     "metadata": {},
     "output_type": "execute_result"
    }
   ],
   "source": [
    "y_train.shape"
   ]
  },
  {
   "cell_type": "code",
   "execution_count": 14,
   "id": "c2c2d702",
   "metadata": {},
   "outputs": [
    {
     "data": {
      "text/plain": [
       "(1422, 4)"
      ]
     },
     "execution_count": 14,
     "metadata": {},
     "output_type": "execute_result"
    }
   ],
   "source": [
    "y_test.shape"
   ]
  },
  {
   "cell_type": "code",
   "execution_count": 15,
   "id": "5e41a857",
   "metadata": {
    "execution": {
     "iopub.execute_input": "2023-04-18T04:16:25.367398Z",
     "iopub.status.busy": "2023-04-18T04:16:25.366661Z",
     "iopub.status.idle": "2023-04-18T04:16:25.924165Z",
     "shell.execute_reply": "2023-04-18T04:16:25.922865Z"
    },
    "papermill": {
     "duration": 0.564776,
     "end_time": "2023-04-18T04:16:25.927003",
     "exception": false,
     "start_time": "2023-04-18T04:16:25.362227",
     "status": "completed"
    },
    "tags": []
   },
   "outputs": [],
   "source": [
    "from keras.layers import Conv2D\n",
    "from keras.layers import MaxPooling2D\n",
    "from keras.layers import Flatten\n",
    "from keras.layers import Dense\n",
    "from keras.layers import Dropout\n",
    "from keras.layers import BatchNormalization\n",
    "from keras.models import Sequential"
   ]
  },
  {
   "cell_type": "code",
   "execution_count": 16,
   "id": "09879ed9",
   "metadata": {},
   "outputs": [
    {
     "data": {
      "text/plain": [
       "4"
      ]
     },
     "execution_count": 16,
     "metadata": {},
     "output_type": "execute_result"
    }
   ],
   "source": [
    "len(target_labels)"
   ]
  },
  {
   "cell_type": "code",
   "execution_count": 17,
   "id": "da588d2f",
   "metadata": {},
   "outputs": [],
   "source": [
    "cnn_model = Sequential()\n",
    "cnn_model.add(Conv2D(32, kernel_size= (3,3), activation = 'relu',input_shape=(128,128,3)))\n",
    "cnn_model.add(MaxPooling2D(pool_size =(2,2,)))\n",
    "cnn_model.add(BatchNormalization())\n",
    "cnn_model.add(Conv2D(64,kernel_size= (3,3), activation = 'relu'))\n",
    "cnn_model.add(MaxPooling2D(pool_size =(2,2,)))\n",
    "cnn_model.add(BatchNormalization())\n",
    "cnn_model.add(Conv2D(64,kernel_size= (3,3), activation = 'relu'))\n",
    "cnn_model.add(MaxPooling2D(pool_size =(2,2,)))\n",
    "cnn_model.add(BatchNormalization())\n",
    "cnn_model.add(Conv2D(96,kernel_size= (3,3), activation = 'relu'))\n",
    "cnn_model.add(MaxPooling2D(pool_size =(2,2,)))\n",
    "cnn_model.add(BatchNormalization())\n",
    "cnn_model.add(Conv2D(32,kernel_size= (3,3), activation = 'relu'))\n",
    "cnn_model.add(MaxPooling2D(pool_size =(2,2,)))\n",
    "cnn_model.add(BatchNormalization())\n",
    "\n",
    "cnn_model.add(Dropout(0.2))\n",
    "cnn_model.add(Flatten())\n",
    "cnn_model.add(Dense(128, activation = 'relu'))\n",
    "cnn_model.add(Dropout(0.3))\n",
    "cnn_model.add(Dense(len(target_labels), activation='softmax'))\n",
    "cnn_model.compile(loss='categorical_crossentropy', optimizer='adam', metrics=['accuracy'])"
   ]
  },
  {
   "cell_type": "code",
   "execution_count": 18,
   "id": "8823bd0d",
   "metadata": {},
   "outputs": [
    {
     "name": "stdout",
     "output_type": "stream",
     "text": [
      "Epoch 1/10\n"
     ]
    },
    {
     "name": "stderr",
     "output_type": "stream",
     "text": [
      "2023-05-13 06:15:33.119787: W tensorflow/tsl/platform/profile_utils/cpu_utils.cc:128] Failed to get CPU frequency: 0 Hz\n"
     ]
    },
    {
     "name": "stdout",
     "output_type": "stream",
     "text": [
      "178/178 [==============================] - 35s 192ms/step - loss: 0.1952 - accuracy: 0.9309 - val_loss: 0.2909 - val_accuracy: 0.9149\n",
      "Epoch 2/10\n",
      "178/178 [==============================] - 34s 192ms/step - loss: 0.0857 - accuracy: 0.9720 - val_loss: 1.7630 - val_accuracy: 0.6442\n",
      "Epoch 3/10\n",
      "178/178 [==============================] - 36s 203ms/step - loss: 0.0531 - accuracy: 0.9838 - val_loss: 0.3078 - val_accuracy: 0.9100\n",
      "Epoch 4/10\n",
      "178/178 [==============================] - 38s 214ms/step - loss: 0.0324 - accuracy: 0.9896 - val_loss: 0.0187 - val_accuracy: 0.9930\n",
      "Epoch 5/10\n",
      "178/178 [==============================] - 41s 230ms/step - loss: 0.0305 - accuracy: 0.9898 - val_loss: 2.6849 - val_accuracy: 0.5949\n",
      "Epoch 6/10\n",
      "178/178 [==============================] - 42s 236ms/step - loss: 0.0281 - accuracy: 0.9900 - val_loss: 0.1697 - val_accuracy: 0.9255\n",
      "Epoch 7/10\n",
      "178/178 [==============================] - 42s 238ms/step - loss: 0.0195 - accuracy: 0.9945 - val_loss: 0.1090 - val_accuracy: 0.9712\n",
      "Epoch 8/10\n",
      "178/178 [==============================] - 42s 238ms/step - loss: 0.0185 - accuracy: 0.9947 - val_loss: 0.0328 - val_accuracy: 0.9873\n",
      "Epoch 9/10\n",
      "178/178 [==============================] - 41s 228ms/step - loss: 0.0237 - accuracy: 0.9926 - val_loss: 0.0299 - val_accuracy: 0.9909\n",
      "Epoch 10/10\n",
      "178/178 [==============================] - 41s 228ms/step - loss: 0.0037 - accuracy: 0.9989 - val_loss: 0.0178 - val_accuracy: 0.9965\n"
     ]
    }
   ],
   "source": [
    "# Train the CNN model\n",
    "cnn_history = cnn_model.fit(X_train, y_train, validation_data=(X_test, y_test), epochs=10)"
   ]
  },
  {
   "cell_type": "code",
   "execution_count": 19,
   "id": "dd6f0284",
   "metadata": {},
   "outputs": [
    {
     "name": "stdout",
     "output_type": "stream",
     "text": [
      "CNN Model Accuracy: 99.65%\n"
     ]
    }
   ],
   "source": [
    "# Evaluate the performance of the trained CNN model on the test set\n",
    "cnn_scores = cnn_model.evaluate(X_test, y_test, verbose=0)\n",
    "print(\"CNN Model Accuracy: %.2f%%\" % (cnn_scores[1] * 100))"
   ]
  },
  {
   "cell_type": "code",
   "execution_count": 20,
   "id": "39cbe557",
   "metadata": {},
   "outputs": [
    {
     "data": {
      "text/plain": [
       "[0.01775125041604042, 0.9964838027954102]"
      ]
     },
     "execution_count": 20,
     "metadata": {},
     "output_type": "execute_result"
    }
   ],
   "source": [
    "cnn_scores"
   ]
  },
  {
   "cell_type": "code",
   "execution_count": 21,
   "id": "5ecd6704",
   "metadata": {},
   "outputs": [
    {
     "name": "stdout",
     "output_type": "stream",
     "text": [
      "45/45 [==============================] - 4s 80ms/step\n",
      "Accuracy: 99.65%\n",
      "Precision: 99.65%\n",
      "Recall: 99.65%\n",
      "F1 score: 99.65%\n"
     ]
    }
   ],
   "source": [
    "from sklearn.metrics import accuracy_score, precision_score, recall_score, f1_score\n",
    "\n",
    "# Use the model to predict the test dataset\n",
    "y_pred_prob = cnn_model.predict(X_test)\n",
    "\n",
    "# Convert probabilities to classes\n",
    "y_pred = np.argmax(y_pred_prob, axis=1)\n",
    "\n",
    "# If y_test is one-hot encoded, convert it to classes as well\n",
    "y_test_classes = np.argmax(y_test, axis=1)\n",
    "\n",
    "# Calculate accuracy\n",
    "accuracy = accuracy_score(y_test_classes, y_pred)\n",
    "\n",
    "# Calculate precision\n",
    "precision = precision_score(y_test_classes, y_pred, average='weighted') \n",
    "\n",
    "# Calculate recall\n",
    "recall = recall_score(y_test_classes, y_pred, average='weighted') \n",
    "\n",
    "# Calculate F1 score\n",
    "f1 = f1_score(y_test_classes, y_pred, average='weighted')\n",
    "\n",
    "# Print the metrics\n",
    "print(\"Accuracy: %.2f%%\" % (accuracy * 100))\n",
    "print(\"Precision: %.2f%%\" % (precision * 100))\n",
    "print(\"Recall: %.2f%%\" % (recall * 100))\n",
    "print(\"F1 score: %.2f%%\" % (f1 * 100))"
   ]
  },
  {
   "cell_type": "code",
   "execution_count": 22,
   "id": "2717cf9c",
   "metadata": {},
   "outputs": [
    {
     "name": "stdout",
     "output_type": "stream",
     "text": [
      "178/178 [==============================] - 14s 77ms/step\n"
     ]
    }
   ],
   "source": [
    "# Extract the features using the trained CNN model\n",
    "cnn_features = cnn_model.predict(X_train)"
   ]
  },
  {
   "cell_type": "code",
   "execution_count": 23,
   "id": "136af6d3",
   "metadata": {},
   "outputs": [],
   "source": [
    "from sklearn.ensemble import RandomForestClassifier"
   ]
  },
  {
   "cell_type": "code",
   "execution_count": 24,
   "id": "04ea4431",
   "metadata": {},
   "outputs": [
    {
     "data": {
      "text/html": [
       "<style>#sk-container-id-1 {color: black;background-color: white;}#sk-container-id-1 pre{padding: 0;}#sk-container-id-1 div.sk-toggleable {background-color: white;}#sk-container-id-1 label.sk-toggleable__label {cursor: pointer;display: block;width: 100%;margin-bottom: 0;padding: 0.3em;box-sizing: border-box;text-align: center;}#sk-container-id-1 label.sk-toggleable__label-arrow:before {content: \"▸\";float: left;margin-right: 0.25em;color: #696969;}#sk-container-id-1 label.sk-toggleable__label-arrow:hover:before {color: black;}#sk-container-id-1 div.sk-estimator:hover label.sk-toggleable__label-arrow:before {color: black;}#sk-container-id-1 div.sk-toggleable__content {max-height: 0;max-width: 0;overflow: hidden;text-align: left;background-color: #f0f8ff;}#sk-container-id-1 div.sk-toggleable__content pre {margin: 0.2em;color: black;border-radius: 0.25em;background-color: #f0f8ff;}#sk-container-id-1 input.sk-toggleable__control:checked~div.sk-toggleable__content {max-height: 200px;max-width: 100%;overflow: auto;}#sk-container-id-1 input.sk-toggleable__control:checked~label.sk-toggleable__label-arrow:before {content: \"▾\";}#sk-container-id-1 div.sk-estimator input.sk-toggleable__control:checked~label.sk-toggleable__label {background-color: #d4ebff;}#sk-container-id-1 div.sk-label input.sk-toggleable__control:checked~label.sk-toggleable__label {background-color: #d4ebff;}#sk-container-id-1 input.sk-hidden--visually {border: 0;clip: rect(1px 1px 1px 1px);clip: rect(1px, 1px, 1px, 1px);height: 1px;margin: -1px;overflow: hidden;padding: 0;position: absolute;width: 1px;}#sk-container-id-1 div.sk-estimator {font-family: monospace;background-color: #f0f8ff;border: 1px dotted black;border-radius: 0.25em;box-sizing: border-box;margin-bottom: 0.5em;}#sk-container-id-1 div.sk-estimator:hover {background-color: #d4ebff;}#sk-container-id-1 div.sk-parallel-item::after {content: \"\";width: 100%;border-bottom: 1px solid gray;flex-grow: 1;}#sk-container-id-1 div.sk-label:hover label.sk-toggleable__label {background-color: #d4ebff;}#sk-container-id-1 div.sk-serial::before {content: \"\";position: absolute;border-left: 1px solid gray;box-sizing: border-box;top: 0;bottom: 0;left: 50%;z-index: 0;}#sk-container-id-1 div.sk-serial {display: flex;flex-direction: column;align-items: center;background-color: white;padding-right: 0.2em;padding-left: 0.2em;position: relative;}#sk-container-id-1 div.sk-item {position: relative;z-index: 1;}#sk-container-id-1 div.sk-parallel {display: flex;align-items: stretch;justify-content: center;background-color: white;position: relative;}#sk-container-id-1 div.sk-item::before, #sk-container-id-1 div.sk-parallel-item::before {content: \"\";position: absolute;border-left: 1px solid gray;box-sizing: border-box;top: 0;bottom: 0;left: 50%;z-index: -1;}#sk-container-id-1 div.sk-parallel-item {display: flex;flex-direction: column;z-index: 1;position: relative;background-color: white;}#sk-container-id-1 div.sk-parallel-item:first-child::after {align-self: flex-end;width: 50%;}#sk-container-id-1 div.sk-parallel-item:last-child::after {align-self: flex-start;width: 50%;}#sk-container-id-1 div.sk-parallel-item:only-child::after {width: 0;}#sk-container-id-1 div.sk-dashed-wrapped {border: 1px dashed gray;margin: 0 0.4em 0.5em 0.4em;box-sizing: border-box;padding-bottom: 0.4em;background-color: white;}#sk-container-id-1 div.sk-label label {font-family: monospace;font-weight: bold;display: inline-block;line-height: 1.2em;}#sk-container-id-1 div.sk-label-container {text-align: center;}#sk-container-id-1 div.sk-container {/* jupyter's `normalize.less` sets `[hidden] { display: none; }` but bootstrap.min.css set `[hidden] { display: none !important; }` so we also need the `!important` here to be able to override the default hidden behavior on the sphinx rendered scikit-learn.org. See: https://github.com/scikit-learn/scikit-learn/issues/21755 */display: inline-block !important;position: relative;}#sk-container-id-1 div.sk-text-repr-fallback {display: none;}</style><div id=\"sk-container-id-1\" class=\"sk-top-container\"><div class=\"sk-text-repr-fallback\"><pre>RandomForestClassifier(random_state=42)</pre><b>In a Jupyter environment, please rerun this cell to show the HTML representation or trust the notebook. <br />On GitHub, the HTML representation is unable to render, please try loading this page with nbviewer.org.</b></div><div class=\"sk-container\" hidden><div class=\"sk-item\"><div class=\"sk-estimator sk-toggleable\"><input class=\"sk-toggleable__control sk-hidden--visually\" id=\"sk-estimator-id-1\" type=\"checkbox\" checked><label for=\"sk-estimator-id-1\" class=\"sk-toggleable__label sk-toggleable__label-arrow\">RandomForestClassifier</label><div class=\"sk-toggleable__content\"><pre>RandomForestClassifier(random_state=42)</pre></div></div></div></div></div>"
      ],
      "text/plain": [
       "RandomForestClassifier(random_state=42)"
      ]
     },
     "execution_count": 24,
     "metadata": {},
     "output_type": "execute_result"
    }
   ],
   "source": [
    "# Train a Random Forest classifier on the extracted features\n",
    "rf_classifier = RandomForestClassifier(n_estimators=100, random_state=42)\n",
    "rf_classifier.fit(cnn_features, np.argmax(y_train, axis=1))"
   ]
  },
  {
   "cell_type": "code",
   "execution_count": 25,
   "id": "a3c2e141",
   "metadata": {},
   "outputs": [
    {
     "name": "stdout",
     "output_type": "stream",
     "text": [
      "45/45 [==============================] - 4s 82ms/step\n",
      "Random Forest Classifier Accuracy: 99.86%\n",
      "Random Forest Classifier Precision: 1.00\n",
      "Random Forest Classifier Recall: 1.00\n",
      "Random Forest Classifier F1 Score: 1.00\n"
     ]
    }
   ],
   "source": [
    "from sklearn.metrics import precision_score, recall_score, f1_score\n",
    "\n",
    "# Evaluate the performance of the Random Forest classifier on the test set\n",
    "rf_features = cnn_model.predict(X_test)\n",
    "rf_features = rf_features.reshape(rf_features.shape[0], -1)\n",
    "rf_predictions = rf_classifier.predict(rf_features)\n",
    "rf_accuracy = np.mean(rf_predictions == np.argmax(y_test, axis=1))\n",
    "print(\"Random Forest Classifier Accuracy: %.2f%%\" % (rf_accuracy * 100))\n",
    "\n",
    "# Calculate and print the Precision\n",
    "rf_precision = precision_score(np.argmax(y_test, axis=1), rf_predictions, average='weighted')\n",
    "print(\"Random Forest Classifier Precision: %.2f\" % rf_precision)\n",
    "\n",
    "# Calculate and print the Recall\n",
    "rf_recall = recall_score(np.argmax(y_test, axis=1), rf_predictions, average='weighted')\n",
    "print(\"Random Forest Classifier Recall: %.2f\" % rf_recall)\n",
    "\n",
    "# Calculate and print the F1 score\n",
    "rf_f1_score = f1_score(np.argmax(y_test, axis=1), rf_predictions, average='weighted')\n",
    "print(\"Random Forest Classifier F1 Score: %.2f\" % rf_f1_score)"
   ]
  }
 ],
 "metadata": {
  "kernelspec": {
   "display_name": "Python 3",
   "language": "python",
   "name": "python3"
  },
  "language_info": {
   "codemirror_mode": {
    "name": "ipython",
    "version": 3
   },
   "file_extension": ".py",
   "mimetype": "text/x-python",
   "name": "python",
   "nbconvert_exporter": "python",
   "pygments_lexer": "ipython3",
   "version": "3.9.16"
  },
  "papermill": {
   "default_parameters": {},
   "duration": 427.866819,
   "end_time": "2023-04-18T04:23:14.221900",
   "environment_variables": {},
   "exception": null,
   "input_path": "__notebook__.ipynb",
   "output_path": "__notebook__.ipynb",
   "parameters": {},
   "start_time": "2023-04-18T04:16:06.355081",
   "version": "2.4.0"
  }
 },
 "nbformat": 4,
 "nbformat_minor": 5
}
